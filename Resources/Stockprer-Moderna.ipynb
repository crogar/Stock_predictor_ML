{
 "cells": [
  {
   "cell_type": "markdown",
   "metadata": {},
   "source": [
    "<h1 style=\"text-align:center;\"> LSTM for Stock Market Prediction</h1>\n",
    "<h2 style=\"text-align:center;\"> Moderna</h2>"
   ]
  },
  {
   "cell_type": "markdown",
   "metadata": {},
   "source": [
    "<p style=\"font-size:18px;color:gray;\"> <strong>Step 1:</strong> For this Predictive model we will utilize some modules that are necessary to obtain, create and visualize this predictive model such as <span class=\"py-modules\">sqlalchemy</span>, <span class=\"py-modules\">NumPy</span>, <span class=\"py-modules\">Pandas</span>, <span class=\"py-modules\">SciKitlearn</span>, <span class=\"py-modules\">MatPlotLib</span>, and <span class=\"py-modules\">Keras</span>.</p>"
   ]
  },
  {
   "cell_type": "code",
   "execution_count": 1,
   "metadata": {
    "id": "8VLZ0u3HpszS"
   },
   "outputs": [],
   "source": [
    "import math\n",
    "import numpy as np\n",
    "import pandas as pd\n",
    "pd.options.mode.chained_assignment = None  # default='warn'\n",
    "from sklearn.preprocessing import MinMaxScaler\n",
    "from keras.models import Sequential\n",
    "from keras.layers import Dense, LSTM\n",
    "import matplotlib.pyplot as plt\n",
    "import datetime as dt\n",
    "import requests\n",
    "from sqlalchemy import create_engine\n",
    "from config import password"
   ]
  },
  {
   "cell_type": "markdown",
   "metadata": {},
   "source": [
    "<p style=\"font-size:18px;color:gray;\"> <strong style=\"line-height: 0px;\">Step 2:</strong> </p> <p style=\"font-size:18px;color:gray;line-height:normal;\"> Now, we start building our model by first defining the dataset that the model will train on. We're using datasets from NASDAQ provided by <a href=\"https://finance.yahoo.com/\">https://finance.yahoo.com/</a>. For this example were using <span style=\"color:blue;\">Moderna (MRNA)</span> historical data.\n",
    "\n",
    " <p style=\"font-size:18px;color:gray;\"> After pulling the data from our SQL database we read it using the the csv built-in function included in the Pandas library.</p>"
   ]
  },
  {
   "cell_type": "code",
   "execution_count": 2,
   "metadata": {},
   "outputs": [],
   "source": [
    "# Connecting to Database\n",
    "connection_string = f\"ofygklqv:{password}@batyr.db.elephantsql.com:5432/ofygklqv\"\n",
    "engine = create_engine(f'postgresql://{connection_string}', pool_size=2, pool_recycle=1200, connect_args={'connect_timeout': 10},\n",
    "client_encoding=\"utf8\", pool_pre_ping=True)"
   ]
  },
  {
   "cell_type": "code",
   "execution_count": 3,
   "metadata": {},
   "outputs": [
    {
     "name": "stdout",
     "output_type": "stream",
     "text": [
      "(647, 7)\n"
     ]
    }
   ],
   "source": [
    "ticker = \"MRNA\"\n",
    "df = pd.read_sql_query('select * from ticker', con=engine)\n",
    "id = df[df['symbol']==ticker]['stock_id'].values[0] # returning ID for the specified ticker(symbol)\n",
    "df = pd.read_sql_query(f'select * from stock WHERE stock_id = {id}', con=engine)\n",
    "print(df.shape)\n",
    "df[\"date\"]=pd.to_datetime(df.date,format=\"%Y-%m-%d\")\n",
    "df.index = df['date']\n",
    "df = df[[\"close\"]]"
   ]
  },
  {
   "cell_type": "markdown",
   "metadata": {},
   "source": [
    "#### Sort date and close\n",
    "<p style=\"font-size:14px;color:gray;\"> Since the dates and values are in descending order we need to reverse the dataframe</p>"
   ]
  },
  {
   "cell_type": "code",
   "execution_count": 4,
   "metadata": {
    "colab": {
     "base_uri": "https://localhost:8080/",
     "height": 450
    },
    "id": "5SXWtnOXygLD",
    "outputId": "d6163956-f1e2-4d59-fafc-5fe22d7f6c56"
   },
   "outputs": [
    {
     "data": {
      "text/html": [
       "<div>\n",
       "<style scoped>\n",
       "    .dataframe tbody tr th:only-of-type {\n",
       "        vertical-align: middle;\n",
       "    }\n",
       "\n",
       "    .dataframe tbody tr th {\n",
       "        vertical-align: top;\n",
       "    }\n",
       "\n",
       "    .dataframe thead th {\n",
       "        text-align: right;\n",
       "    }\n",
       "</style>\n",
       "<table border=\"1\" class=\"dataframe\">\n",
       "  <thead>\n",
       "    <tr style=\"text-align: right;\">\n",
       "      <th></th>\n",
       "      <th>close</th>\n",
       "    </tr>\n",
       "    <tr>\n",
       "      <th>date</th>\n",
       "      <th></th>\n",
       "    </tr>\n",
       "  </thead>\n",
       "  <tbody>\n",
       "    <tr>\n",
       "      <th>2018-12-07</th>\n",
       "      <td>18.600000</td>\n",
       "    </tr>\n",
       "    <tr>\n",
       "      <th>2018-12-10</th>\n",
       "      <td>18.799999</td>\n",
       "    </tr>\n",
       "    <tr>\n",
       "      <th>2018-12-11</th>\n",
       "      <td>18.010000</td>\n",
       "    </tr>\n",
       "    <tr>\n",
       "      <th>2018-12-12</th>\n",
       "      <td>18.680000</td>\n",
       "    </tr>\n",
       "    <tr>\n",
       "      <th>2018-12-13</th>\n",
       "      <td>18.760000</td>\n",
       "    </tr>\n",
       "    <tr>\n",
       "      <th>...</th>\n",
       "      <td>...</td>\n",
       "    </tr>\n",
       "    <tr>\n",
       "      <th>2021-06-28</th>\n",
       "      <td>222.940002</td>\n",
       "    </tr>\n",
       "    <tr>\n",
       "      <th>2021-06-29</th>\n",
       "      <td>234.460007</td>\n",
       "    </tr>\n",
       "    <tr>\n",
       "      <th>2021-06-30</th>\n",
       "      <td>234.979996</td>\n",
       "    </tr>\n",
       "    <tr>\n",
       "      <th>2021-07-01</th>\n",
       "      <td>235.110001</td>\n",
       "    </tr>\n",
       "    <tr>\n",
       "      <th>2021-07-02</th>\n",
       "      <td>234.300003</td>\n",
       "    </tr>\n",
       "  </tbody>\n",
       "</table>\n",
       "<p>647 rows × 1 columns</p>\n",
       "</div>"
      ],
      "text/plain": [
       "                 close\n",
       "date                  \n",
       "2018-12-07   18.600000\n",
       "2018-12-10   18.799999\n",
       "2018-12-11   18.010000\n",
       "2018-12-12   18.680000\n",
       "2018-12-13   18.760000\n",
       "...                ...\n",
       "2021-06-28  222.940002\n",
       "2021-06-29  234.460007\n",
       "2021-06-30  234.979996\n",
       "2021-07-01  235.110001\n",
       "2021-07-02  234.300003\n",
       "\n",
       "[647 rows x 1 columns]"
      ]
     },
     "execution_count": 4,
     "metadata": {},
     "output_type": "execute_result"
    }
   ],
   "source": [
    "df = df.iloc[::-1]\n",
    "df"
   ]
  },
  {
   "cell_type": "markdown",
   "metadata": {},
   "source": [
    "<p style=\"font-size:18px;color:gray;\"> <strong style=\"line-height: 0px;\">Step 3: Plotting the close prices</strong> </p> <p style=\"font-size:18px;color:gray;line-height:normal;\">We will plot the close prices using \"Close\" values as our dependent variable and Date as our independent variable (this is time scale).</p>"
   ]
  },
  {
   "cell_type": "code",
   "execution_count": 5,
   "metadata": {
    "colab": {
     "base_uri": "https://localhost:8080/",
     "height": 590
    },
    "id": "sLXGnuj7yhp1",
    "outputId": "31f92c17-9d64-4e4e-c4db-2f72d94b7d06"
   },
   "outputs": [
    {
     "data": {
      "text/plain": [
       "Text(0, 0.5, 'Close Price USD')"
      ]
     },
     "execution_count": 5,
     "metadata": {},
     "output_type": "execute_result"
    },
    {
     "data": {
      "image/png": "[encoded data removed]",
      "text/plain": [
       "<Figure size 1152x648 with 1 Axes>"
      ]
     },
     "metadata": {
      "needs_background": "light"
     },
     "output_type": "display_data"
    }
   ],
   "source": [
    "plt.figure(figsize=(16,9))\n",
    "plt.title(\"Close Price History\")\n",
    "plt.plot(df['close'])\n",
    "plt.xlabel(\"Date\", fontsize=18)\n",
    "plt.ylabel(\"Close Price USD\")"
   ]
  },
  {
   "cell_type": "markdown",
   "metadata": {},
   "source": [
    "<p style=\"font-size:18px;color:gray;\"> <strong style=\"line-height: 0px;\">Step 4: Splitting the data into Training/Test sets </strong> </p> <p style=\"font-size:18px;color:gray;line-height:normal;\">Once the data has been cleaned and filtered, we need to split the data into train and test data, since our model doesn't utilize more than one variable, we can't use train_test_split found in <span class=\"py-modules\">sklearn</span> libray. We will use a 80-20 ratio for the splitting process.</p>"
   ]
  },
  {
   "cell_type": "code",
   "execution_count": 6,
   "metadata": {
    "id": "bPB0-GRczLp8"
   },
   "outputs": [],
   "source": [
    "# Create New DataFrame with close values\n",
    "data = df\n",
    "# Convert Dataframe to Numpy array\n",
    "dataset = data.values"
   ]
  },
  {
   "cell_type": "code",
   "execution_count": 7,
   "metadata": {
    "colab": {
     "base_uri": "https://localhost:8080/"
    },
    "id": "715JxRcz0qUZ",
    "outputId": "712e3b26-8154-4e26-cf7d-56643b3dcbfb"
   },
   "outputs": [
    {
     "data": {
      "text/plain": [
       "518"
      ]
     },
     "execution_count": 7,
     "metadata": {},
     "output_type": "execute_result"
    }
   ],
   "source": [
    "#Get number of row to train our module\n",
    "training_data_len = math.ceil(len(dataset) * 0.80)\n",
    "training_data_len"
   ]
  },
  {
   "cell_type": "code",
   "execution_count": 8,
   "metadata": {
    "colab": {
     "base_uri": "https://localhost:8080/"
    },
    "id": "t11yFRnB0q1K",
    "outputId": "51a637df-5090-43ca-e30c-cd3eb04892da"
   },
   "outputs": [
    {
     "data": {
      "text/plain": [
       "array([[2.84496304e-02],\n",
       "       [2.93470900e-02],\n",
       "       [2.58021090e-02],\n",
       "       [2.88086160e-02],\n",
       "       [2.91676015e-02],\n",
       "       [2.71931768e-02],\n",
       "       [2.12699114e-02],\n",
       "       [2.12699114e-02],\n",
       "       [1.75903077e-02],\n",
       "       [1.45389265e-02],\n",
       "       [9.91698467e-03],\n",
       "       [7.94256002e-03],\n",
       "       [5.65402839e-03],\n",
       "       [1.07247000e-02],\n",
       "       [8.48103831e-03],\n",
       "       [1.35068442e-02],\n",
       "       [1.37760812e-02],\n",
       "       [1.45389265e-02],\n",
       "       [2.10904144e-02],\n",
       "       [1.79941675e-02],\n",
       "       [2.10455487e-02],\n",
       "       [1.82634045e-02],\n",
       "       [1.89365013e-02],\n",
       "       [2.12699114e-02],\n",
       "       [2.01032063e-02],\n",
       "       [1.94301096e-02],\n",
       "       [1.79492932e-02],\n",
       "       [1.81736560e-02],\n",
       "       [1.98788436e-02],\n",
       "       [1.48081678e-02],\n",
       "       [1.13529268e-02],\n",
       "       [1.06798300e-02],\n",
       "       [1.18914050e-02],\n",
       "       [9.82723615e-03],\n",
       "       [1.06349557e-02],\n",
       "       [1.28786174e-02],\n",
       "       [1.94749838e-02],\n",
       "       [1.77697962e-02],\n",
       "       [1.79941675e-02],\n",
       "       [2.20776310e-02],\n",
       "       [2.63854573e-02],\n",
       "       [2.14942742e-02],\n",
       "       [2.57123605e-02],\n",
       "       [2.65200800e-02],\n",
       "       [2.88534902e-02],\n",
       "       [2.81355192e-02],\n",
       "       [3.32061907e-02],\n",
       "       [4.11936293e-02],\n",
       "       [3.84563593e-02],\n",
       "       [3.43728958e-02],\n",
       "       [3.17702486e-02],\n",
       "       [3.41933988e-02],\n",
       "       [4.21359631e-02],\n",
       "       [5.13349810e-02],\n",
       "       [4.41552620e-02],\n",
       "       [4.63989236e-02],\n",
       "       [4.49181073e-02],\n",
       "       [3.97576872e-02],\n",
       "       [4.08795180e-02],\n",
       "       [3.76486398e-02],\n",
       "       [3.73794028e-02],\n",
       "       [3.89050934e-02],\n",
       "       [3.66614317e-02],\n",
       "       [3.14112631e-02],\n",
       "       [3.45972586e-02],\n",
       "       [3.84114851e-02],\n",
       "       [4.28988084e-02],\n",
       "       [4.45142475e-02],\n",
       "       [3.63024462e-02],\n",
       "       [3.47318813e-02],\n",
       "       [3.17702486e-02],\n",
       "       [3.02445580e-02],\n",
       "       [3.20394857e-02],\n",
       "       [3.42831473e-02],\n",
       "       [3.14561374e-02],\n",
       "       [3.32061907e-02],\n",
       "       [3.63024462e-02],\n",
       "       [3.73794028e-02],\n",
       "       [3.33856878e-02],\n",
       "       [4.07000210e-02],\n",
       "       [4.85528368e-02],\n",
       "       [6.14763241e-02],\n",
       "       [6.71752268e-02],\n",
       "       [6.53354249e-02],\n",
       "       [6.52456764e-02],\n",
       "       [6.04442418e-02],\n",
       "       [5.54184445e-02],\n",
       "       [6.09378501e-02],\n",
       "       [5.16939665e-02],\n",
       "       [5.04375129e-02],\n",
       "       [4.59950639e-02],\n",
       "       [5.10208612e-02],\n",
       "       [5.58223043e-02],\n",
       "       [6.05788646e-02],\n",
       "       [6.04891161e-02],\n",
       "       [6.28225263e-02],\n",
       "       [5.77967204e-02],\n",
       "       [6.17904439e-02],\n",
       "       [6.34507488e-02],\n",
       "       [7.21561584e-02],\n",
       "       [6.70406126e-02],\n",
       "       [6.65918785e-02],\n",
       "       [5.51491990e-02],\n",
       "       [5.06170099e-02],\n",
       "       [4.93605563e-02],\n",
       "       [5.68095123e-02],\n",
       "       [5.46107250e-02],\n",
       "       [5.08413727e-02],\n",
       "       [4.87323338e-02],\n",
       "       [5.02580159e-02],\n",
       "       [4.85528368e-02],\n",
       "       [4.63989236e-02],\n",
       "       [4.68476577e-02],\n",
       "       [4.37065280e-02],\n",
       "       [4.09243837e-02],\n",
       "       [4.29436826e-02],\n",
       "       [4.16423633e-02],\n",
       "       [4.23603344e-02],\n",
       "       [4.14179920e-02],\n",
       "       [3.82319966e-02],\n",
       "       [3.40587846e-02],\n",
       "       [3.23535969e-02],\n",
       "       [2.44110412e-02],\n",
       "       [2.54879977e-02],\n",
       "       [2.36033216e-02],\n",
       "       [1.53017718e-02],\n",
       "       [1.67825881e-02],\n",
       "       [1.81287817e-02],\n",
       "       [1.75005592e-02],\n",
       "       [1.40901924e-02],\n",
       "       [1.57505058e-02],\n",
       "       [1.56158830e-02],\n",
       "       [1.45389265e-02],\n",
       "       [1.31029844e-02],\n",
       "       [1.09490670e-02],\n",
       "       [7.98743428e-03],\n",
       "       [6.77585922e-03],\n",
       "       [6.46174367e-03],\n",
       "       [9.33363213e-03],\n",
       "       [1.06798300e-02],\n",
       "       [1.10836855e-02],\n",
       "       [9.60286913e-03],\n",
       "       [1.36863369e-02],\n",
       "       [1.21157721e-02],\n",
       "       [9.10926511e-03],\n",
       "       [1.16221680e-02],\n",
       "       [9.96185465e-03],\n",
       "       [9.78236189e-03],\n",
       "       [8.70540533e-03],\n",
       "       [9.24388361e-03],\n",
       "       [8.43616832e-03],\n",
       "       [7.94256002e-03],\n",
       "       [8.97464661e-03],\n",
       "       [8.30154554e-03],\n",
       "       [8.03230854e-03],\n",
       "       [6.01301391e-03],\n",
       "       [9.91698467e-03],\n",
       "       [5.60915413e-03],\n",
       "       [8.34641980e-03],\n",
       "       [6.41686941e-03],\n",
       "       [5.11554583e-03],\n",
       "       [3.76935226e-03],\n",
       "       [3.36549248e-03],\n",
       "       [2.10903887e-03],\n",
       "       [0.00000000e+00],\n",
       "       [1.34618501e-04],\n",
       "       [2.64752143e-03],\n",
       "       [4.17320776e-03],\n",
       "       [4.80143457e-03],\n",
       "       [3.41036674e-03],\n",
       "       [4.66681606e-03],\n",
       "       [2.15391313e-03],\n",
       "       [1.83980187e-03],\n",
       "       [4.03858926e-03],\n",
       "       [5.11554583e-03],\n",
       "       [8.48103831e-03],\n",
       "       [9.10926511e-03],\n",
       "       [8.52591257e-03],\n",
       "       [7.26946324e-03],\n",
       "       [1.21606463e-02],\n",
       "       [1.00964774e-02],\n",
       "       [1.14875453e-02],\n",
       "       [1.31029844e-02],\n",
       "       [1.55710088e-02],\n",
       "       [1.17567865e-02],\n",
       "       [1.41799410e-02],\n",
       "       [1.46735450e-02],\n",
       "       [1.62441098e-02],\n",
       "       [1.69172109e-02],\n",
       "       [2.16737712e-02],\n",
       "       [1.64236026e-02],\n",
       "       [1.85775157e-02],\n",
       "       [1.99685836e-02],\n",
       "       [2.14942742e-02],\n",
       "       [2.42315441e-02],\n",
       "       [2.47700267e-02],\n",
       "       [2.53085007e-02],\n",
       "       [2.60713460e-02],\n",
       "       [2.49943894e-02],\n",
       "       [2.49495152e-02],\n",
       "       [2.20776310e-02],\n",
       "       [1.83082787e-02],\n",
       "       [1.63338541e-02],\n",
       "       [1.64236026e-02],\n",
       "       [1.14426753e-02],\n",
       "       [1.16670380e-02],\n",
       "       [1.26093761e-02],\n",
       "       [1.45838007e-02],\n",
       "       [1.44043080e-02],\n",
       "       [1.36863369e-02],\n",
       "       [8.70540533e-03],\n",
       "       [8.52591257e-03],\n",
       "       [8.05474567e-03],\n",
       "       [7.49383026e-03],\n",
       "       [9.28875787e-03],\n",
       "       [8.48103831e-03],\n",
       "       [1.02310959e-02],\n",
       "       [1.14426753e-02],\n",
       "       [1.45389265e-02],\n",
       "       [1.64236026e-02],\n",
       "       [2.08211774e-02],\n",
       "       [1.94301096e-02],\n",
       "       [2.13147857e-02],\n",
       "       [2.14045342e-02],\n",
       "       [2.12250372e-02],\n",
       "       [2.18981340e-02],\n",
       "       [2.01480806e-02],\n",
       "       [1.52568975e-02],\n",
       "       [2.03724433e-02],\n",
       "       [2.07763031e-02],\n",
       "       [1.73659364e-02],\n",
       "       [2.35135731e-02],\n",
       "       [2.34686988e-02],\n",
       "       [2.30648390e-02],\n",
       "       [2.57123605e-02],\n",
       "       [2.68790656e-02],\n",
       "       [2.72829253e-02],\n",
       "       [3.19048714e-02],\n",
       "       [3.22638570e-02],\n",
       "       [3.18599972e-02],\n",
       "       [3.55396009e-02],\n",
       "       [3.56293494e-02],\n",
       "       [3.78281368e-02],\n",
       "       [3.47318813e-02],\n",
       "       [3.62126977e-02],\n",
       "       [3.63921947e-02],\n",
       "       [3.63473205e-02],\n",
       "       [3.36549248e-02],\n",
       "       [4.04756583e-02],\n",
       "       [4.04307840e-02],\n",
       "       [3.76037655e-02],\n",
       "       [2.99753210e-02],\n",
       "       [2.92573500e-02],\n",
       "       [2.96612098e-02],\n",
       "       [2.86739932e-02],\n",
       "       [2.77765336e-02],\n",
       "       [2.85393790e-02],\n",
       "       [2.80906449e-02],\n",
       "       [2.77316594e-02],\n",
       "       [2.86291189e-02],\n",
       "       [3.20843599e-02],\n",
       "       [3.39690360e-02],\n",
       "       [3.33856878e-02],\n",
       "       [3.36100505e-02],\n",
       "       [3.41036588e-02],\n",
       "       [3.25779682e-02],\n",
       "       [3.04689208e-02],\n",
       "       [3.27574567e-02],\n",
       "       [3.12766403e-02],\n",
       "       [2.97509497e-02],\n",
       "       [2.63405830e-02],\n",
       "       [2.47700267e-02],\n",
       "       [2.56674862e-02],\n",
       "       [2.75521623e-02],\n",
       "       [3.08727806e-02],\n",
       "       [3.58985864e-02],\n",
       "       [3.47318813e-02],\n",
       "       [3.58088379e-02],\n",
       "       [3.92640789e-02],\n",
       "       [3.75140256e-02],\n",
       "       [3.89499676e-02],\n",
       "       [4.35719052e-02],\n",
       "       [4.13282435e-02],\n",
       "       [3.97576872e-02],\n",
       "       [4.70271462e-02],\n",
       "       [4.53219671e-02],\n",
       "       [3.71999057e-02],\n",
       "       [3.91743304e-02],\n",
       "       [3.70204173e-02],\n",
       "       [3.64370604e-02],\n",
       "       [3.86358564e-02],\n",
       "       [3.49562441e-02],\n",
       "       [3.41933988e-02],\n",
       "       [4.92708078e-02],\n",
       "       [5.11106097e-02],\n",
       "       [4.07897695e-02],\n",
       "       [3.02894323e-02],\n",
       "       [3.04464879e-02],\n",
       "       [3.02445580e-02],\n",
       "       [2.98406983e-02],\n",
       "       [2.98855725e-02],\n",
       "       [2.81803934e-02],\n",
       "       [2.67893170e-02],\n",
       "       [2.84047562e-02],\n",
       "       [5.16042180e-02],\n",
       "       [7.58357621e-02],\n",
       "       [6.23737922e-02],\n",
       "       [6.13417099e-02],\n",
       "       [7.90666318e-02],\n",
       "       [7.02266080e-02],\n",
       "       [6.83419319e-02],\n",
       "       [7.06753420e-02],\n",
       "       [7.78550610e-02],\n",
       "       [5.39825024e-02],\n",
       "       [4.52322186e-02],\n",
       "       [5.09311212e-02],\n",
       "       [4.50527215e-02],\n",
       "       [4.05653982e-02],\n",
       "       [6.38546086e-02],\n",
       "       [7.14381873e-02],\n",
       "       [8.66950849e-02],\n",
       "       [7.18420471e-02],\n",
       "       [7.15279359e-02],\n",
       "       [6.42135941e-02],\n",
       "       [6.08481016e-02],\n",
       "       [6.67264927e-02],\n",
       "       [7.03612308e-02],\n",
       "       [7.98294771e-02],\n",
       "       [8.17590275e-02],\n",
       "       [7.93807516e-02],\n",
       "       [7.81242980e-02],\n",
       "       [9.39645524e-02],\n",
       "       [1.01323760e-01],\n",
       "       [1.00426292e-01],\n",
       "       [8.86695095e-02],\n",
       "       [9.04644286e-02],\n",
       "       [8.79515385e-02],\n",
       "       [9.26183588e-02],\n",
       "       [1.00516040e-01],\n",
       "       [1.12138208e-01],\n",
       "       [1.27170735e-01],\n",
       "       [1.55216505e-01],\n",
       "       [1.76935151e-01],\n",
       "       [1.66030954e-01],\n",
       "       [1.74736372e-01],\n",
       "       [1.57864027e-01],\n",
       "       [1.71595242e-01],\n",
       "       [1.60601297e-01],\n",
       "       [1.59838460e-01],\n",
       "       [1.53062592e-01],\n",
       "       [1.51357422e-01],\n",
       "       [1.60062823e-01],\n",
       "       [1.71595242e-01],\n",
       "       [1.66389948e-01],\n",
       "       [1.64639894e-01],\n",
       "       [1.83666136e-01],\n",
       "       [2.10859321e-01],\n",
       "       [2.45187351e-01],\n",
       "       [2.24770016e-01],\n",
       "       [2.37469150e-01],\n",
       "       [2.34686997e-01],\n",
       "       [2.44245017e-01],\n",
       "       [3.03971280e-01],\n",
       "       [2.66591868e-01],\n",
       "       [2.74669064e-01],\n",
       "       [2.45860456e-01],\n",
       "       [2.54610723e-01],\n",
       "       [2.03948839e-01],\n",
       "       [1.79133947e-01],\n",
       "       [1.94211356e-01],\n",
       "       [2.20955798e-01],\n",
       "       [2.24007180e-01],\n",
       "       [2.13641457e-01],\n",
       "       [2.13731205e-01],\n",
       "       [2.16872335e-01],\n",
       "       [2.06102752e-01],\n",
       "       [2.10186216e-01],\n",
       "       [2.06282249e-01],\n",
       "       [2.14538925e-01],\n",
       "       [2.15122282e-01],\n",
       "       [2.23199460e-01],\n",
       "       [2.43706526e-01],\n",
       "       [2.33699780e-01],\n",
       "       [2.29077860e-01],\n",
       "       [2.36437050e-01],\n",
       "       [2.42719310e-01],\n",
       "       [2.35539599e-01],\n",
       "       [2.27417538e-01],\n",
       "       [2.35943442e-01],\n",
       "       [2.23199460e-01],\n",
       "       [2.19968582e-01],\n",
       "       [2.23558454e-01],\n",
       "       [2.33116441e-01],\n",
       "       [2.21359658e-01],\n",
       "       [2.07807940e-01],\n",
       "       [2.10410596e-01],\n",
       "       [2.19115997e-01],\n",
       "       [2.21314793e-01],\n",
       "       [2.36481933e-01],\n",
       "       [2.25936730e-01],\n",
       "       [2.67085477e-01],\n",
       "       [2.81714160e-01],\n",
       "       [3.04958496e-01],\n",
       "       [3.12093324e-01],\n",
       "       [3.70608024e-01],\n",
       "       [3.15997307e-01],\n",
       "       [3.07830380e-01],\n",
       "       [3.18442890e-01],\n",
       "       [2.83015488e-01],\n",
       "       [2.73502350e-01],\n",
       "       [3.03567437e-01],\n",
       "       [3.10657382e-01],\n",
       "       [3.01772501e-01],\n",
       "       [2.93336311e-01],\n",
       "       [2.77496065e-01],\n",
       "       [2.94906902e-01],\n",
       "       [2.97060798e-01],\n",
       "       [2.85124535e-01],\n",
       "       [2.75970392e-01],\n",
       "       [2.77496065e-01],\n",
       "       [2.68117576e-01],\n",
       "       [2.54476109e-01],\n",
       "       [2.56944116e-01],\n",
       "       [2.49360563e-01],\n",
       "       [2.55283829e-01],\n",
       "       [2.58021099e-01],\n",
       "       [2.45770691e-01],\n",
       "       [2.50123400e-01],\n",
       "       [2.49270798e-01],\n",
       "       [2.43168035e-01],\n",
       "       [2.36122939e-01],\n",
       "       [2.42270584e-01],\n",
       "       [2.61341708e-01],\n",
       "       [2.50258014e-01],\n",
       "       [2.47834855e-01],\n",
       "       [2.36167822e-01],\n",
       "       [2.29122726e-01],\n",
       "       [2.35404985e-01],\n",
       "       [2.35943442e-01],\n",
       "       [2.25891847e-01],\n",
       "       [1.88826564e-01],\n",
       "       [2.00314118e-01],\n",
       "       [2.03275751e-01],\n",
       "       [2.11263181e-01],\n",
       "       [2.30693282e-01],\n",
       "       [2.45097586e-01],\n",
       "       [2.53892735e-01],\n",
       "       [2.49629792e-01],\n",
       "       [2.58514707e-01],\n",
       "       [2.55777437e-01],\n",
       "       [2.53354278e-01],\n",
       "       [2.46354065e-01],\n",
       "       [2.37424267e-01],\n",
       "       [2.56719771e-01],\n",
       "       [2.61566088e-01],\n",
       "       [2.61431440e-01],\n",
       "       [2.62463539e-01],\n",
       "       [2.59232661e-01],\n",
       "       [2.53758121e-01],\n",
       "       [2.67848313e-01],\n",
       "       [2.63764867e-01],\n",
       "       [2.69733015e-01],\n",
       "       [2.72245905e-01],\n",
       "       [2.72560016e-01],\n",
       "       [2.82925722e-01],\n",
       "       [2.96297961e-01],\n",
       "       [2.88534876e-01],\n",
       "       [2.84137319e-01],\n",
       "       [2.76778111e-01],\n",
       "       [2.63405873e-01],\n",
       "       [2.64976429e-01],\n",
       "       [2.51783722e-01],\n",
       "       [2.62867382e-01],\n",
       "       [2.61476322e-01],\n",
       "       [2.60174995e-01],\n",
       "       [2.62104545e-01],\n",
       "       [2.39982040e-01],\n",
       "       [2.64841815e-01],\n",
       "       [2.47745124e-01],\n",
       "       [2.46129685e-01],\n",
       "       [2.54969717e-01],\n",
       "       [2.58245444e-01],\n",
       "       [2.65739300e-01],\n",
       "       [2.70091975e-01],\n",
       "       [2.93829919e-01],\n",
       "       [2.86246366e-01],\n",
       "       [3.14920359e-01],\n",
       "       [3.39017264e-01],\n",
       "       [3.46107243e-01],\n",
       "       [3.84518719e-01],\n",
       "       [3.62979588e-01],\n",
       "       [3.43863581e-01],\n",
       "       [3.61274383e-01],\n",
       "       [3.82993046e-01],\n",
       "       [3.98339683e-01],\n",
       "       [3.87255989e-01],\n",
       "       [4.34911375e-01],\n",
       "       [5.15010089e-01],\n",
       "       [6.30379201e-01],\n",
       "       [5.77742850e-01],\n",
       "       [5.86672648e-01],\n",
       "       [6.50661853e-01],\n",
       "       [6.29391985e-01],\n",
       "       [6.60803248e-01],\n",
       "       [7.07202154e-01],\n",
       "       [6.47655355e-01],\n",
       "       [6.43616791e-01],\n",
       "       [6.49181028e-01],\n",
       "       [6.40834673e-01],\n",
       "       [6.05609158e-01],\n",
       "       [5.59883322e-01],\n",
       "       [5.91159971e-01],\n",
       "       [5.74242743e-01],\n",
       "       [5.65582242e-01],\n",
       "       [5.09849660e-01],\n",
       "       [5.29863118e-01],\n",
       "       [4.98676235e-01],\n",
       "       [4.44873238e-01],\n",
       "       [4.58290325e-01],\n",
       "       [4.43661642e-01],\n",
       "       [4.13776086e-01],\n",
       "       [4.46354063e-01],\n",
       "       [4.34911375e-01],\n",
       "       [4.66681632e-01],\n",
       "       [4.61431438e-01],\n",
       "       [4.50931118e-01],\n",
       "       [4.71168955e-01],\n",
       "       [5.03881546e-01],\n",
       "       [5.01682733e-01],\n",
       "       [5.27081000e-01],\n",
       "       [5.26766854e-01],\n",
       "       [5.05945711e-01],\n",
       "       [5.06529051e-01],\n",
       "       [5.41709649e-01],\n",
       "       [5.32914534e-01],\n",
       "       [6.04621941e-01],\n",
       "       [6.26744412e-01],\n",
       "       [6.43796254e-01],\n",
       "       [6.60937862e-01],\n",
       "       [7.22010335e-01],\n",
       "       [6.51649070e-01],\n",
       "       [6.56585153e-01],\n",
       "       [6.89252861e-01],\n",
       "       [7.22683406e-01],\n",
       "       [7.35831299e-01],\n",
       "       [7.79537784e-01],\n",
       "       [7.50549714e-01],\n",
       "       [7.49741960e-01],\n",
       "       [7.68140013e-01],\n",
       "       [7.69486224e-01],\n",
       "       [7.46107239e-01],\n",
       "       [7.38164658e-01],\n",
       "       [7.05900861e-01],\n",
       "       [7.29100314e-01],\n",
       "       [6.60130108e-01],\n",
       "       [6.18846748e-01],\n",
       "       [5.94704926e-01],\n",
       "       [6.10814469e-01],\n",
       "       [6.39667925e-01],\n",
       "       [6.51290076e-01],\n",
       "       [6.03769339e-01],\n",
       "       [5.33811985e-01],\n",
       "       [5.38658302e-01],\n",
       "       [5.38164694e-01],\n",
       "       [4.99035229e-01],\n",
       "       [5.32241394e-01],\n",
       "       [5.27215614e-01],\n",
       "       [5.75319725e-01],\n",
       "       [5.59703859e-01],\n",
       "       [5.89634298e-01],\n",
       "       [6.45097616e-01],\n",
       "       [6.07089982e-01],\n",
       "       [5.79762200e-01],\n",
       "       [5.89993292e-01],\n",
       "       [5.98339716e-01],\n",
       "       [5.57594812e-01],\n",
       "       [5.35562038e-01],\n",
       "       [5.43280240e-01],\n",
       "       [5.43055860e-01],\n",
       "       [4.98810849e-01],\n",
       "       [4.76688344e-01],\n",
       "       [5.32600388e-01],\n",
       "       [5.39780133e-01],\n",
       "       [5.27933602e-01],\n",
       "       [5.44177691e-01],\n",
       "       [5.34933816e-01],\n",
       "       [5.45748281e-01],\n",
       "       [5.77339007e-01],\n",
       "       [5.70518256e-01],\n",
       "       [6.16782617e-01],\n",
       "       [6.63091758e-01],\n",
       "       [6.62373770e-01],\n",
       "       [7.11465098e-01],\n",
       "       [6.71527948e-01],\n",
       "       [6.48507957e-01],\n",
       "       [7.05586715e-01],\n",
       "       [6.99304490e-01],\n",
       "       [7.24119382e-01],\n",
       "       [7.41978910e-01],\n",
       "       [7.68005399e-01],\n",
       "       [7.46780310e-01],\n",
       "       [7.33273492e-01],\n",
       "       [7.47408601e-01],\n",
       "       [7.79717315e-01],\n",
       "       [7.23939851e-01],\n",
       "       [6.75701126e-01],\n",
       "       [6.65200806e-01],\n",
       "       [6.77092185e-01],\n",
       "       [6.56450539e-01],\n",
       "       [6.58424972e-01],\n",
       "       [6.30109904e-01],\n",
       "       [6.17500537e-01],\n",
       "       [6.69149672e-01],\n",
       "       [6.64886660e-01],\n",
       "       [6.60848096e-01],\n",
       "       [6.53937649e-01],\n",
       "       [6.89746470e-01],\n",
       "       [6.69463749e-01],\n",
       "       [6.81669274e-01],\n",
       "       [7.04509733e-01],\n",
       "       [7.32914498e-01],\n",
       "       [7.50639411e-01],\n",
       "       [7.75185075e-01],\n",
       "       [7.73614553e-01],\n",
       "       [8.04756588e-01],\n",
       "       [8.21000676e-01],\n",
       "       [8.69688161e-01],\n",
       "       [9.30267026e-01],\n",
       "       [9.00785279e-01],\n",
       "       [9.20709005e-01],\n",
       "       [9.18734572e-01],\n",
       "       [9.27036148e-01],\n",
       "       [8.75701158e-01],\n",
       "       [8.49584904e-01],\n",
       "       [8.32757441e-01],\n",
       "       [8.53533770e-01],\n",
       "       [8.38815355e-01],\n",
       "       [8.79425645e-01],\n",
       "       [9.38299305e-01],\n",
       "       [8.96477419e-01],\n",
       "       [9.32824765e-01],\n",
       "       [9.31927314e-01],\n",
       "       [9.45389284e-01],\n",
       "       [9.97083267e-01],\n",
       "       [9.99416626e-01],\n",
       "       [1.00000000e+00],\n",
       "       [9.96365279e-01]])"
      ]
     },
     "execution_count": 8,
     "metadata": {},
     "output_type": "execute_result"
    }
   ],
   "source": [
    "# Scale the data\n",
    "scaler = MinMaxScaler(feature_range=(0,1))\n",
    "scaled_data = scaler.fit_transform(dataset)\n",
    "scaled_data"
   ]
  },
  {
   "cell_type": "code",
   "execution_count": 9,
   "metadata": {
    "colab": {
     "base_uri": "https://localhost:8080/"
    },
    "id": "f16_xipl2Sv3",
    "outputId": "ee2c223b-2d9b-449f-dc5a-d00d3212187e"
   },
   "outputs": [
    {
     "name": "stdout",
     "output_type": "stream",
     "text": [
      "[array([0.02844963, 0.02934709, 0.02580211, 0.02880862, 0.0291676 ,\n",
      "       0.02719318, 0.02126991, 0.02126991, 0.01759031, 0.01453893,\n",
      "       0.00991698, 0.00794256, 0.00565403, 0.0107247 , 0.00848104,\n",
      "       0.01350684, 0.01377608, 0.01453893, 0.02109041, 0.01799417,\n",
      "       0.02104555, 0.0182634 , 0.0189365 , 0.02126991, 0.02010321,\n",
      "       0.01943011, 0.01794929, 0.01817366, 0.01987884, 0.01480817,\n",
      "       0.01135293, 0.01067983, 0.01189141, 0.00982724, 0.01063496,\n",
      "       0.01287862, 0.01947498, 0.0177698 , 0.01799417, 0.02207763,\n",
      "       0.02638546, 0.02149427, 0.02571236, 0.02652008, 0.02885349,\n",
      "       0.02813552, 0.03320619, 0.04119363, 0.03845636, 0.0343729 ,\n",
      "       0.03177025, 0.0341934 , 0.04213596, 0.05133498, 0.04415526,\n",
      "       0.04639892, 0.04491811, 0.03975769, 0.04087952, 0.03764864])]\n",
      "[0.03737940277965872]\n",
      "\n"
     ]
    }
   ],
   "source": [
    "# Create training Dataset\n",
    "#create the scaled Training Data Set\n",
    "train_data = scaled_data[0:training_data_len,:]\n",
    "#split the data into x_train and y_train data sets\n",
    "x_train = []\n",
    "y_train = []\n",
    "\n",
    "for i in range(60, len(train_data)):\n",
    "  x_train.append(train_data[i-60:i,0])\n",
    "  y_train.append(train_data[i,0])\n",
    "  if i<=60:\n",
    "    print(x_train)\n",
    "    print(y_train)\n",
    "    print()"
   ]
  },
  {
   "cell_type": "code",
   "execution_count": 10,
   "metadata": {
    "id": "YA4NqFsVRHMd"
   },
   "outputs": [],
   "source": [
    "# convert the x_train and y_train to numpy arrays\n",
    "x_train, y_train = np.array(x_train), np.array(y_train)"
   ]
  },
  {
   "cell_type": "code",
   "execution_count": 11,
   "metadata": {
    "colab": {
     "base_uri": "https://localhost:8080/"
    },
    "id": "B1zINDS3RriC",
    "outputId": "f3e0180e-f3c1-4987-df00-3dc10a76e37b"
   },
   "outputs": [
    {
     "name": "stdout",
     "output_type": "stream",
     "text": [
      "458 60\n"
     ]
    }
   ],
   "source": [
    "samples,time_steps = x_train.shape\n",
    "print(samples,time_steps)"
   ]
  },
  {
   "cell_type": "code",
   "execution_count": 12,
   "metadata": {
    "colab": {
     "base_uri": "https://localhost:8080/"
    },
    "id": "zaeN9u--RUIx",
    "outputId": "fbc1919f-9ee7-4e4f-eb7d-f2b2bb1cecd9"
   },
   "outputs": [
    {
     "data": {
      "text/plain": [
       "(458, 60, 1)"
      ]
     },
     "execution_count": 12,
     "metadata": {},
     "output_type": "execute_result"
    }
   ],
   "source": [
    "# Reshaping the data\n",
    "x_train = np.reshape((x_train),(samples,time_steps,1))\n",
    "x_train.shape"
   ]
  },
  {
   "cell_type": "markdown",
   "metadata": {},
   "source": [
    "<p style=\"font-size:18px;color:gray;\"> <strong style=\"line-height: 0px;\">Step 5: LSTM build</strong> </p> <p style=\"font-size:18px;color:gray;line-height:normal;\">At this point our dataset is clean and scaled, this allows us to build the LSTM model that is going to process and predict the values. The two main parameters used are  optimizer=<span style=\"color:green;\">'adam'</span> and loss=<span style=\"color:green;\">'mean_squared_error'</span>; which are found in the <span class=\"py-modules\">LSTM</span> module</p>"
   ]
  },
  {
   "cell_type": "code",
   "execution_count": 13,
   "metadata": {
    "id": "t6cbgTx2RWs6"
   },
   "outputs": [],
   "source": [
    "# Building the LSTM Model\n",
    "model = Sequential()\n",
    "# Creating Layers\n",
    "model.add(LSTM(50, return_sequences=True, input_shape=(time_steps,1)))\n",
    "model.add(LSTM(50, return_sequences=False))\n",
    "model.add(Dense(25))\n",
    "model.add(Dense(1))"
   ]
  },
  {
   "cell_type": "code",
   "execution_count": 14,
   "metadata": {
    "id": "GCPh8AaeS7Cd"
   },
   "outputs": [],
   "source": [
    "# Compiling the model\n",
    "# Loss function is used to measure how well the model did on training.\n",
    "model.compile(optimizer='adam', loss='mean_squared_error')"
   ]
  },
  {
   "cell_type": "markdown",
   "metadata": {},
   "source": [
    "<p style=\"font-size:18px;color:gray;\"> <strong style=\"line-height: 0px;\">Step 6: Training our Model\n",
    "    </strong> </p> <p style=\"font-size:18px;color:gray;line-height:normal;\">It's time to train our model, this requires a x_train and y_train datasets, among other parameters. To see the meaning of these parameters please visit tensorflow's official website <a href=\"https://www.tensorflow.org/api_docs/python/tf/keras/layers/LSTM\">https://www.tensorflow.org/api_docs/python/tf/keras/layers/LSTM</a> </p>"
   ]
  },
  {
   "cell_type": "code",
   "execution_count": 15,
   "metadata": {
    "colab": {
     "base_uri": "https://localhost:8080/"
    },
    "id": "22LJOS7cTSuW",
    "outputId": "b6699d2a-fe9a-4bb1-d77d-dbaaedb3af45"
   },
   "outputs": [
    {
     "name": "stdout",
     "output_type": "stream",
     "text": [
      "Epoch 1/2\n",
      "Epoch 2/2\n"
     ]
    },
    {
     "data": {
      "text/plain": [
       "<tensorflow.python.keras.callbacks.History at 0x2873d5cd588>"
      ]
     },
     "execution_count": 15,
     "metadata": {},
     "output_type": "execute_result"
    }
   ],
   "source": [
    "#training the Model\n",
    "# Batch size is the total number of training examples present in a single batch\n",
    "# Epoch is the iterations when an entire dataset is passed forward and backward through a neural network\n",
    "model.fit(x_train, y_train, batch_size=1, epochs=2,verbose=5)"
   ]
  },
  {
   "cell_type": "code",
   "execution_count": 16,
   "metadata": {
    "id": "eR3ZRkV0T4jE"
   },
   "outputs": [],
   "source": [
    "# creating the Testing dataset \n",
    "# Array that contained scaled values test_data = scaled_data[training_data_len - 60:through the end, all columns]\n",
    "\n",
    "test_data = scaled_data[training_data_len-60: , :]\n",
    "# Creating testing datasets \n",
    "x_test = []\n",
    "y_test = dataset[training_data_len: , :]\n",
    "\n",
    "for i in range(60, len(test_data)):\n",
    "  x_test.append(test_data[i-60:i,0])\n",
    "  \n"
   ]
  },
  {
   "cell_type": "code",
   "execution_count": 17,
   "metadata": {
    "id": "aFz2AQ0oU4gx"
   },
   "outputs": [],
   "source": [
    "# Converting data to a numpy Array\n",
    "x_test = np.array(x_test)\n"
   ]
  },
  {
   "cell_type": "code",
   "execution_count": 18,
   "metadata": {
    "id": "hV5oS2neVCZT"
   },
   "outputs": [],
   "source": [
    "# Reshaping the data, because LST model is expecting a 3 dimensional array\n",
    "# x_test.shape[0] represents the number of Rows, \n",
    "#  x_test.shape[1] represents the number of time steps\n",
    "# 3rd element in the dimensional array (1) represents the close price\n",
    "x_test = np.reshape(x_test, (x_test.shape[0], x_test.shape[1], 1))"
   ]
  },
  {
   "cell_type": "markdown",
   "metadata": {},
   "source": [
    "<p style=\"font-size:18px;color:gray;\"> <strong style=\"line-height: 0px;\">Step 7: Make/Perform the Predictions\n",
    "    </strong> </p> <p style=\"font-size:18px;color:gray;line-height:normal;\">To make our predictions we need make use of our x_test dataset, it's important to mention that this numpy array must be a three dimensional array(see description in cell above)</p>"
   ]
  },
  {
   "cell_type": "code",
   "execution_count": 19,
   "metadata": {
    "id": "pgbSP2mqVie6"
   },
   "outputs": [],
   "source": [
    "# Get the models predicted price values\n",
    "# This step \"unscale\" the values\n",
    "\n",
    "predictions = model.predict(x_test)\n",
    "predictions = scaler.inverse_transform(predictions)\n"
   ]
  },
  {
   "cell_type": "markdown",
   "metadata": {
    "id": "2cSJNiQRWc_B"
   },
   "source": [
    "<p style=\"font-size:18px;color:gray;\"> <strong style=\"line-height: 0px;\">Step 8: Model Evaluation\n",
    "    </strong> </p> <p style=\"font-size:18px;color:gray;line-height:normal;\">For the model evaluation we'll utilize RMSE as our main indicator</p>ation"
   ]
  },
  {
   "cell_type": "code",
   "execution_count": 20,
   "metadata": {
    "colab": {
     "base_uri": "https://localhost:8080/"
    },
    "id": "ebs8KLDlWKup",
    "outputId": "0e183bc9-23b2-437d-bf85-3e7bdc87af92"
   },
   "outputs": [
    {
     "data": {
      "text/plain": [
       "3.480557996173238"
      ]
     },
     "execution_count": 20,
     "metadata": {},
     "output_type": "execute_result"
    }
   ],
   "source": [
    "# Evaluating our model, Getting the root mean error (RMSE), Model accuracy \n",
    "rmse = np.sqrt(np.mean(predictions-y_test)**2)\n",
    "rmse"
   ]
  },
  {
   "cell_type": "markdown",
   "metadata": {
    "id": "YqQZsxI3Wtsn"
   },
   "source": [
    "<p style=\"font-size:18px;color:gray;\"> <strong style=\"line-height: 0px;\">Step 9: Plotting trained, tested and predicted datasets.\n",
    "    </strong> </p> <p style=\"font-size:18px;color:gray;line-height:normal;\">During this step we will use our training data, test data and predictions to easily visualize the accuracy of our model. Our training data represents the 80% of the original data set, and the teste data the rest; our predicted values has the same length as our test data but this data has been already processed by our model</p>"
   ]
  },
  {
   "cell_type": "code",
   "execution_count": 21,
   "metadata": {
    "colab": {
     "base_uri": "https://localhost:8080/"
    },
    "id": "ZfnisDSUW-9_",
    "outputId": "6c2c2fc1-d480-431d-96da-40d45ece720b"
   },
   "outputs": [],
   "source": [
    "train = data[:training_data_len]\n",
    "valid = data[training_data_len:]\n",
    "valid['predictions'] = predictions"
   ]
  },
  {
   "cell_type": "code",
   "execution_count": 22,
   "metadata": {
    "colab": {
     "base_uri": "https://localhost:8080/",
     "height": 573
    },
    "id": "rGoSibJwXMme",
    "outputId": "fd3a9350-dafb-4f6b-a535-d7b5648c48d3"
   },
   "outputs": [
    {
     "data": {
      "image/png": "[encoded data removed]",
      "text/plain": [
       "<Figure size 1296x648 with 1 Axes>"
      ]
     },
     "metadata": {
      "needs_background": "light"
     },
     "output_type": "display_data"
    }
   ],
   "source": [
    "# Visualize the models data\n",
    "plt.figure(figsize=(18,9))\n",
    "plt.title('Model')\n",
    "plt.xlabel(\"Date\", fontsize=18)\n",
    "plt.ylabel(\"Close Price USD\", fontsize=18)\n",
    "plt.plot(train['close'])\n",
    "plt.plot(valid[['close','predictions']])\n",
    "plt.legend(['Train','val','predictions'], loc='lower right')\n",
    "plt.show()"
   ]
  },
  {
   "cell_type": "code",
   "execution_count": 23,
   "metadata": {
    "colab": {
     "base_uri": "https://localhost:8080/",
     "height": 450
    },
    "id": "AI_Ruc8TYFUz",
    "outputId": "347a19d6-607a-4a15-ffcc-29567747c04b"
   },
   "outputs": [
    {
     "data": {
      "text/html": [
       "<div>\n",
       "<style scoped>\n",
       "    .dataframe tbody tr th:only-of-type {\n",
       "        vertical-align: middle;\n",
       "    }\n",
       "\n",
       "    .dataframe tbody tr th {\n",
       "        vertical-align: top;\n",
       "    }\n",
       "\n",
       "    .dataframe thead th {\n",
       "        text-align: right;\n",
       "    }\n",
       "</style>\n",
       "<table border=\"1\" class=\"dataframe\">\n",
       "  <thead>\n",
       "    <tr style=\"text-align: right;\">\n",
       "      <th></th>\n",
       "      <th>close</th>\n",
       "      <th>predictions</th>\n",
       "    </tr>\n",
       "    <tr>\n",
       "      <th>date</th>\n",
       "      <th></th>\n",
       "      <th></th>\n",
       "    </tr>\n",
       "  </thead>\n",
       "  <tbody>\n",
       "    <tr>\n",
       "      <th>2020-12-29</th>\n",
       "      <td>114.389999</td>\n",
       "      <td>131.019455</td>\n",
       "    </tr>\n",
       "    <tr>\n",
       "      <th>2020-12-30</th>\n",
       "      <td>111.129997</td>\n",
       "      <td>127.122620</td>\n",
       "    </tr>\n",
       "    <tr>\n",
       "      <th>2020-12-31</th>\n",
       "      <td>104.470001</td>\n",
       "      <td>123.494713</td>\n",
       "    </tr>\n",
       "    <tr>\n",
       "      <th>2021-01-04</th>\n",
       "      <td>111.730003</td>\n",
       "      <td>119.632263</td>\n",
       "    </tr>\n",
       "    <tr>\n",
       "      <th>2021-01-05</th>\n",
       "      <td>109.180000</td>\n",
       "      <td>117.100464</td>\n",
       "    </tr>\n",
       "    <tr>\n",
       "      <th>...</th>\n",
       "      <td>...</td>\n",
       "      <td>...</td>\n",
       "    </tr>\n",
       "    <tr>\n",
       "      <th>2021-06-28</th>\n",
       "      <td>222.940002</td>\n",
       "      <td>209.087311</td>\n",
       "    </tr>\n",
       "    <tr>\n",
       "      <th>2021-06-29</th>\n",
       "      <td>234.460007</td>\n",
       "      <td>211.470367</td>\n",
       "    </tr>\n",
       "    <tr>\n",
       "      <th>2021-06-30</th>\n",
       "      <td>234.979996</td>\n",
       "      <td>214.962524</td>\n",
       "    </tr>\n",
       "    <tr>\n",
       "      <th>2021-07-01</th>\n",
       "      <td>235.110001</td>\n",
       "      <td>218.430328</td>\n",
       "    </tr>\n",
       "    <tr>\n",
       "      <th>2021-07-02</th>\n",
       "      <td>234.300003</td>\n",
       "      <td>221.350098</td>\n",
       "    </tr>\n",
       "  </tbody>\n",
       "</table>\n",
       "<p>129 rows × 2 columns</p>\n",
       "</div>"
      ],
      "text/plain": [
       "                 close  predictions\n",
       "date                               \n",
       "2020-12-29  114.389999   131.019455\n",
       "2020-12-30  111.129997   127.122620\n",
       "2020-12-31  104.470001   123.494713\n",
       "2021-01-04  111.730003   119.632263\n",
       "2021-01-05  109.180000   117.100464\n",
       "...                ...          ...\n",
       "2021-06-28  222.940002   209.087311\n",
       "2021-06-29  234.460007   211.470367\n",
       "2021-06-30  234.979996   214.962524\n",
       "2021-07-01  235.110001   218.430328\n",
       "2021-07-02  234.300003   221.350098\n",
       "\n",
       "[129 rows x 2 columns]"
      ]
     },
     "execution_count": 23,
     "metadata": {},
     "output_type": "execute_result"
    }
   ],
   "source": [
    "# show the Valid(actual prices) and the predicted prices\n",
    "valid"
   ]
  },
  {
   "cell_type": "markdown",
   "metadata": {},
   "source": [
    "##### Storing predicted values in our Database"
   ]
  },
  {
   "cell_type": "code",
   "execution_count": 24,
   "metadata": {},
   "outputs": [],
   "source": [
    "valid['stock_id'] = id\n",
    "valid.reset_index(drop=True,inplace=True)\n",
    "valid.to_sql(name='predicted', con=engine, if_exists='append', index=False)"
   ]
  },
  {
   "cell_type": "markdown",
   "metadata": {},
   "source": [
    "<p style=\"font-size:18px;color:gray;\"> <strong style=\"line-height: 0px;\">Step 10: Saving Model(h5).\n",
    "    </strong> </p> <p style=\"font-size:18px;color:gray;line-height:normal;\">Finally that we have verified our model accuracy and performance we can save it.</p>"
   ]
  },
  {
   "cell_type": "code",
   "execution_count": 25,
   "metadata": {
    "id": "FBdRH0RcYiNE"
   },
   "outputs": [],
   "source": [
    "# Saving Model\n",
    "model.save(\"moderna_model.h5\")"
   ]
  },
  {
   "cell_type": "markdown",
   "metadata": {},
   "source": [
    "<p style=\"font-size:22px;color:black;text-align:center\"> <strong style=\"line-height: 0px;\">Conclusion\n",
    "    </strong> </p> <p style=\"font-size:18px;color:gray;line-height:normal;\">LSTM can be applied to predict future stock values on different markets. Even though this model can be very accurate, this doesn't mean it can be used by itself to make decisions, this must be use in conjuntion with risk analysis, financial analysis and market evaluation. Please do not use this models as definitive tool to predict the market! </p>"
   ]
  }
 ],
 "metadata": {
  "colab": {
   "collapsed_sections": [],
   "name": "Stockprer.ipynb",
   "provenance": []
  },
  "kernelspec": {
   "display_name": "Python 3",
   "language": "python",
   "name": "python3"
  },
  "language_info": {
   "codemirror_mode": {
    "name": "ipython",
    "version": 3
   },
   "file_extension": ".py",
   "mimetype": "text/x-python",
   "name": "python",
   "nbconvert_exporter": "python",
   "pygments_lexer": "ipython3",
   "version": "3.6.13"
  }
 },
 "nbformat": 4,
 "nbformat_minor": 1
}
