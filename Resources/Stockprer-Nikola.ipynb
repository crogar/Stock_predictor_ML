{
 "cells": [
  {
   "cell_type": "markdown",
   "metadata": {},
   "source": [
    "<h1 style=\"text-align:center;\"> LSTM for Stock Market Prediction</h1>\n",
    "<h2 style=\"text-align:center;\"> Nikola</h2>"
   ]
  },
  {
   "cell_type": "markdown",
   "metadata": {},
   "source": [
    "<p style=\"font-size:18px;color:gray;\"> <strong>Step 1:</strong> For this Predictive model we will utilize some modules that are necessary to obtain, create and visualize this predictive model such as <span class=\"py-modules\">sqlalchemy</span>, <span class=\"py-modules\">NumPy</span>, <span class=\"py-modules\">Pandas</span>, <span class=\"py-modules\">SciKitlearn</span>, <span class=\"py-modules\">MatPlotLib</span>, and <span class=\"py-modules\">Keras</span>.</p>"
   ]
  },
  {
   "cell_type": "code",
   "execution_count": 1,
   "metadata": {
    "id": "8VLZ0u3HpszS"
   },
   "outputs": [],
   "source": [
    "import math\n",
    "import numpy as np\n",
    "import pandas as pd\n",
    "pd.options.mode.chained_assignment = None  # default='warn'\n",
    "from sklearn.preprocessing import MinMaxScaler\n",
    "from keras.models import Sequential\n",
    "from keras.layers import Dense, LSTM\n",
    "import matplotlib.pyplot as plt\n",
    "import datetime as dt\n",
    "import requests\n",
    "from sqlalchemy import create_engine\n",
    "from config import password"
   ]
  },
  {
   "cell_type": "markdown",
   "metadata": {},
   "source": [
    "<p style=\"font-size:18px;color:gray;\"> <strong style=\"line-height: 0px;\">Step 2:</strong> </p> <p style=\"font-size:18px;color:gray;line-height:normal;\"> Now, we start building our model by first defining the dataset that the model will train on. We're using datasets from NASDAQ provided by <a href=\"https://finance.yahoo.com/\">https://finance.yahoo.com/</a>. For this example were using <span style=\"color:blue;\">Nikola (NKLA)</span> historical data.\n",
    "\n",
    " <p style=\"font-size:18px;color:gray;\"> After pulling the data from our SQL database we read it using the the csv built-in function included in the Pandas library.</p>"
   ]
  },
  {
   "cell_type": "code",
   "execution_count": 2,
   "metadata": {},
   "outputs": [],
   "source": [
    "# Connecting to Database\n",
    "connection_string = f\"ofygklqv:{password}@batyr.db.elephantsql.com:5432/ofygklqv\"\n",
    "engine = create_engine(f'postgresql://{connection_string}', pool_size=2, pool_recycle=1200, connect_args={'connect_timeout': 10},\n",
    "client_encoding=\"utf8\", pool_pre_ping=True)"
   ]
  },
  {
   "cell_type": "code",
   "execution_count": 3,
   "metadata": {},
   "outputs": [
    {
     "name": "stdout",
     "output_type": "stream",
     "text": [
      "(772, 7)\n"
     ]
    }
   ],
   "source": [
    "ticker = \"NKLA\"\n",
    "df = pd.read_sql_query('select * from ticker', con=engine)\n",
    "id = df[df['symbol']==ticker]['stock_id'].values[0] # returning ID for the specified ticker(symbol)\n",
    "df = pd.read_sql_query(f'select * from stock WHERE stock_id = {id}', con=engine)\n",
    "print(df.shape)\n",
    "df[\"date\"]=pd.to_datetime(df.date,format=\"%Y-%m-%d\")\n",
    "df.index = df['date']\n",
    "df = df[[\"close\"]]"
   ]
  },
  {
   "cell_type": "markdown",
   "metadata": {},
   "source": [
    "#### Sort date and close\n",
    "<p style=\"font-size:14px;color:gray;\"> Since the dates and values are in descending order we need to reverse the dataframe</p>"
   ]
  },
  {
   "cell_type": "code",
   "execution_count": 4,
   "metadata": {
    "colab": {
     "base_uri": "https://localhost:8080/",
     "height": 450
    },
    "id": "5SXWtnOXygLD",
    "outputId": "d6163956-f1e2-4d59-fafc-5fe22d7f6c56"
   },
   "outputs": [
    {
     "data": {
      "text/html": [
       "<div>\n",
       "<style scoped>\n",
       "    .dataframe tbody tr th:only-of-type {\n",
       "        vertical-align: middle;\n",
       "    }\n",
       "\n",
       "    .dataframe tbody tr th {\n",
       "        vertical-align: top;\n",
       "    }\n",
       "\n",
       "    .dataframe thead th {\n",
       "        text-align: right;\n",
       "    }\n",
       "</style>\n",
       "<table border=\"1\" class=\"dataframe\">\n",
       "  <thead>\n",
       "    <tr style=\"text-align: right;\">\n",
       "      <th></th>\n",
       "      <th>close</th>\n",
       "    </tr>\n",
       "    <tr>\n",
       "      <th>date</th>\n",
       "      <th></th>\n",
       "    </tr>\n",
       "  </thead>\n",
       "  <tbody>\n",
       "    <tr>\n",
       "      <th>2018-06-11</th>\n",
       "      <td>9.580000</td>\n",
       "    </tr>\n",
       "    <tr>\n",
       "      <th>2018-06-12</th>\n",
       "      <td>9.560000</td>\n",
       "    </tr>\n",
       "    <tr>\n",
       "      <th>2018-06-13</th>\n",
       "      <td>9.570000</td>\n",
       "    </tr>\n",
       "    <tr>\n",
       "      <th>2018-06-14</th>\n",
       "      <td>9.570000</td>\n",
       "    </tr>\n",
       "    <tr>\n",
       "      <th>2018-06-15</th>\n",
       "      <td>9.570000</td>\n",
       "    </tr>\n",
       "    <tr>\n",
       "      <th>...</th>\n",
       "      <td>...</td>\n",
       "    </tr>\n",
       "    <tr>\n",
       "      <th>2021-06-28</th>\n",
       "      <td>18.930000</td>\n",
       "    </tr>\n",
       "    <tr>\n",
       "      <th>2021-06-29</th>\n",
       "      <td>17.719999</td>\n",
       "    </tr>\n",
       "    <tr>\n",
       "      <th>2021-06-30</th>\n",
       "      <td>18.059999</td>\n",
       "    </tr>\n",
       "    <tr>\n",
       "      <th>2021-07-01</th>\n",
       "      <td>16.990000</td>\n",
       "    </tr>\n",
       "    <tr>\n",
       "      <th>2021-07-02</th>\n",
       "      <td>16.440001</td>\n",
       "    </tr>\n",
       "  </tbody>\n",
       "</table>\n",
       "<p>772 rows × 1 columns</p>\n",
       "</div>"
      ],
      "text/plain": [
       "                close\n",
       "date                 \n",
       "2018-06-11   9.580000\n",
       "2018-06-12   9.560000\n",
       "2018-06-13   9.570000\n",
       "2018-06-14   9.570000\n",
       "2018-06-15   9.570000\n",
       "...               ...\n",
       "2021-06-28  18.930000\n",
       "2021-06-29  17.719999\n",
       "2021-06-30  18.059999\n",
       "2021-07-01  16.990000\n",
       "2021-07-02  16.440001\n",
       "\n",
       "[772 rows x 1 columns]"
      ]
     },
     "execution_count": 4,
     "metadata": {},
     "output_type": "execute_result"
    }
   ],
   "source": [
    "df = df.iloc[::-1]\n",
    "df"
   ]
  },
  {
   "cell_type": "markdown",
   "metadata": {},
   "source": [
    "<p style=\"font-size:18px;color:gray;\"> <strong style=\"line-height: 0px;\">Step 3: Plotting the close prices</strong> </p> <p style=\"font-size:18px;color:gray;line-height:normal;\">We will plot the close prices using \"Close\" values as our dependent variable and Date as our independent variable (this is time scale).</p>"
   ]
  },
  {
   "cell_type": "code",
   "execution_count": 5,
   "metadata": {
    "colab": {
     "base_uri": "https://localhost:8080/",
     "height": 590
    },
    "id": "sLXGnuj7yhp1",
    "outputId": "31f92c17-9d64-4e4e-c4db-2f72d94b7d06"
   },
   "outputs": [
    {
     "data": {
      "text/plain": [
       "Text(0, 0.5, 'Close Price USD')"
      ]
     },
     "execution_count": 5,
     "metadata": {},
     "output_type": "execute_result"
    },
    {
     "data": {
      "image/png": "[encoded data removed]",
      "text/plain": [
       "<Figure size 1152x648 with 1 Axes>"
      ]
     },
     "metadata": {
      "needs_background": "light"
     },
     "output_type": "display_data"
    }
   ],
   "source": [
    "plt.figure(figsize=(16,9))\n",
    "plt.title(\"Close Price History\")\n",
    "plt.plot(df['close'])\n",
    "plt.xlabel(\"Date\", fontsize=18)\n",
    "plt.ylabel(\"Close Price USD\")"
   ]
  },
  {
   "cell_type": "markdown",
   "metadata": {},
   "source": [
    "<p style=\"font-size:18px;color:gray;\"> <strong style=\"line-height: 0px;\">Step 4: Splitting the data into Training/Test sets </strong> </p> <p style=\"font-size:18px;color:gray;line-height:normal;\">Once the data has been cleaned and filtered, we need to split the data into train and test data, since our model doesn't utilize more than one variable, we can't use train_test_split found in <span class=\"py-modules\">sklearn</span> libray. We will use a 80-20 ratio for the splitting process.</p>"
   ]
  },
  {
   "cell_type": "code",
   "execution_count": 6,
   "metadata": {
    "id": "bPB0-GRczLp8"
   },
   "outputs": [],
   "source": [
    "# Create New DataFrame with close values\n",
    "data = df\n",
    "# Convert Dataframe to Numpy array\n",
    "dataset = data.values"
   ]
  },
  {
   "cell_type": "code",
   "execution_count": 7,
   "metadata": {
    "colab": {
     "base_uri": "https://localhost:8080/"
    },
    "id": "715JxRcz0qUZ",
    "outputId": "712e3b26-8154-4e26-cf7d-56643b3dcbfb"
   },
   "outputs": [
    {
     "data": {
      "text/plain": [
       "618"
      ]
     },
     "execution_count": 7,
     "metadata": {},
     "output_type": "execute_result"
    }
   ],
   "source": [
    "#Get number of row to train our module\n",
    "training_data_len = math.ceil(len(dataset) * 0.80)\n",
    "training_data_len"
   ]
  },
  {
   "cell_type": "code",
   "execution_count": 8,
   "metadata": {
    "colab": {
     "base_uri": "https://localhost:8080/"
    },
    "id": "t11yFRnB0q1K",
    "outputId": "51a637df-5090-43ca-e30c-cd3eb04892da"
   },
   "outputs": [
    {
     "data": {
      "text/plain": [
       "array([[9.96862599e-04],\n",
       "       [7.12050534e-04],\n",
       "       [8.54449776e-04],\n",
       "       [8.54449776e-04],\n",
       "       [8.54449776e-04],\n",
       "       [9.96862599e-04],\n",
       "       [8.54449776e-04],\n",
       "       [1.13927542e-03],\n",
       "       [1.13927542e-03],\n",
       "       [9.96862599e-04],\n",
       "       [9.96862599e-04],\n",
       "       [9.96862599e-04],\n",
       "       [9.96862599e-04],\n",
       "       [9.96862599e-04],\n",
       "       [9.96862599e-04],\n",
       "       [9.96862599e-04],\n",
       "       [9.96862599e-04],\n",
       "       [9.96862599e-04],\n",
       "       [9.96862599e-04],\n",
       "       [9.96862599e-04],\n",
       "       [4.27224888e-04],\n",
       "       [4.27224888e-04],\n",
       "       [4.27224888e-04],\n",
       "       [4.27224888e-04],\n",
       "       [4.84184585e-04],\n",
       "       [8.54449776e-04],\n",
       "       [5.69637711e-04],\n",
       "       [4.41471603e-04],\n",
       "       [4.41471603e-04],\n",
       "       [4.84184585e-04],\n",
       "       [5.69637711e-04],\n",
       "       [5.69637711e-04],\n",
       "       [4.27224888e-04],\n",
       "       [4.27224888e-04],\n",
       "       [5.69637711e-04],\n",
       "       [7.12050534e-04],\n",
       "       [5.69637711e-04],\n",
       "       [5.69637711e-04],\n",
       "       [5.69637711e-04],\n",
       "       [5.69637711e-04],\n",
       "       [5.69637711e-04],\n",
       "       [5.69637711e-04],\n",
       "       [5.69637711e-04],\n",
       "       [5.69637711e-04],\n",
       "       [5.69637711e-04],\n",
       "       [5.69637711e-04],\n",
       "       [7.12050534e-04],\n",
       "       [7.12050534e-04],\n",
       "       [7.12050534e-04],\n",
       "       [9.96862599e-04],\n",
       "       [9.96862599e-04],\n",
       "       [8.54449776e-04],\n",
       "       [9.96862599e-04],\n",
       "       [9.96862599e-04],\n",
       "       [8.54449776e-04],\n",
       "       [8.54449776e-04],\n",
       "       [9.96862599e-04],\n",
       "       [9.96862599e-04],\n",
       "       [9.96862599e-04],\n",
       "       [8.54449776e-04],\n",
       "       [8.54449776e-04],\n",
       "       [1.28168825e-03],\n",
       "       [1.13927542e-03],\n",
       "       [1.13927542e-03],\n",
       "       [1.13927542e-03],\n",
       "       [1.13927542e-03],\n",
       "       [9.96862599e-04],\n",
       "       [1.28168825e-03],\n",
       "       [1.28168825e-03],\n",
       "       [0.00000000e+00],\n",
       "       [0.00000000e+00],\n",
       "       [8.54449776e-04],\n",
       "       [8.54449776e-04],\n",
       "       [8.54449776e-04],\n",
       "       [9.96862599e-04],\n",
       "       [8.54449776e-04],\n",
       "       [8.54449776e-04],\n",
       "       [8.54449776e-04],\n",
       "       [8.54449776e-04],\n",
       "       [8.54449776e-04],\n",
       "       [8.54449776e-04],\n",
       "       [8.54449776e-04],\n",
       "       [5.69637711e-04],\n",
       "       [5.69637711e-04],\n",
       "       [8.54449776e-04],\n",
       "       [8.54449776e-04],\n",
       "       [0.00000000e+00],\n",
       "       [2.84812065e-04],\n",
       "       [2.84812065e-04],\n",
       "       [2.84812065e-04],\n",
       "       [0.00000000e+00],\n",
       "       [1.42412823e-04],\n",
       "       [2.84812065e-04],\n",
       "       [2.84812065e-04],\n",
       "       [9.54136036e-04],\n",
       "       [1.13927542e-03],\n",
       "       [1.13927542e-03],\n",
       "       [1.13927542e-03],\n",
       "       [1.13927542e-03],\n",
       "       [1.13927542e-03],\n",
       "       [1.13927542e-03],\n",
       "       [1.13927542e-03],\n",
       "       [1.13927542e-03],\n",
       "       [1.13927542e-03],\n",
       "       [1.13927542e-03],\n",
       "       [1.85132596e-03],\n",
       "       [1.99372520e-03],\n",
       "       [2.42096367e-03],\n",
       "       [2.42096367e-03],\n",
       "       [2.42096367e-03],\n",
       "       [2.42096367e-03],\n",
       "       [2.42096367e-03],\n",
       "       [2.42096367e-03],\n",
       "       [2.42096367e-03],\n",
       "       [1.99372520e-03],\n",
       "       [1.99372520e-03],\n",
       "       [1.99372520e-03],\n",
       "       [1.99372520e-03],\n",
       "       [3.13300062e-03],\n",
       "       [3.41782627e-03],\n",
       "       [2.84818856e-03],\n",
       "       [2.56336291e-03],\n",
       "       [3.56023909e-03],\n",
       "       [3.13300062e-03],\n",
       "       [3.13300062e-03],\n",
       "       [3.13300062e-03],\n",
       "       [3.13300062e-03],\n",
       "       [3.13300062e-03],\n",
       "       [3.13300062e-03],\n",
       "       [3.13300062e-03],\n",
       "       [3.13300062e-03],\n",
       "       [3.13300062e-03],\n",
       "       [2.27855084e-03],\n",
       "       [2.27855084e-03],\n",
       "       [1.99372520e-03],\n",
       "       [1.99372520e-03],\n",
       "       [1.99372520e-03],\n",
       "       [1.99372520e-03],\n",
       "       [1.99372520e-03],\n",
       "       [3.41782627e-03],\n",
       "       [2.70577573e-03],\n",
       "       [2.70577573e-03],\n",
       "       [3.06180779e-03],\n",
       "       [3.06180779e-03],\n",
       "       [3.06180779e-03],\n",
       "       [3.06180779e-03],\n",
       "       [2.70577573e-03],\n",
       "       [2.70577573e-03],\n",
       "       [3.41782627e-03],\n",
       "       [4.12987680e-03],\n",
       "       [4.12987680e-03],\n",
       "       [4.12987680e-03],\n",
       "       [4.12987680e-03],\n",
       "       [4.12987680e-03],\n",
       "       [4.69951451e-03],\n",
       "       [4.69951451e-03],\n",
       "       [4.84192733e-03],\n",
       "       [4.84192733e-03],\n",
       "       [5.26915222e-03],\n",
       "       [4.84192733e-03],\n",
       "       [4.98432658e-03],\n",
       "       [5.55396429e-03],\n",
       "       [5.55396429e-03],\n",
       "       [6.26601482e-03],\n",
       "       [6.26601482e-03],\n",
       "       [5.98120276e-03],\n",
       "       [5.55396429e-03],\n",
       "       [5.55396429e-03],\n",
       "       [5.55396429e-03],\n",
       "       [5.83878993e-03],\n",
       "       [5.90999635e-03],\n",
       "       [5.12673940e-03],\n",
       "       [5.98120276e-03],\n",
       "       [6.12360200e-03],\n",
       "       [5.83878993e-03],\n",
       "       [6.26601482e-03],\n",
       "       [6.26601482e-03],\n",
       "       [6.55084047e-03],\n",
       "       [6.55084047e-03],\n",
       "       [6.55084047e-03],\n",
       "       [5.83878993e-03],\n",
       "       [5.83878993e-03],\n",
       "       [6.40842764e-03],\n",
       "       [6.40842764e-03],\n",
       "       [6.40842764e-03],\n",
       "       [6.69323971e-03],\n",
       "       [6.69323971e-03],\n",
       "       [6.97806536e-03],\n",
       "       [6.97806536e-03],\n",
       "       [6.83565253e-03],\n",
       "       [6.83565253e-03],\n",
       "       [6.69323971e-03],\n",
       "       [6.97806536e-03],\n",
       "       [6.83565253e-03],\n",
       "       [7.40529024e-03],\n",
       "       [6.83565253e-03],\n",
       "       [7.40529024e-03],\n",
       "       [6.97806536e-03],\n",
       "       [6.83565253e-03],\n",
       "       [6.83565253e-03],\n",
       "       [6.83565253e-03],\n",
       "       [6.83565253e-03],\n",
       "       [6.83565253e-03],\n",
       "       [7.12047818e-03],\n",
       "       [7.26289100e-03],\n",
       "       [7.26289100e-03],\n",
       "       [7.26289100e-03],\n",
       "       [7.12047818e-03],\n",
       "       [7.40529024e-03],\n",
       "       [7.40529024e-03],\n",
       "       [7.40529024e-03],\n",
       "       [7.40529024e-03],\n",
       "       [7.69011589e-03],\n",
       "       [7.26289100e-03],\n",
       "       [7.26289100e-03],\n",
       "       [7.26289100e-03],\n",
       "       [7.54770307e-03],\n",
       "       [7.54770307e-03],\n",
       "       [7.54770307e-03],\n",
       "       [7.54770307e-03],\n",
       "       [7.54770307e-03],\n",
       "       [7.54770307e-03],\n",
       "       [7.69011589e-03],\n",
       "       [7.26289100e-03],\n",
       "       [7.54770307e-03],\n",
       "       [7.54770307e-03],\n",
       "       [7.54770307e-03],\n",
       "       [7.54770307e-03],\n",
       "       [7.69011589e-03],\n",
       "       [7.69011589e-03],\n",
       "       [7.69011589e-03],\n",
       "       [7.26289100e-03],\n",
       "       [7.83252871e-03],\n",
       "       [7.69011589e-03],\n",
       "       [7.69011589e-03],\n",
       "       [8.25975360e-03],\n",
       "       [8.25975360e-03],\n",
       "       [7.69011589e-03],\n",
       "       [7.69011589e-03],\n",
       "       [7.83252871e-03],\n",
       "       [7.83252871e-03],\n",
       "       [7.83252871e-03],\n",
       "       [7.83252871e-03],\n",
       "       [7.83252871e-03],\n",
       "       [8.82939131e-03],\n",
       "       [8.40216642e-03],\n",
       "       [8.40216642e-03],\n",
       "       [8.40216642e-03],\n",
       "       [8.40216642e-03],\n",
       "       [8.68697849e-03],\n",
       "       [8.68697849e-03],\n",
       "       [8.68697849e-03],\n",
       "       [8.68697849e-03],\n",
       "       [8.68697849e-03],\n",
       "       [8.68697849e-03],\n",
       "       [8.68697849e-03],\n",
       "       [9.11420338e-03],\n",
       "       [9.11420338e-03],\n",
       "       [9.11420338e-03],\n",
       "       [9.11420338e-03],\n",
       "       [8.82939131e-03],\n",
       "       [8.54456567e-03],\n",
       "       [8.68697849e-03],\n",
       "       [8.68697849e-03],\n",
       "       [8.82939131e-03],\n",
       "       [8.82939131e-03],\n",
       "       [8.82939131e-03],\n",
       "       [8.82939131e-03],\n",
       "       [8.82939131e-03],\n",
       "       [8.82939131e-03],\n",
       "       [8.97180414e-03],\n",
       "       [8.82939131e-03],\n",
       "       [8.82939131e-03],\n",
       "       [8.82939131e-03],\n",
       "       [8.82939131e-03],\n",
       "       [8.82939131e-03],\n",
       "       [8.95755742e-03],\n",
       "       [8.82939131e-03],\n",
       "       [9.25661620e-03],\n",
       "       [9.39902902e-03],\n",
       "       [9.39902902e-03],\n",
       "       [9.25661620e-03],\n",
       "       [9.25661620e-03],\n",
       "       [9.82625391e-03],\n",
       "       [9.82625391e-03],\n",
       "       [9.82625391e-03],\n",
       "       [9.82625391e-03],\n",
       "       [9.82625391e-03],\n",
       "       [9.39902902e-03],\n",
       "       [9.52719513e-03],\n",
       "       [9.64112811e-03],\n",
       "       [9.39902902e-03],\n",
       "       [9.39902902e-03],\n",
       "       [9.39902902e-03],\n",
       "       [9.39902902e-03],\n",
       "       [9.54144185e-03],\n",
       "       [9.54144185e-03],\n",
       "       [9.54144185e-03],\n",
       "       [9.82625391e-03],\n",
       "       [9.82625391e-03],\n",
       "       [9.54144185e-03],\n",
       "       [9.64112811e-03],\n",
       "       [9.82625391e-03],\n",
       "       [9.25661620e-03],\n",
       "       [9.25661620e-03],\n",
       "       [9.25661620e-03],\n",
       "       [9.68384109e-03],\n",
       "       [9.68384109e-03],\n",
       "       [9.68384109e-03],\n",
       "       [9.68384109e-03],\n",
       "       [9.39902902e-03],\n",
       "       [9.82625391e-03],\n",
       "       [9.82625391e-03],\n",
       "       [9.82625391e-03],\n",
       "       [9.82625391e-03],\n",
       "       [9.96866673e-03],\n",
       "       [1.02534788e-02],\n",
       "       [1.02534788e-02],\n",
       "       [9.82625391e-03],\n",
       "       [9.82625391e-03],\n",
       "       [9.82625391e-03],\n",
       "       [9.82625391e-03],\n",
       "       [9.82625391e-03],\n",
       "       [9.82625391e-03],\n",
       "       [1.01110796e-02],\n",
       "       [1.01110796e-02],\n",
       "       [1.01110796e-02],\n",
       "       [9.96866673e-03],\n",
       "       [9.96866673e-03],\n",
       "       [9.96866673e-03],\n",
       "       [9.96866673e-03],\n",
       "       [9.96866673e-03],\n",
       "       [1.02534788e-02],\n",
       "       [1.01110796e-02],\n",
       "       [1.05383044e-02],\n",
       "       [1.05383044e-02],\n",
       "       [1.05383044e-02],\n",
       "       [1.05383044e-02],\n",
       "       [1.05383044e-02],\n",
       "       [1.06807173e-02],\n",
       "       [1.06807173e-02],\n",
       "       [1.06807173e-02],\n",
       "       [1.06807173e-02],\n",
       "       [1.02534788e-02],\n",
       "       [1.16775799e-02],\n",
       "       [1.09655293e-02],\n",
       "       [1.03246852e-02],\n",
       "       [1.03246852e-02],\n",
       "       [1.06807173e-02],\n",
       "       [1.06807173e-02],\n",
       "       [1.06807173e-02],\n",
       "       [1.06807173e-02],\n",
       "       [1.06807173e-02],\n",
       "       [1.12503550e-02],\n",
       "       [1.06664706e-02],\n",
       "       [1.05383044e-02],\n",
       "       [1.05383044e-02],\n",
       "       [1.05383044e-02],\n",
       "       [1.05383044e-02],\n",
       "       [1.05383044e-02],\n",
       "       [1.05383044e-02],\n",
       "       [1.03958916e-02],\n",
       "       [1.03958916e-02],\n",
       "       [1.03958916e-02],\n",
       "       [1.04528649e-02],\n",
       "       [1.05383044e-02],\n",
       "       [1.05383044e-02],\n",
       "       [1.08231301e-02],\n",
       "       [1.02534788e-02],\n",
       "       [1.02534788e-02],\n",
       "       [1.01110796e-02],\n",
       "       [1.08231301e-02],\n",
       "       [1.08231301e-02],\n",
       "       [1.12503550e-02],\n",
       "       [1.12503550e-02],\n",
       "       [1.12503550e-02],\n",
       "       [1.12503550e-02],\n",
       "       [1.12503550e-02],\n",
       "       [1.12503550e-02],\n",
       "       [1.08231301e-02],\n",
       "       [1.12503550e-02],\n",
       "       [1.12503550e-02],\n",
       "       [1.11079422e-02],\n",
       "       [1.12503550e-02],\n",
       "       [1.12503550e-02],\n",
       "       [1.12503550e-02],\n",
       "       [1.15351670e-02],\n",
       "       [1.15351670e-02],\n",
       "       [1.15351670e-02],\n",
       "       [1.15351670e-02],\n",
       "       [1.15351670e-02],\n",
       "       [1.12503550e-02],\n",
       "       [1.15351670e-02],\n",
       "       [1.15351670e-02],\n",
       "       [1.12503550e-02],\n",
       "       [1.15351670e-02],\n",
       "       [1.16775799e-02],\n",
       "       [1.18484725e-02],\n",
       "       [1.19624055e-02],\n",
       "       [1.16775799e-02],\n",
       "       [1.18199927e-02],\n",
       "       [1.19624055e-02],\n",
       "       [1.19624055e-02],\n",
       "       [1.19624055e-02],\n",
       "       [1.18199927e-02],\n",
       "       [1.19624055e-02],\n",
       "       [1.19624055e-02],\n",
       "       [1.19624055e-02],\n",
       "       [1.18199927e-02],\n",
       "       [1.18199927e-02],\n",
       "       [1.18911991e-02],\n",
       "       [1.19624055e-02],\n",
       "       [1.19339121e-02],\n",
       "       [1.18199927e-02],\n",
       "       [1.19624055e-02],\n",
       "       [1.21048048e-02],\n",
       "       [1.21048048e-02],\n",
       "       [1.21048048e-02],\n",
       "       [1.23896304e-02],\n",
       "       [1.26744425e-02],\n",
       "       [1.23896304e-02],\n",
       "       [1.23896304e-02],\n",
       "       [1.22472176e-02],\n",
       "       [1.21048048e-02],\n",
       "       [1.22472176e-02],\n",
       "       [1.18199927e-02],\n",
       "       [1.23896304e-02],\n",
       "       [1.39561307e-02],\n",
       "       [1.33864930e-02],\n",
       "       [1.26744425e-02],\n",
       "       [1.25320432e-02],\n",
       "       [1.26317295e-02],\n",
       "       [1.22472176e-02],\n",
       "       [1.19624055e-02],\n",
       "       [2.83394999e-02],\n",
       "       [7.39105575e-02],\n",
       "       [7.39105575e-02],\n",
       "       [6.02392389e-02],\n",
       "       [3.20421518e-02],\n",
       "       [3.54599781e-02],\n",
       "       [2.62033619e-02],\n",
       "       [2.15038474e-02],\n",
       "       [2.46368480e-02],\n",
       "       [2.03645584e-02],\n",
       "       [1.78011954e-02],\n",
       "       [1.40985435e-02],\n",
       "       [1.69467321e-02],\n",
       "       [1.62346816e-02],\n",
       "       [1.69467321e-02],\n",
       "       [1.85132460e-02],\n",
       "       [2.05069712e-02],\n",
       "       [2.19310722e-02],\n",
       "       [1.95101086e-02],\n",
       "       [2.08630032e-02],\n",
       "       [1.60922823e-02],\n",
       "       [1.53802318e-02],\n",
       "       [1.83708332e-02],\n",
       "       [1.83708332e-02],\n",
       "       [2.12190217e-02],\n",
       "       [2.03645584e-02],\n",
       "       [2.13614345e-02],\n",
       "       [2.29279348e-02],\n",
       "       [3.18997390e-02],\n",
       "       [3.74537169e-02],\n",
       "       [3.26117895e-02],\n",
       "       [3.11876884e-02],\n",
       "       [3.17573262e-02],\n",
       "       [3.70264784e-02],\n",
       "       [3.03332387e-02],\n",
       "       [3.61720286e-02],\n",
       "       [4.01594926e-02],\n",
       "       [4.54286448e-02],\n",
       "       [6.89262309e-02],\n",
       "       [6.25177897e-02],\n",
       "       [6.30874274e-02],\n",
       "       [5.32611735e-02],\n",
       "       [4.97009344e-02],\n",
       "       [5.09826227e-02],\n",
       "       [5.29763479e-02],\n",
       "       [5.22643109e-02],\n",
       "       [7.60467091e-02],\n",
       "       [9.96866945e-02],\n",
       "       [1.54799180e-01],\n",
       "       [2.50498425e-01],\n",
       "       [2.96069469e-01],\n",
       "       [2.31842779e-01],\n",
       "       [1.86698947e-01],\n",
       "       [1.75448578e-01],\n",
       "       [2.23155787e-01],\n",
       "       [1.89974360e-01],\n",
       "       [2.07490730e-01],\n",
       "       [2.29991440e-01],\n",
       "       [2.70435758e-01],\n",
       "       [2.72287070e-01],\n",
       "       [2.56194802e-01],\n",
       "       [2.73283960e-01],\n",
       "       [3.48618632e-01],\n",
       "       [3.11307315e-01],\n",
       "       [3.48333807e-01],\n",
       "       [3.45200779e-01],\n",
       "       [3.76815719e-01],\n",
       "       [9.08003326e-01],\n",
       "       [1.00000000e+00],\n",
       "       [7.90373105e-01],\n",
       "       [7.26146361e-01],\n",
       "       [7.75989709e-01],\n",
       "       [8.34804819e-01],\n",
       "       [7.60751890e-01],\n",
       "       [7.76844131e-01],\n",
       "       [8.29108524e-01],\n",
       "       [8.03047547e-01],\n",
       "       [8.61435447e-01],\n",
       "       [9.33494651e-01],\n",
       "       [9.21105089e-01],\n",
       "       [8.77100477e-01],\n",
       "       [7.69581267e-01],\n",
       "       [8.26829919e-01],\n",
       "       [8.26260267e-01],\n",
       "       [8.03047547e-01],\n",
       "       [6.79008776e-01],\n",
       "       [5.61236061e-01],\n",
       "       [4.37482170e-01],\n",
       "       [6.34007356e-01],\n",
       "       [6.72372496e-01],\n",
       "       [6.36997999e-01],\n",
       "       [6.32868108e-01],\n",
       "       [6.21332914e-01],\n",
       "       [6.41839926e-01],\n",
       "       [6.12645922e-01],\n",
       "       [5.60096812e-01],\n",
       "       [4.12133285e-01],\n",
       "       [4.30646517e-01],\n",
       "       [3.85360271e-01],\n",
       "       [3.47906541e-01],\n",
       "       [2.90657917e-01],\n",
       "       [3.37368264e-01],\n",
       "       [3.30959822e-01],\n",
       "       [3.09313562e-01],\n",
       "       [2.78410686e-01],\n",
       "       [2.91797193e-01],\n",
       "       [3.84221023e-01],\n",
       "       [4.17687249e-01],\n",
       "       [3.63429186e-01],\n",
       "       [3.81515207e-01],\n",
       "       [3.87496437e-01],\n",
       "       [5.02705776e-01],\n",
       "       [4.49871786e-01],\n",
       "       [4.74223863e-01],\n",
       "       [5.19225283e-01],\n",
       "       [5.19082843e-01],\n",
       "       [4.85046966e-01],\n",
       "       [4.59270815e-01],\n",
       "       [4.70236358e-01],\n",
       "       [4.47593236e-01],\n",
       "       [4.25234938e-01],\n",
       "       [4.15551084e-01],\n",
       "       [4.22529176e-01],\n",
       "       [4.17402423e-01],\n",
       "       [4.24380516e-01],\n",
       "       [4.53432025e-01],\n",
       "       [4.45741950e-01],\n",
       "       [4.48447712e-01],\n",
       "       [4.25946975e-01],\n",
       "       [3.79094270e-01],\n",
       "       [3.70834489e-01],\n",
       "       [5.77328357e-01],\n",
       "       [4.67957807e-01],\n",
       "       [3.99601228e-01],\n",
       "       [3.22130445e-01],\n",
       "       [3.74252343e-01],\n",
       "       [3.32099125e-01],\n",
       "       [3.38507512e-01],\n",
       "       [3.46340081e-01],\n",
       "       [3.51466780e-01],\n",
       "       [2.57334077e-01],\n",
       "       [2.70578171e-01],\n",
       "       [1.65764723e-01],\n",
       "       [1.36570774e-01],\n",
       "       [1.41697499e-01],\n",
       "       [1.39418949e-01],\n",
       "       [1.19196790e-01],\n",
       "       [1.56223281e-01],\n",
       "       [2.07917968e-01],\n",
       "       [2.09911693e-01],\n",
       "       [2.03218454e-01],\n",
       "       [2.00227839e-01],\n",
       "       [2.30845890e-01],\n",
       "       [2.20592411e-01],\n",
       "       [2.15750483e-01],\n",
       "       [2.08487592e-01],\n",
       "       [2.09626868e-01],\n",
       "       [2.07917968e-01],\n",
       "       [1.96382774e-01],\n",
       "       [1.42907995e-01],\n",
       "       [1.55938456e-01],\n",
       "       [1.59641108e-01],\n",
       "       [1.81287368e-01],\n",
       "       [1.88123020e-01],\n",
       "       [1.85559671e-01],\n",
       "       [1.62346897e-01],\n",
       "       [1.69182550e-01],\n",
       "       [1.44688114e-01],\n",
       "       [1.46397041e-01],\n",
       "       [1.25320405e-01],\n",
       "       [1.29165470e-01],\n",
       "       [1.32868122e-01],\n",
       "       [1.27456543e-01],\n",
       "       [1.48675592e-01],\n",
       "       [1.43406426e-01],\n",
       "       [1.29877507e-01],\n",
       "       [1.21332955e-01],\n",
       "       [1.51951005e-01],\n",
       "       [1.43264013e-01],\n",
       "       [1.66191962e-01],\n",
       "       [1.76445441e-01],\n",
       "       [1.78296780e-01],\n",
       "       [2.26573613e-01],\n",
       "       [2.38108781e-01],\n",
       "       [2.40244919e-01],\n",
       "       [2.83395026e-01],\n",
       "       [3.55881496e-01],\n",
       "       [2.95215019e-01],\n",
       "       [2.62318417e-01],\n",
       "       [1.55226419e-01],\n",
       "       [1.11933926e-01],\n",
       "       [1.25462818e-01],\n",
       "       [1.34861847e-01],\n",
       "       [1.33437746e-01],\n",
       "       [1.27171745e-01],\n",
       "       [1.34007397e-01],\n",
       "       [1.25320405e-01],\n",
       "       [1.29023057e-01],\n",
       "       [1.15494165e-01],\n",
       "       [9.82625934e-02],\n",
       "       [9.92594560e-02],\n",
       "       [1.06664760e-01],\n",
       "       [1.09797760e-01],\n",
       "       [1.07804035e-01],\n",
       "       [1.06949586e-01],\n",
       "       [1.04243796e-01],\n",
       "       [7.86100720e-02],\n",
       "       [6.03816517e-02],\n",
       "       [9.81914006e-02],\n",
       "       [9.42751159e-02],\n",
       "       [9.21389779e-02],\n",
       "       [8.18854991e-02],\n",
       "       [9.35630789e-02],\n",
       "       [9.28510420e-02],\n",
       "       [9.52720056e-02],\n",
       "       [1.18342340e-01],\n",
       "       [1.17345477e-01],\n",
       "       [1.07804035e-01],\n",
       "       [1.31159195e-01],\n",
       "       [1.50099666e-01],\n",
       "       [1.68043274e-01],\n",
       "       [1.45684977e-01],\n",
       "       [1.53517519e-01],\n",
       "       [1.42409564e-01],\n",
       "       [1.48533179e-01],\n",
       "       [1.51096556e-01],\n",
       "       [1.59925933e-01],\n",
       "       [2.29706614e-01],\n",
       "       [2.71575033e-01],\n",
       "       [1.94673874e-01],\n",
       "       [1.93392186e-01],\n",
       "       [1.99373389e-01],\n",
       "       [1.92110498e-01],\n",
       "       [2.12475070e-01],\n",
       "       [2.12332657e-01],\n",
       "       [2.00655077e-01],\n",
       "       [1.99230976e-01],\n",
       "       [1.90686397e-01],\n",
       "       [1.91683260e-01],\n",
       "       [1.86698947e-01],\n",
       "       [1.75448578e-01],\n",
       "       [1.77015092e-01],\n",
       "       [1.73882064e-01],\n",
       "       [1.54514382e-01],\n",
       "       [1.68755338e-01],\n",
       "       [1.62489310e-01],\n",
       "       [1.44972940e-01],\n",
       "       [1.65907136e-01],\n",
       "       [1.45400151e-01],\n",
       "       [1.22329817e-01],\n",
       "       [1.22614643e-01],\n",
       "       [1.19339202e-01],\n",
       "       [1.00113933e-01],\n",
       "       [9.28510420e-02],\n",
       "       [7.67587461e-02],\n",
       "       [7.27712821e-02],\n",
       "       [9.02876655e-02],\n",
       "       [9.24238035e-02],\n",
       "       [1.08017641e-01],\n",
       "       [1.06949586e-01],\n",
       "       [1.07519210e-01],\n",
       "       [9.02876655e-02],\n",
       "       [9.79777678e-02],\n",
       "       [7.50498329e-02],\n",
       "       [8.41640499e-02],\n",
       "       [8.60153759e-02],\n",
       "       [7.81828471e-02],\n",
       "       [6.47963541e-02],\n",
       "       [6.67900793e-02],\n",
       "       [6.60780288e-02],\n",
       "       [6.09512894e-02],\n",
       "       [6.45115285e-02],\n",
       "       [6.23753905e-02],\n",
       "       [6.26602025e-02],\n",
       "       [4.72799708e-02],\n",
       "       [5.28339486e-02],\n",
       "       [3.95898549e-02],\n",
       "       [4.55710576e-02],\n",
       "       [4.68527459e-02],\n",
       "       [3.31814272e-02],\n",
       "       [3.61720286e-02],\n",
       "       [3.18997390e-02],\n",
       "       [1.59498695e-02],\n",
       "       [2.09341961e-02],\n",
       "       [1.11079422e-02],\n",
       "       [1.99372520e-03],\n",
       "       [1.11079422e-02],\n",
       "       [3.21845646e-02],\n",
       "       [2.89803440e-02],\n",
       "       [4.04443182e-02],\n",
       "       [4.01594926e-02],\n",
       "       [3.71688912e-02],\n",
       "       [3.37510649e-02],\n",
       "       [2.93363625e-02],\n",
       "       [2.12190217e-02],\n",
       "       [1.85132460e-02],\n",
       "       [1.29592681e-02],\n",
       "       [8.97180414e-03],\n",
       "       [2.83394999e-02],\n",
       "       [2.49216736e-02],\n",
       "       [3.30390144e-02],\n",
       "       [4.35773188e-02],\n",
       "       [3.37510649e-02],\n",
       "       [3.71688912e-02],\n",
       "       [4.91312967e-02],\n",
       "       [6.03816517e-02],\n",
       "       [4.82768334e-02],\n",
       "       [4.64255210e-02],\n",
       "       [3.51751524e-02],\n",
       "       [3.68840791e-02],\n",
       "       [4.00170798e-02],\n",
       "       [4.97009344e-02],\n",
       "       [8.51609125e-02],\n",
       "       [7.76132094e-02],\n",
       "       [8.44488620e-02],\n",
       "       [1.25747644e-01],\n",
       "       [1.04955833e-01],\n",
       "       [1.06522347e-01],\n",
       "       [1.15921376e-01],\n",
       "       [1.28738231e-01],\n",
       "       [1.13642825e-01],\n",
       "       [1.03816558e-01],\n",
       "       [1.14497275e-01],\n",
       "       [1.09655348e-01],\n",
       "       [8.67274264e-02],\n",
       "       [8.90059772e-02],\n",
       "       [1.06807173e-01],\n",
       "       [9.96866945e-02],\n",
       "       [9.44175287e-02],\n",
       "       [1.11221862e-01],\n",
       "       [1.21760166e-01],\n",
       "       [1.24323542e-01],\n",
       "       [1.22329817e-01],\n",
       "       [1.34149810e-01],\n",
       "       [1.16918239e-01],\n",
       "       [1.21760166e-01],\n",
       "       [1.06522347e-01],\n",
       "       [9.86898319e-02]])"
      ]
     },
     "execution_count": 8,
     "metadata": {},
     "output_type": "execute_result"
    }
   ],
   "source": [
    "# Scale the data\n",
    "scaler = MinMaxScaler(feature_range=(0,1))\n",
    "scaled_data = scaler.fit_transform(dataset)\n",
    "scaled_data"
   ]
  },
  {
   "cell_type": "code",
   "execution_count": 9,
   "metadata": {
    "colab": {
     "base_uri": "https://localhost:8080/"
    },
    "id": "f16_xipl2Sv3",
    "outputId": "ee2c223b-2d9b-449f-dc5a-d00d3212187e"
   },
   "outputs": [
    {
     "name": "stdout",
     "output_type": "stream",
     "text": [
      "[array([0.00099686, 0.00071205, 0.00085445, 0.00085445, 0.00085445,\n",
      "       0.00099686, 0.00085445, 0.00113928, 0.00113928, 0.00099686,\n",
      "       0.00099686, 0.00099686, 0.00099686, 0.00099686, 0.00099686,\n",
      "       0.00099686, 0.00099686, 0.00099686, 0.00099686, 0.00099686,\n",
      "       0.00042722, 0.00042722, 0.00042722, 0.00042722, 0.00048418,\n",
      "       0.00085445, 0.00056964, 0.00044147, 0.00044147, 0.00048418,\n",
      "       0.00056964, 0.00056964, 0.00042722, 0.00042722, 0.00056964,\n",
      "       0.00071205, 0.00056964, 0.00056964, 0.00056964, 0.00056964,\n",
      "       0.00056964, 0.00056964, 0.00056964, 0.00056964, 0.00056964,\n",
      "       0.00056964, 0.00071205, 0.00071205, 0.00071205, 0.00099686,\n",
      "       0.00099686, 0.00085445, 0.00099686, 0.00099686, 0.00085445,\n",
      "       0.00085445, 0.00099686, 0.00099686, 0.00099686, 0.00085445])]\n",
      "[0.0008544497759843395]\n",
      "\n"
     ]
    }
   ],
   "source": [
    "# Create training Dataset\n",
    "#create the scaled Training Data Set\n",
    "train_data = scaled_data[0:training_data_len,:]\n",
    "#split the data into x_train and y_train data sets\n",
    "x_train = []\n",
    "y_train = []\n",
    "\n",
    "for i in range(60, len(train_data)):\n",
    "  x_train.append(train_data[i-60:i,0])\n",
    "  y_train.append(train_data[i,0])\n",
    "  if i<=60:\n",
    "    print(x_train)\n",
    "    print(y_train)\n",
    "    print()"
   ]
  },
  {
   "cell_type": "code",
   "execution_count": 10,
   "metadata": {
    "id": "YA4NqFsVRHMd"
   },
   "outputs": [],
   "source": [
    "# convert the x_train and y_train to numpy arrays\n",
    "x_train, y_train = np.array(x_train), np.array(y_train)"
   ]
  },
  {
   "cell_type": "code",
   "execution_count": 11,
   "metadata": {
    "colab": {
     "base_uri": "https://localhost:8080/"
    },
    "id": "B1zINDS3RriC",
    "outputId": "f3e0180e-f3c1-4987-df00-3dc10a76e37b"
   },
   "outputs": [
    {
     "name": "stdout",
     "output_type": "stream",
     "text": [
      "558 60\n"
     ]
    }
   ],
   "source": [
    "samples,time_steps = x_train.shape\n",
    "print(samples,time_steps)"
   ]
  },
  {
   "cell_type": "code",
   "execution_count": 12,
   "metadata": {
    "colab": {
     "base_uri": "https://localhost:8080/"
    },
    "id": "zaeN9u--RUIx",
    "outputId": "fbc1919f-9ee7-4e4f-eb7d-f2b2bb1cecd9"
   },
   "outputs": [
    {
     "data": {
      "text/plain": [
       "(558, 60, 1)"
      ]
     },
     "execution_count": 12,
     "metadata": {},
     "output_type": "execute_result"
    }
   ],
   "source": [
    "# Reshaping the data\n",
    "x_train = np.reshape((x_train),(samples,time_steps,1))\n",
    "x_train.shape"
   ]
  },
  {
   "cell_type": "markdown",
   "metadata": {},
   "source": [
    "<p style=\"font-size:18px;color:gray;\"> <strong style=\"line-height: 0px;\">Step 5: LSTM build</strong> </p> <p style=\"font-size:18px;color:gray;line-height:normal;\">At this point our dataset is clean and scaled, this allows us to build the LSTM model that is going to process and predict the values. The two main parameters used are  optimizer=<span style=\"color:green;\">'adam'</span> and loss=<span style=\"color:green;\">'mean_squared_error'</span>; which are found in the <span class=\"py-modules\">LSTM</span> module</p>"
   ]
  },
  {
   "cell_type": "code",
   "execution_count": 13,
   "metadata": {
    "id": "t6cbgTx2RWs6"
   },
   "outputs": [],
   "source": [
    "# Building the LSTM Model\n",
    "model = Sequential()\n",
    "# Creating Layers\n",
    "model.add(LSTM(50, return_sequences=True, input_shape=(time_steps,1)))\n",
    "model.add(LSTM(50, return_sequences=False))\n",
    "model.add(Dense(25))\n",
    "model.add(Dense(1))"
   ]
  },
  {
   "cell_type": "code",
   "execution_count": 14,
   "metadata": {
    "id": "GCPh8AaeS7Cd"
   },
   "outputs": [],
   "source": [
    "# Compiling the model\n",
    "# Loss function is used to measure how well the model did on training.\n",
    "model.compile(optimizer='adam', loss='mean_squared_error')"
   ]
  },
  {
   "cell_type": "markdown",
   "metadata": {},
   "source": [
    "<p style=\"font-size:18px;color:gray;\"> <strong style=\"line-height: 0px;\">Step 6: Training our Model\n",
    "    </strong> </p> <p style=\"font-size:18px;color:gray;line-height:normal;\">It's time to train our model, this requires a x_train and y_train datasets, among other parameters. To see the meaning of these parameters please visit tensorflow's official website <a href=\"https://www.tensorflow.org/api_docs/python/tf/keras/layers/LSTM\">https://www.tensorflow.org/api_docs/python/tf/keras/layers/LSTM</a> </p>"
   ]
  },
  {
   "cell_type": "code",
   "execution_count": 15,
   "metadata": {
    "colab": {
     "base_uri": "https://localhost:8080/"
    },
    "id": "22LJOS7cTSuW",
    "outputId": "b6699d2a-fe9a-4bb1-d77d-dbaaedb3af45"
   },
   "outputs": [
    {
     "name": "stdout",
     "output_type": "stream",
     "text": [
      "Epoch 1/2\n",
      "Epoch 2/2\n"
     ]
    },
    {
     "data": {
      "text/plain": [
       "<tensorflow.python.keras.callbacks.History at 0x1a367d854a8>"
      ]
     },
     "execution_count": 15,
     "metadata": {},
     "output_type": "execute_result"
    }
   ],
   "source": [
    "#training the Model\n",
    "# Batch size is the total number of training examples present in a single batch\n",
    "# Epoch is the iterations when an entire dataset is passed forward and backward through a neural network\n",
    "model.fit(x_train, y_train, batch_size=1, epochs=2,verbose=5)"
   ]
  },
  {
   "cell_type": "code",
   "execution_count": 16,
   "metadata": {
    "id": "eR3ZRkV0T4jE"
   },
   "outputs": [],
   "source": [
    "# creating the Testing dataset \n",
    "# Array that contained scaled values test_data = scaled_data[training_data_len - 60:through the end, all columns]\n",
    "\n",
    "test_data = scaled_data[training_data_len-60: , :]\n",
    "# Creating testing datasets \n",
    "x_test = []\n",
    "y_test = dataset[training_data_len: , :]\n",
    "\n",
    "for i in range(60, len(test_data)):\n",
    "  x_test.append(test_data[i-60:i,0])\n",
    "  \n"
   ]
  },
  {
   "cell_type": "code",
   "execution_count": 17,
   "metadata": {
    "id": "aFz2AQ0oU4gx"
   },
   "outputs": [],
   "source": [
    "# Converting data to a numpy Array\n",
    "x_test = np.array(x_test)\n"
   ]
  },
  {
   "cell_type": "code",
   "execution_count": 18,
   "metadata": {
    "id": "hV5oS2neVCZT"
   },
   "outputs": [],
   "source": [
    "# Reshaping the data, because LST model is expecting a 3 dimensional array\n",
    "# x_test.shape[0] represents the number of Rows, \n",
    "#  x_test.shape[1] represents the number of time steps\n",
    "# 3rd element in the dimensional array (1) represents the close price\n",
    "x_test = np.reshape(x_test, (x_test.shape[0], x_test.shape[1], 1))"
   ]
  },
  {
   "cell_type": "markdown",
   "metadata": {},
   "source": [
    "<p style=\"font-size:18px;color:gray;\"> <strong style=\"line-height: 0px;\">Step 7: Make/Perform the Predictions\n",
    "    </strong> </p> <p style=\"font-size:18px;color:gray;line-height:normal;\">To make our predictions we need make use of our x_test dataset, it's important to mention that this numpy array must be a three dimensional array(see description in cell above)</p>"
   ]
  },
  {
   "cell_type": "code",
   "execution_count": 19,
   "metadata": {
    "id": "pgbSP2mqVie6"
   },
   "outputs": [],
   "source": [
    "# Get the models predicted price values\n",
    "# This step \"unscale\" the values\n",
    "\n",
    "predictions = model.predict(x_test)\n",
    "predictions = scaler.inverse_transform(predictions)\n"
   ]
  },
  {
   "cell_type": "markdown",
   "metadata": {
    "id": "2cSJNiQRWc_B"
   },
   "source": [
    "Model<p style=\"font-size:18px;color:gray;\"> <strong style=\"line-height: 0px;\">Step 8: Model Evaluation\n",
    "    </strong> </p> <p style=\"font-size:18px;color:gray;line-height:normal;\">For the model evaluation we'll utilize RMSE as our main indicator</p> Evaluation"
   ]
  },
  {
   "cell_type": "code",
   "execution_count": 20,
   "metadata": {
    "colab": {
     "base_uri": "https://localhost:8080/"
    },
    "id": "ebs8KLDlWKup",
    "outputId": "0e183bc9-23b2-437d-bf85-3e7bdc87af92"
   },
   "outputs": [
    {
     "data": {
      "text/plain": [
       "2.20183835710798"
      ]
     },
     "execution_count": 20,
     "metadata": {},
     "output_type": "execute_result"
    }
   ],
   "source": [
    "# Evaluating our model, Getting the root mean error (RMSE), Model accuracy \n",
    "rmse = np.sqrt(np.mean(predictions-y_test)**2)\n",
    "rmse"
   ]
  },
  {
   "cell_type": "markdown",
   "metadata": {
    "id": "YqQZsxI3Wtsn"
   },
   "source": [
    "<p style=\"font-size:18px;color:gray;\"> <strong style=\"line-height: 0px;\">Step 9: Plotting trained, tested and predicted datasets.\n",
    "    </strong> </p> <p style=\"font-size:18px;color:gray;line-height:normal;\">During this step we will use our training data, test data and predictions to easily visualize the accuracy of our model. Our training data represents the 80% of the original data set, and the teste data the rest; our predicted values has the same length as our test data but this data has been already processed by our model</p>"
   ]
  },
  {
   "cell_type": "code",
   "execution_count": 21,
   "metadata": {
    "colab": {
     "base_uri": "https://localhost:8080/"
    },
    "id": "ZfnisDSUW-9_",
    "outputId": "6c2c2fc1-d480-431d-96da-40d45ece720b"
   },
   "outputs": [],
   "source": [
    "train = data[:training_data_len]\n",
    "valid = data[training_data_len:]\n",
    "valid['predictions'] = predictions"
   ]
  },
  {
   "cell_type": "code",
   "execution_count": 22,
   "metadata": {
    "colab": {
     "base_uri": "https://localhost:8080/",
     "height": 573
    },
    "id": "rGoSibJwXMme",
    "outputId": "fd3a9350-dafb-4f6b-a535-d7b5648c48d3"
   },
   "outputs": [
    {
     "data": {
      "image/png": "[encoded data removed]",
      "text/plain": [
       "<Figure size 1296x648 with 1 Axes>"
      ]
     },
     "metadata": {
      "needs_background": "light"
     },
     "output_type": "display_data"
    }
   ],
   "source": [
    "# Visualize the models data\n",
    "plt.figure(figsize=(18,9))\n",
    "plt.title('Model')\n",
    "plt.xlabel(\"Date\", fontsize=18)\n",
    "plt.ylabel(\"Close Price USD\", fontsize=18)\n",
    "plt.plot(train['close'])\n",
    "plt.plot(valid[['close','predictions']])\n",
    "plt.legend(['Train','val','predictions'], loc='lower right')\n",
    "plt.show()"
   ]
  },
  {
   "cell_type": "code",
   "execution_count": 23,
   "metadata": {
    "colab": {
     "base_uri": "https://localhost:8080/",
     "height": 450
    },
    "id": "AI_Ruc8TYFUz",
    "outputId": "347a19d6-607a-4a15-ffcc-29567747c04b"
   },
   "outputs": [
    {
     "data": {
      "text/html": [
       "<div>\n",
       "<style scoped>\n",
       "    .dataframe tbody tr th:only-of-type {\n",
       "        vertical-align: middle;\n",
       "    }\n",
       "\n",
       "    .dataframe tbody tr th {\n",
       "        vertical-align: top;\n",
       "    }\n",
       "\n",
       "    .dataframe thead th {\n",
       "        text-align: right;\n",
       "    }\n",
       "</style>\n",
       "<table border=\"1\" class=\"dataframe\">\n",
       "  <thead>\n",
       "    <tr style=\"text-align: right;\">\n",
       "      <th></th>\n",
       "      <th>close</th>\n",
       "      <th>predictions</th>\n",
       "    </tr>\n",
       "    <tr>\n",
       "      <th>date</th>\n",
       "      <th></th>\n",
       "      <th></th>\n",
       "    </tr>\n",
       "  </thead>\n",
       "  <tbody>\n",
       "    <tr>\n",
       "      <th>2020-11-20</th>\n",
       "      <td>26.379999</td>\n",
       "      <td>25.044897</td>\n",
       "    </tr>\n",
       "    <tr>\n",
       "      <th>2020-11-23</th>\n",
       "      <td>29.410000</td>\n",
       "      <td>26.226120</td>\n",
       "    </tr>\n",
       "    <tr>\n",
       "      <th>2020-11-24</th>\n",
       "      <td>34.500000</td>\n",
       "      <td>27.663298</td>\n",
       "    </tr>\n",
       "    <tr>\n",
       "      <th>2020-11-25</th>\n",
       "      <td>30.240000</td>\n",
       "      <td>29.757742</td>\n",
       "    </tr>\n",
       "    <tr>\n",
       "      <th>2020-11-27</th>\n",
       "      <td>27.930000</td>\n",
       "      <td>31.306885</td>\n",
       "    </tr>\n",
       "    <tr>\n",
       "      <th>...</th>\n",
       "      <td>...</td>\n",
       "      <td>...</td>\n",
       "    </tr>\n",
       "    <tr>\n",
       "      <th>2021-06-28</th>\n",
       "      <td>18.930000</td>\n",
       "      <td>19.465872</td>\n",
       "    </tr>\n",
       "    <tr>\n",
       "      <th>2021-06-29</th>\n",
       "      <td>17.719999</td>\n",
       "      <td>19.852314</td>\n",
       "    </tr>\n",
       "    <tr>\n",
       "      <th>2021-06-30</th>\n",
       "      <td>18.059999</td>\n",
       "      <td>20.063820</td>\n",
       "    </tr>\n",
       "    <tr>\n",
       "      <th>2021-07-01</th>\n",
       "      <td>16.990000</td>\n",
       "      <td>20.203651</td>\n",
       "    </tr>\n",
       "    <tr>\n",
       "      <th>2021-07-02</th>\n",
       "      <td>16.440001</td>\n",
       "      <td>20.140184</td>\n",
       "    </tr>\n",
       "  </tbody>\n",
       "</table>\n",
       "<p>154 rows × 2 columns</p>\n",
       "</div>"
      ],
      "text/plain": [
       "                close  predictions\n",
       "date                              \n",
       "2020-11-20  26.379999    25.044897\n",
       "2020-11-23  29.410000    26.226120\n",
       "2020-11-24  34.500000    27.663298\n",
       "2020-11-25  30.240000    29.757742\n",
       "2020-11-27  27.930000    31.306885\n",
       "...               ...          ...\n",
       "2021-06-28  18.930000    19.465872\n",
       "2021-06-29  17.719999    19.852314\n",
       "2021-06-30  18.059999    20.063820\n",
       "2021-07-01  16.990000    20.203651\n",
       "2021-07-02  16.440001    20.140184\n",
       "\n",
       "[154 rows x 2 columns]"
      ]
     },
     "execution_count": 23,
     "metadata": {},
     "output_type": "execute_result"
    }
   ],
   "source": [
    "# show the Valid(actual prices) and the predicted prices\n",
    "valid"
   ]
  },
  {
   "cell_type": "markdown",
   "metadata": {},
   "source": [
    "#### Storing predicted values in our Database"
   ]
  },
  {
   "cell_type": "code",
   "execution_count": 24,
   "metadata": {},
   "outputs": [],
   "source": [
    "valid['stock_id'] = id\n",
    "valid.reset_index(drop=True,inplace=True)\n",
    "valid.to_sql(name='predicted', con=engine, if_exists='append', index=False)"
   ]
  },
  {
   "cell_type": "markdown",
   "metadata": {},
   "source": [
    "<p style=\"font-size:18px;color:gray;\"> <strong style=\"line-height: 0px;\">Step 10: Saving Model(h5).\n",
    "    </strong> </p> <p style=\"font-size:18px;color:gray;line-height:normal;\">Finally that we have verified our model accuracy and performance we can save it.</p>"
   ]
  },
  {
   "cell_type": "code",
   "execution_count": 25,
   "metadata": {
    "id": "FBdRH0RcYiNE"
   },
   "outputs": [],
   "source": [
    "# Saving Model\n",
    "model.save(\"nikola_model.h5\")"
   ]
  },
  {
   "cell_type": "markdown",
   "metadata": {},
   "source": [
    "<p style=\"font-size:22px;color:black;text-align:center\"> <strong style=\"line-height: 0px;\">Conclusion\n",
    "    </strong> </p> <p style=\"font-size:18px;color:gray;line-height:normal;\">LSTM can be applied to predict future stock values on different markets. Even though this model can be very accurate, this doesn't mean it can be used by itself to make decisions, this must be use in conjuntion with risk analysis, financial analysis and market evaluation. Please do not use this models as definitive tool to predict the market! </p>"
   ]
  }
 ],
 "metadata": {
  "colab": {
   "collapsed_sections": [],
   "name": "Stockprer.ipynb",
   "provenance": []
  },
  "kernelspec": {
   "display_name": "Python 3",
   "language": "python",
   "name": "python3"
  },
  "language_info": {
   "codemirror_mode": {
    "name": "ipython",
    "version": 3
   },
   "file_extension": ".py",
   "mimetype": "text/x-python",
   "name": "python",
   "nbconvert_exporter": "python",
   "pygments_lexer": "ipython3",
   "version": "3.6.13"
  }
 },
 "nbformat": 4,
 "nbformat_minor": 1
}
