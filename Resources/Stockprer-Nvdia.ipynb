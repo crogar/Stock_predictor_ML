{
 "cells": [
  {
   "cell_type": "markdown",
   "metadata": {},
   "source": [
    "<h1 style=\"text-align:center;\"> LSTM for Stock Market Prediction</h1>\n",
    "<h2 style=\"text-align:center;\"> NVIDIA </h2>"
   ]
  },
  {
   "cell_type": "markdown",
   "metadata": {},
   "source": [
    "<p style=\"font-size:18px;color:gray;\"> <strong>Step 1:</strong> For this Predictive model we will utilize some modules that are necessary to obtain, create and visualize this predictive model such as <span class=\"py-modules\">sqlalchemy</span>, <span class=\"py-modules\">NumPy</span>, <span class=\"py-modules\">Pandas</span>, <span class=\"py-modules\">SciKitlearn</span>, <span class=\"py-modules\">MatPlotLib</span>, and <span class=\"py-modules\">Keras</span>.</p>"
   ]
  },
  {
   "cell_type": "code",
   "execution_count": 1,
   "metadata": {
    "id": "8VLZ0u3HpszS"
   },
   "outputs": [],
   "source": [
    "import math\n",
    "import numpy as np\n",
    "import pandas as pd\n",
    "from sklearn.preprocessing import MinMaxScaler\n",
    "from keras.models import Sequential\n",
    "from keras.layers import Dense, LSTM\n",
    "import matplotlib.pyplot as plt\n",
    "import datetime as dt\n",
    "import requests\n",
    "from sqlalchemy import create_engine\n",
    "from config import password"
   ]
  },
  {
   "cell_type": "markdown",
   "metadata": {},
   "source": [
    "<p style=\"font-size:18px;color:gray;\"> <strong style=\"line-height: 0px;\">Step 2:</strong> </p> <p style=\"font-size:18px;color:gray;line-height:normal;\"> Now, we start building our model by first defining the dataset that the model will train on. We're using datasets from NASDAQ provided by <a href=\"https://finance.yahoo.com/\">https://finance.yahoo.com/</a>. For this example were using <span style=\"color:blue;\">NVIDIA (NVDA)</span> historical data.\n",
    "\n",
    " <p style=\"font-size:18px;color:gray;\"> After pulling the data from our SQL database we read it using the the csv built-in function included in the Pandas library.</p>"
   ]
  },
  {
   "cell_type": "code",
   "execution_count": 2,
   "metadata": {},
   "outputs": [],
   "source": [
    "# Connecting to Database\n",
    "connection_string = f\"ofygklqv:{password}@batyr.db.elephantsql.com:5432/ofygklqv\"\n",
    "engine = create_engine(f'postgresql://{connection_string}', pool_size=2, pool_recycle=1200, connect_args={'connect_timeout': 10},\n",
    "client_encoding=\"utf8\", pool_pre_ping=True)"
   ]
  },
  {
   "cell_type": "code",
   "execution_count": 3,
   "metadata": {},
   "outputs": [
    {
     "name": "stdout",
     "output_type": "stream",
     "text": [
      "(1258, 7)\n"
     ]
    }
   ],
   "source": [
    "ticker = \"NVDA\"\n",
    "df = pd.read_sql_query('select * from ticker', con=engine)\n",
    "id = df[df['symbol']==ticker]['stock_id'].values[0] # returning ID for the specified ticker(symbol)\n",
    "df = pd.read_sql_query(f'select * from stock WHERE stock_id = {id}', con=engine)\n",
    "print(df.shape)\n",
    "df[\"date\"]=pd.to_datetime(df.date,format=\"%Y-%m-%d\")\n",
    "df.index = df['date']\n",
    "df = df[[\"close\"]]"
   ]
  },
  {
   "cell_type": "markdown",
   "metadata": {},
   "source": [
    "#### Sort date and close\n",
    "<p style=\"font-size:14px;color:gray;\"> Since the dates and values are in descending order we need to reverse the dataframe</p>"
   ]
  },
  {
   "cell_type": "code",
   "execution_count": 4,
   "metadata": {
    "colab": {
     "base_uri": "https://localhost:8080/",
     "height": 450
    },
    "id": "5SXWtnOXygLD",
    "outputId": "d6163956-f1e2-4d59-fafc-5fe22d7f6c56"
   },
   "outputs": [
    {
     "data": {
      "text/html": [
       "<div>\n",
       "<style scoped>\n",
       "    .dataframe tbody tr th:only-of-type {\n",
       "        vertical-align: middle;\n",
       "    }\n",
       "\n",
       "    .dataframe tbody tr th {\n",
       "        vertical-align: top;\n",
       "    }\n",
       "\n",
       "    .dataframe thead th {\n",
       "        text-align: right;\n",
       "    }\n",
       "</style>\n",
       "<table border=\"1\" class=\"dataframe\">\n",
       "  <thead>\n",
       "    <tr style=\"text-align: right;\">\n",
       "      <th></th>\n",
       "      <th>close</th>\n",
       "    </tr>\n",
       "    <tr>\n",
       "      <th>date</th>\n",
       "      <th></th>\n",
       "    </tr>\n",
       "  </thead>\n",
       "  <tbody>\n",
       "    <tr>\n",
       "      <th>2016-07-06</th>\n",
       "      <td>46.887440</td>\n",
       "    </tr>\n",
       "    <tr>\n",
       "      <th>2016-07-07</th>\n",
       "      <td>48.107590</td>\n",
       "    </tr>\n",
       "    <tr>\n",
       "      <th>2016-07-08</th>\n",
       "      <td>50.036221</td>\n",
       "    </tr>\n",
       "    <tr>\n",
       "      <th>2016-07-11</th>\n",
       "      <td>51.187496</td>\n",
       "    </tr>\n",
       "    <tr>\n",
       "      <th>2016-07-12</th>\n",
       "      <td>51.955021</td>\n",
       "    </tr>\n",
       "    <tr>\n",
       "      <th>...</th>\n",
       "      <td>...</td>\n",
       "    </tr>\n",
       "    <tr>\n",
       "      <th>2021-06-28</th>\n",
       "      <td>799.400024</td>\n",
       "    </tr>\n",
       "    <tr>\n",
       "      <th>2021-06-29</th>\n",
       "      <td>801.070007</td>\n",
       "    </tr>\n",
       "    <tr>\n",
       "      <th>2021-06-30</th>\n",
       "      <td>800.099976</td>\n",
       "    </tr>\n",
       "    <tr>\n",
       "      <th>2021-07-01</th>\n",
       "      <td>808.479980</td>\n",
       "    </tr>\n",
       "    <tr>\n",
       "      <th>2021-07-02</th>\n",
       "      <td>819.479980</td>\n",
       "    </tr>\n",
       "  </tbody>\n",
       "</table>\n",
       "<p>1258 rows × 1 columns</p>\n",
       "</div>"
      ],
      "text/plain": [
       "                 close\n",
       "date                  \n",
       "2016-07-06   46.887440\n",
       "2016-07-07   48.107590\n",
       "2016-07-08   50.036221\n",
       "2016-07-11   51.187496\n",
       "2016-07-12   51.955021\n",
       "...                ...\n",
       "2021-06-28  799.400024\n",
       "2021-06-29  801.070007\n",
       "2021-06-30  800.099976\n",
       "2021-07-01  808.479980\n",
       "2021-07-02  819.479980\n",
       "\n",
       "[1258 rows x 1 columns]"
      ]
     },
     "execution_count": 4,
     "metadata": {},
     "output_type": "execute_result"
    }
   ],
   "source": [
    "df = df.iloc[::-1]\n",
    "df"
   ]
  },
  {
   "cell_type": "markdown",
   "metadata": {},
   "source": [
    "<p style=\"font-size:18px;color:gray;\"> <strong style=\"line-height: 0px;\">Step 3: Plotting the close prices</strong> </p> <p style=\"font-size:18px;color:gray;line-height:normal;\">We will plot the close prices using \"Close\" values as our dependent variable and Date as our independent variable (this is time scale).</p>"
   ]
  },
  {
   "cell_type": "code",
   "execution_count": 5,
   "metadata": {
    "colab": {
     "base_uri": "https://localhost:8080/",
     "height": 590
    },
    "id": "sLXGnuj7yhp1",
    "outputId": "31f92c17-9d64-4e4e-c4db-2f72d94b7d06"
   },
   "outputs": [
    {
     "data": {
      "text/plain": [
       "Text(0, 0.5, 'Close Price USD')"
      ]
     },
     "execution_count": 5,
     "metadata": {},
     "output_type": "execute_result"
    },
    {
     "data": {
      "image/png": "[encoded data removed]",
      "text/plain": [
       "<Figure size 1152x648 with 1 Axes>"
      ]
     },
     "metadata": {
      "needs_background": "light"
     },
     "output_type": "display_data"
    }
   ],
   "source": [
    "plt.figure(figsize=(16,9))\n",
    "plt.title(\"Close Price History\")\n",
    "plt.plot(df['close'])\n",
    "plt.xlabel(\"Date\", fontsize=18)\n",
    "plt.ylabel(\"Close Price USD\")"
   ]
  },
  {
   "cell_type": "markdown",
   "metadata": {},
   "source": [
    "<p style=\"font-size:18px;color:gray;\"> <strong style=\"line-height: 0px;\">Step 4: Splitting the data into Training/Test sets </strong> </p> <p style=\"font-size:18px;color:gray;line-height:normal;\">Once the data has been cleaned and filtered, we need to split the data into train and test data, since our model doesn't utilize more than one variable, we can't use train_test_split found in <span class=\"py-modules\">sklearn</span> libray. We will use a 80-20 ratio for the splitting process.</p>"
   ]
  },
  {
   "cell_type": "code",
   "execution_count": 6,
   "metadata": {
    "id": "bPB0-GRczLp8"
   },
   "outputs": [],
   "source": [
    "# Create New DataFrame with close values\n",
    "data = df\n",
    "# Convert Dataframe to Numpy array\n",
    "dataset = data.values"
   ]
  },
  {
   "cell_type": "code",
   "execution_count": 7,
   "metadata": {
    "colab": {
     "base_uri": "https://localhost:8080/"
    },
    "id": "715JxRcz0qUZ",
    "outputId": "712e3b26-8154-4e26-cf7d-56643b3dcbfb"
   },
   "outputs": [
    {
     "data": {
      "text/plain": [
       "1007"
      ]
     },
     "execution_count": 7,
     "metadata": {},
     "output_type": "execute_result"
    }
   ],
   "source": [
    "#Get number of row to train our module\n",
    "training_data_len = math.ceil(len(dataset) * 0.80)\n",
    "training_data_len"
   ]
  },
  {
   "cell_type": "code",
   "execution_count": 8,
   "metadata": {
    "colab": {
     "base_uri": "https://localhost:8080/"
    },
    "id": "t11yFRnB0q1K",
    "outputId": "51a637df-5090-43ca-e30c-cd3eb04892da"
   },
   "outputs": [
    {
     "data": {
      "text/plain": [
       "array([[0.        ],\n",
       "       [0.00157929],\n",
       "       [0.0040756 ],\n",
       "       ...,\n",
       "       [0.97491562],\n",
       "       [0.98576222],\n",
       "       [1.        ]])"
      ]
     },
     "execution_count": 8,
     "metadata": {},
     "output_type": "execute_result"
    }
   ],
   "source": [
    "# Scale the data\n",
    "scaler = MinMaxScaler(feature_range=(0,1))\n",
    "scaled_data = scaler.fit_transform(dataset)\n",
    "scaled_data"
   ]
  },
  {
   "cell_type": "code",
   "execution_count": 9,
   "metadata": {
    "colab": {
     "base_uri": "https://localhost:8080/"
    },
    "id": "f16_xipl2Sv3",
    "outputId": "ee2c223b-2d9b-449f-dc5a-d00d3212187e"
   },
   "outputs": [
    {
     "name": "stdout",
     "output_type": "stream",
     "text": [
      "[array([0.        , 0.00157929, 0.0040756 , 0.00556575, 0.00655919,\n",
      "       0.00653372, 0.00722148, 0.00643183, 0.00677571, 0.00747621,\n",
      "       0.00836774, 0.0070941 , 0.00894088, 0.01022726, 0.0114372 ,\n",
      "       0.01071122, 0.01086407, 0.01203579, 0.01156456, 0.01068575,\n",
      "       0.01087677, 0.01220136, 0.0134368 , 0.01412454, 0.0143156 ,\n",
      "       0.01383161, 0.01534723, 0.01960116, 0.01952474, 0.01904077,\n",
      "       0.017194  , 0.01840393, 0.01860772, 0.01893886, 0.01958324,\n",
      "       0.01834553, 0.01782238, 0.01846038, 0.01840935, 0.01794999,\n",
      "       0.01757996, 0.01988947, 0.01909836, 0.0198512 , 0.01866452,\n",
      "       0.01923872, 0.01525767, 0.01682712, 0.01570428, 0.01638054,\n",
      "       0.01930252, 0.01949391, 0.02055297, 0.0198129 , 0.02207139,\n",
      "       0.02227555, 0.02218622, 0.02140787, 0.02421501, 0.02452126])]\n",
      "[0.02531238023563058]\n",
      "\n"
     ]
    }
   ],
   "source": [
    "# Create training Dataset\n",
    "#create the scaled Training Data Set\n",
    "train_data = scaled_data[0:training_data_len,:]\n",
    "#split the data into x_train and y_train data sets\n",
    "x_train = []\n",
    "y_train = []\n",
    "\n",
    "for i in range(60, len(train_data)):\n",
    "  x_train.append(train_data[i-60:i,0])\n",
    "  y_train.append(train_data[i,0])\n",
    "  if i<=60:\n",
    "    print(x_train)\n",
    "    print(y_train)\n",
    "    print()"
   ]
  },
  {
   "cell_type": "code",
   "execution_count": 10,
   "metadata": {
    "id": "YA4NqFsVRHMd"
   },
   "outputs": [],
   "source": [
    "# convert the x_train and y_train to numpy arrays\n",
    "x_train, y_train = np.array(x_train), np.array(y_train)"
   ]
  },
  {
   "cell_type": "code",
   "execution_count": 11,
   "metadata": {
    "colab": {
     "base_uri": "https://localhost:8080/"
    },
    "id": "B1zINDS3RriC",
    "outputId": "f3e0180e-f3c1-4987-df00-3dc10a76e37b"
   },
   "outputs": [
    {
     "name": "stdout",
     "output_type": "stream",
     "text": [
      "947 60\n"
     ]
    }
   ],
   "source": [
    "samples,time_steps = x_train.shape\n",
    "print(samples,time_steps)"
   ]
  },
  {
   "cell_type": "code",
   "execution_count": 12,
   "metadata": {
    "colab": {
     "base_uri": "https://localhost:8080/"
    },
    "id": "zaeN9u--RUIx",
    "outputId": "fbc1919f-9ee7-4e4f-eb7d-f2b2bb1cecd9"
   },
   "outputs": [
    {
     "data": {
      "text/plain": [
       "(947, 60, 1)"
      ]
     },
     "execution_count": 12,
     "metadata": {},
     "output_type": "execute_result"
    }
   ],
   "source": [
    "# Reshaping the data\n",
    "x_train = np.reshape((x_train),(samples,time_steps,1))\n",
    "x_train.shape"
   ]
  },
  {
   "cell_type": "markdown",
   "metadata": {},
   "source": [
    "<p style=\"font-size:18px;color:gray;\"> <strong style=\"line-height: 0px;\">Step 5: LSTM build</strong> </p> <p style=\"font-size:18px;color:gray;line-height:normal;\">At this point our dataset is clean and scaled, this allows us to build the LSTM model that is going to process and predict the values. The two main parameters used are  optimizer=<span style=\"color:green;\">'adam'</span> and loss=<span style=\"color:green;\">'mean_squared_error'</span>; which are found in the <span class=\"py-modules\">LSTM</span> module</p>"
   ]
  },
  {
   "cell_type": "code",
   "execution_count": 13,
   "metadata": {
    "id": "t6cbgTx2RWs6"
   },
   "outputs": [],
   "source": [
    "# Building the LSTM Model\n",
    "model = Sequential()\n",
    "# Creating Layers\n",
    "model.add(LSTM(50, return_sequences=True, input_shape=(time_steps,1)))\n",
    "model.add(LSTM(50, return_sequences=False))\n",
    "model.add(Dense(25))\n",
    "model.add(Dense(1))"
   ]
  },
  {
   "cell_type": "code",
   "execution_count": 14,
   "metadata": {
    "id": "GCPh8AaeS7Cd"
   },
   "outputs": [],
   "source": [
    "# Compiling the model\n",
    "# Loss function is used to measure how well the model did on training.\n",
    "model.compile(optimizer='adam', loss='mean_squared_error')"
   ]
  },
  {
   "cell_type": "markdown",
   "metadata": {},
   "source": [
    "<p style=\"font-size:18px;color:gray;\"> <strong style=\"line-height: 0px;\">Step 6: Training our Model\n",
    "    </strong> </p> <p style=\"font-size:18px;color:gray;line-height:normal;\">It's time to train our model, this requires a x_train and y_train datasets, among other parameters. To see the meaning of these parameters please visit tensorflow's official website <a href=\"https://www.tensorflow.org/api_docs/python/tf/keras/layers/LSTM\">https://www.tensorflow.org/api_docs/python/tf/keras/layers/LSTM</a> </p>"
   ]
  },
  {
   "cell_type": "code",
   "execution_count": 15,
   "metadata": {
    "colab": {
     "base_uri": "https://localhost:8080/"
    },
    "id": "22LJOS7cTSuW",
    "outputId": "b6699d2a-fe9a-4bb1-d77d-dbaaedb3af45"
   },
   "outputs": [
    {
     "name": "stdout",
     "output_type": "stream",
     "text": [
      "Epoch 1/2\n",
      "Epoch 2/2\n"
     ]
    },
    {
     "data": {
      "text/plain": [
       "<keras.callbacks.History at 0x7fd10436d280>"
      ]
     },
     "execution_count": 15,
     "metadata": {},
     "output_type": "execute_result"
    }
   ],
   "source": [
    "#training the Model\n",
    "# Batch size is the total number of training examples present in a single batch\n",
    "# Epoch is the iterations when an entire dataset is passed forward and backward through a neural network\n",
    "model.fit(x_train, y_train, batch_size=1, epochs=2,verbose=5)"
   ]
  },
  {
   "cell_type": "code",
   "execution_count": 16,
   "metadata": {
    "id": "eR3ZRkV0T4jE"
   },
   "outputs": [],
   "source": [
    "# creating the Testing dataset \n",
    "# Array that contained scaled values test_data = scaled_data[training_data_len - 60:through the end, all columns]\n",
    "\n",
    "test_data = scaled_data[training_data_len-60: , :]\n",
    "# Creating testing datasets \n",
    "x_test = []\n",
    "y_test = dataset[training_data_len: , :]\n",
    "\n",
    "for i in range(60, len(test_data)):\n",
    "  x_test.append(test_data[i-60:i,0])\n",
    "  \n"
   ]
  },
  {
   "cell_type": "code",
   "execution_count": 17,
   "metadata": {
    "id": "aFz2AQ0oU4gx"
   },
   "outputs": [],
   "source": [
    "# Converting data to a numpy Array\n",
    "x_test = np.array(x_test)\n"
   ]
  },
  {
   "cell_type": "code",
   "execution_count": 18,
   "metadata": {
    "id": "hV5oS2neVCZT"
   },
   "outputs": [],
   "source": [
    "# Reshaping the data, because LST model is expecting a 3 dimensional array\n",
    "# x_test.shape[0] represents the number of Rows, \n",
    "#  x_test.shape[1] represents the number of time steps\n",
    "# 3rd element in the dimensional array (1) represents the close price\n",
    "x_test = np.reshape(x_test, (x_test.shape[0], x_test.shape[1], 1))"
   ]
  },
  {
   "cell_type": "markdown",
   "metadata": {},
   "source": [
    "<p style=\"font-size:18px;color:gray;\"> <strong style=\"line-height: 0px;\">Step 7: Make/Perform the Predictions\n",
    "    </strong> </p> <p style=\"font-size:18px;color:gray;line-height:normal;\">To make our predictions we need make use of our x_test dataset, it's important to mention that this numpy array must be a three dimensional array(see description in cell above)</p>"
   ]
  },
  {
   "cell_type": "code",
   "execution_count": 19,
   "metadata": {
    "id": "pgbSP2mqVie6"
   },
   "outputs": [],
   "source": [
    "# Get the models predicted price values\n",
    "# This step \"unscale\" the values\n",
    "\n",
    "predictions = model.predict(x_test)\n",
    "predictions = scaler.inverse_transform(predictions)\n"
   ]
  },
  {
   "cell_type": "markdown",
   "metadata": {
    "id": "2cSJNiQRWc_B"
   },
   "source": [
    "<p style=\"font-size:18px;color:gray;\"> <strong style=\"line-height: 0px;\">Step 8: Model Evaluation\n",
    "    </strong> </p> <p style=\"font-size:18px;color:gray;line-height:normal;\">For the model evaluation we'll utilize RMSE as our main indicator</p>"
   ]
  },
  {
   "cell_type": "code",
   "execution_count": 20,
   "metadata": {
    "colab": {
     "base_uri": "https://localhost:8080/"
    },
    "id": "ebs8KLDlWKup",
    "outputId": "0e183bc9-23b2-437d-bf85-3e7bdc87af92"
   },
   "outputs": [
    {
     "data": {
      "text/plain": [
       "15.875281223737861"
      ]
     },
     "execution_count": 20,
     "metadata": {},
     "output_type": "execute_result"
    }
   ],
   "source": [
    "# Evaluating our model, Getting the root mean error (RMSE), Model accuracy \n",
    "rmse = np.sqrt(np.mean(predictions-y_test)**2)\n",
    "rmse"
   ]
  },
  {
   "cell_type": "markdown",
   "metadata": {
    "id": "YqQZsxI3Wtsn"
   },
   "source": [
    "<p style=\"font-size:18px;color:gray;\"> <strong style=\"line-height: 0px;\">Step 9: Plotting trained, tested and predicted datasets.\n",
    "    </strong> </p> <p style=\"font-size:18px;color:gray;line-height:normal;\">During this step we will use our training data, test data and predictions to easily visualize the accuracy of our model. Our training data represents the 80% of the original data set, and the teste data the rest; our predicted values has the same length as our test data but this data has been already processed by our model</p>"
   ]
  },
  {
   "cell_type": "code",
   "execution_count": 21,
   "metadata": {
    "colab": {
     "base_uri": "https://localhost:8080/"
    },
    "id": "ZfnisDSUW-9_",
    "outputId": "6c2c2fc1-d480-431d-96da-40d45ece720b"
   },
   "outputs": [
    {
     "name": "stderr",
     "output_type": "stream",
     "text": [
      "<ipython-input-21-6a90206a058a>:3: SettingWithCopyWarning: \n",
      "A value is trying to be set on a copy of a slice from a DataFrame.\n",
      "Try using .loc[row_indexer,col_indexer] = value instead\n",
      "\n",
      "See the caveats in the documentation: https://pandas.pydata.org/pandas-docs/stable/user_guide/indexing.html#returning-a-view-versus-a-copy\n",
      "  valid['predictions'] = predictions\n"
     ]
    }
   ],
   "source": [
    "train = data[:training_data_len]\n",
    "valid = data[training_data_len:]\n",
    "valid['predictions'] = predictions"
   ]
  },
  {
   "cell_type": "code",
   "execution_count": 22,
   "metadata": {
    "colab": {
     "base_uri": "https://localhost:8080/",
     "height": 573
    },
    "id": "rGoSibJwXMme",
    "outputId": "fd3a9350-dafb-4f6b-a535-d7b5648c48d3"
   },
   "outputs": [
    {
     "data": {
      "image/png": "[encoded data removed]",
      "text/plain": [
       "<Figure size 1296x648 with 1 Axes>"
      ]
     },
     "metadata": {
      "needs_background": "light"
     },
     "output_type": "display_data"
    }
   ],
   "source": [
    "# Visualize the models data\n",
    "plt.figure(figsize=(18,9))\n",
    "plt.title('Model')\n",
    "plt.xlabel(\"Date\", fontsize=18)\n",
    "plt.ylabel(\"Close Price USD\", fontsize=18)\n",
    "plt.plot(train['close'])\n",
    "plt.plot(valid[['close','predictions']])\n",
    "plt.legend(['Train','val','predictions'], loc='lower right')\n",
    "plt.show()"
   ]
  },
  {
   "cell_type": "code",
   "execution_count": 23,
   "metadata": {
    "colab": {
     "base_uri": "https://localhost:8080/",
     "height": 450
    },
    "id": "AI_Ruc8TYFUz",
    "outputId": "347a19d6-607a-4a15-ffcc-29567747c04b"
   },
   "outputs": [
    {
     "data": {
      "text/html": [
       "<div>\n",
       "<style scoped>\n",
       "    .dataframe tbody tr th:only-of-type {\n",
       "        vertical-align: middle;\n",
       "    }\n",
       "\n",
       "    .dataframe tbody tr th {\n",
       "        vertical-align: top;\n",
       "    }\n",
       "\n",
       "    .dataframe thead th {\n",
       "        text-align: right;\n",
       "    }\n",
       "</style>\n",
       "<table border=\"1\" class=\"dataframe\">\n",
       "  <thead>\n",
       "    <tr style=\"text-align: right;\">\n",
       "      <th></th>\n",
       "      <th>close</th>\n",
       "      <th>predictions</th>\n",
       "    </tr>\n",
       "    <tr>\n",
       "      <th>date</th>\n",
       "      <th></th>\n",
       "      <th></th>\n",
       "    </tr>\n",
       "  </thead>\n",
       "  <tbody>\n",
       "    <tr>\n",
       "      <th>2020-07-07</th>\n",
       "      <td>394.408722</td>\n",
       "      <td>393.144623</td>\n",
       "    </tr>\n",
       "    <tr>\n",
       "      <th>2020-07-08</th>\n",
       "      <td>408.162689</td>\n",
       "      <td>397.857422</td>\n",
       "    </tr>\n",
       "    <tr>\n",
       "      <th>2020-07-09</th>\n",
       "      <td>419.868958</td>\n",
       "      <td>404.863068</td>\n",
       "    </tr>\n",
       "    <tr>\n",
       "      <th>2020-07-10</th>\n",
       "      <td>418.680389</td>\n",
       "      <td>413.871490</td>\n",
       "    </tr>\n",
       "    <tr>\n",
       "      <th>2020-07-13</th>\n",
       "      <td>401.620300</td>\n",
       "      <td>420.835693</td>\n",
       "    </tr>\n",
       "    <tr>\n",
       "      <th>...</th>\n",
       "      <td>...</td>\n",
       "      <td>...</td>\n",
       "    </tr>\n",
       "    <tr>\n",
       "      <th>2021-06-28</th>\n",
       "      <td>799.400024</td>\n",
       "      <td>796.236694</td>\n",
       "    </tr>\n",
       "    <tr>\n",
       "      <th>2021-06-29</th>\n",
       "      <td>801.070007</td>\n",
       "      <td>809.742249</td>\n",
       "    </tr>\n",
       "    <tr>\n",
       "      <th>2021-06-30</th>\n",
       "      <td>800.099976</td>\n",
       "      <td>822.341553</td>\n",
       "    </tr>\n",
       "    <tr>\n",
       "      <th>2021-07-01</th>\n",
       "      <td>808.479980</td>\n",
       "      <td>830.601318</td>\n",
       "    </tr>\n",
       "    <tr>\n",
       "      <th>2021-07-02</th>\n",
       "      <td>819.479980</td>\n",
       "      <td>837.853821</td>\n",
       "    </tr>\n",
       "  </tbody>\n",
       "</table>\n",
       "<p>251 rows × 2 columns</p>\n",
       "</div>"
      ],
      "text/plain": [
       "                 close  predictions\n",
       "date                               \n",
       "2020-07-07  394.408722   393.144623\n",
       "2020-07-08  408.162689   397.857422\n",
       "2020-07-09  419.868958   404.863068\n",
       "2020-07-10  418.680389   413.871490\n",
       "2020-07-13  401.620300   420.835693\n",
       "...                ...          ...\n",
       "2021-06-28  799.400024   796.236694\n",
       "2021-06-29  801.070007   809.742249\n",
       "2021-06-30  800.099976   822.341553\n",
       "2021-07-01  808.479980   830.601318\n",
       "2021-07-02  819.479980   837.853821\n",
       "\n",
       "[251 rows x 2 columns]"
      ]
     },
     "execution_count": 23,
     "metadata": {},
     "output_type": "execute_result"
    }
   ],
   "source": [
    "# show the Valid(actual prices) and the predicted prices\n",
    "valid"
   ]
  },
  {
   "cell_type": "markdown",
   "metadata": {},
   "source": [
    "<p style=\"font-size:18px;color:gray;\"> <strong style=\"line-height: 0px;\">Step 10: Saving Model(h5).\n",
    "    </strong> </p> <p style=\"font-size:18px;color:gray;line-height:normal;\">Finally that we have verified our model accuracy and performance we can save it.</p>"
   ]
  },
  {
   "cell_type": "code",
   "execution_count": 24,
   "metadata": {
    "id": "FBdRH0RcYiNE"
   },
   "outputs": [],
   "source": [
    "# Saving Model\n",
    "model.save(\"nvidia_model.h5\")"
   ]
  },
  {
   "cell_type": "markdown",
   "metadata": {},
   "source": [
    "<p style=\"font-size:22px;color:black;text-align:center\"> <strong style=\"line-height: 0px;\">Conclusion\n",
    "    </strong> </p> <p style=\"font-size:18px;color:gray;line-height:normal;\">LSTM can be applied to predict future stock values on different markets. Even though this model can be very accurate, this doesn't mean it can be used by itself to make decisions, this must be use in conjuntion with risk analysis, financial analysis and market evaluation. Please do not use this models as definitive tool to predict the market! </p>"
   ]
  }
 ],
 "metadata": {
  "colab": {
   "collapsed_sections": [],
   "name": "Stockprer.ipynb",
   "provenance": []
  },
  "kernelspec": {
   "display_name": "Python 3",
   "language": "python",
   "name": "python3"
  },
  "language_info": {
   "codemirror_mode": {
    "name": "ipython",
    "version": 3
   },
   "file_extension": ".py",
   "mimetype": "text/x-python",
   "name": "python",
   "nbconvert_exporter": "python",
   "pygments_lexer": "ipython3",
   "version": "3.8.5"
  }
 },
 "nbformat": 4,
 "nbformat_minor": 1
}
