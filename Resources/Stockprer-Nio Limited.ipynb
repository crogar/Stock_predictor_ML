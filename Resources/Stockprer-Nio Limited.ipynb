{
 "cells": [
  {
   "cell_type": "markdown",
   "metadata": {},
   "source": [
    "<h1 style=\"text-align:center;\"> LSTM for Stock Market Prediction</h1>\n",
    "<h2 style=\"text-align:center;\"> Nio Limited</h2>"
   ]
  },
  {
   "cell_type": "markdown",
   "metadata": {},
   "source": [
    "<p style=\"font-size:18px;color:gray;\"> <strong>Step 1:</strong> For this Predictive model we will utilize some modules that are necessary to obtain, create and visualize this predictive model such as <span class=\"py-modules\">sqlalchemy</span>, <span class=\"py-modules\">NumPy</span>, <span class=\"py-modules\">Pandas</span>, <span class=\"py-modules\">SciKitlearn</span>, <span class=\"py-modules\">MatPlotLib</span>, and <span class=\"py-modules\">Keras</span>.</p>"
   ]
  },
  {
   "cell_type": "code",
   "execution_count": 1,
   "metadata": {
    "id": "8VLZ0u3HpszS"
   },
   "outputs": [],
   "source": [
    "import math\n",
    "import numpy as np\n",
    "import pandas as pd\n",
    "from sklearn.preprocessing import MinMaxScaler\n",
    "from keras.models import Sequential\n",
    "from keras.layers import Dense, LSTM\n",
    "import matplotlib.pyplot as plt\n",
    "import datetime as dt\n",
    "import requests\n",
    "from sqlalchemy import create_engine\n",
    "from config import password"
   ]
  },
  {
   "cell_type": "markdown",
   "metadata": {},
   "source": [
    "<p style=\"font-size:18px;color:gray;\"> <strong>Step 2:</strong> Now, we start building our model by first defining the dataset that the model will train on. We use the dataset provided by the National Stock Exchange of India: Tata Global Dataset, and read it using the ‘read_csv’ function by the Pandas library. To understand the structure of our dataset, we output the first 5 instances from the dataset using the head() method.</p>"
   ]
  },
  {
   "cell_type": "code",
   "execution_count": 2,
   "metadata": {},
   "outputs": [],
   "source": [
    "# Connecting to Database\n",
    "connection_string = f\"ofygklqv:{password}@batyr.db.elephantsql.com:5432/ofygklqv\"\n",
    "engine = create_engine(f'postgresql://{connection_string}', pool_size=2, pool_recycle=1200, connect_args={'connect_timeout': 10},\n",
    "client_encoding=\"utf8\", pool_pre_ping=True)"
   ]
  },
  {
   "cell_type": "code",
   "execution_count": 3,
   "metadata": {},
   "outputs": [
    {
     "name": "stdout",
     "output_type": "stream",
     "text": [
      "(707, 7)\n"
     ]
    }
   ],
   "source": [
    "ticker = \"NIO\"\n",
    "df = pd.read_sql_query('select * from ticker', con=engine)\n",
    "id = df[df['symbol']==ticker]['stock_id'].values[0] # returning ID for the specified ticker(symbol)\n",
    "df = pd.read_sql_query(f'select * from stock WHERE stock_id = {id}', con=engine)\n",
    "print(df.shape)\n",
    "df[\"date\"]=pd.to_datetime(df.date,format=\"%Y-%m-%d\")\n",
    "df.index = df['date']\n",
    "df = df[[\"close\"]]"
   ]
  },
  {
   "cell_type": "code",
   "execution_count": 4,
   "metadata": {
    "colab": {
     "base_uri": "https://localhost:8080/",
     "height": 450
    },
    "id": "5SXWtnOXygLD",
    "outputId": "d6163956-f1e2-4d59-fafc-5fe22d7f6c56"
   },
   "outputs": [
    {
     "data": {
      "text/html": [
       "<div>\n",
       "<style scoped>\n",
       "    .dataframe tbody tr th:only-of-type {\n",
       "        vertical-align: middle;\n",
       "    }\n",
       "\n",
       "    .dataframe tbody tr th {\n",
       "        vertical-align: top;\n",
       "    }\n",
       "\n",
       "    .dataframe thead th {\n",
       "        text-align: right;\n",
       "    }\n",
       "</style>\n",
       "<table border=\"1\" class=\"dataframe\">\n",
       "  <thead>\n",
       "    <tr style=\"text-align: right;\">\n",
       "      <th></th>\n",
       "      <th>close</th>\n",
       "    </tr>\n",
       "    <tr>\n",
       "      <th>date</th>\n",
       "      <th></th>\n",
       "    </tr>\n",
       "  </thead>\n",
       "  <tbody>\n",
       "    <tr>\n",
       "      <th>2018-09-12</th>\n",
       "      <td>6.600000</td>\n",
       "    </tr>\n",
       "    <tr>\n",
       "      <th>2018-09-13</th>\n",
       "      <td>11.600000</td>\n",
       "    </tr>\n",
       "    <tr>\n",
       "      <th>2018-09-14</th>\n",
       "      <td>9.900000</td>\n",
       "    </tr>\n",
       "    <tr>\n",
       "      <th>2018-09-17</th>\n",
       "      <td>8.500000</td>\n",
       "    </tr>\n",
       "    <tr>\n",
       "      <th>2018-09-18</th>\n",
       "      <td>7.680000</td>\n",
       "    </tr>\n",
       "    <tr>\n",
       "      <th>...</th>\n",
       "      <td>...</td>\n",
       "    </tr>\n",
       "    <tr>\n",
       "      <th>2021-06-28</th>\n",
       "      <td>49.400002</td>\n",
       "    </tr>\n",
       "    <tr>\n",
       "      <th>2021-06-29</th>\n",
       "      <td>50.340000</td>\n",
       "    </tr>\n",
       "    <tr>\n",
       "      <th>2021-06-30</th>\n",
       "      <td>53.200001</td>\n",
       "    </tr>\n",
       "    <tr>\n",
       "      <th>2021-07-01</th>\n",
       "      <td>50.900002</td>\n",
       "    </tr>\n",
       "    <tr>\n",
       "      <th>2021-07-02</th>\n",
       "      <td>50.400002</td>\n",
       "    </tr>\n",
       "  </tbody>\n",
       "</table>\n",
       "<p>707 rows × 1 columns</p>\n",
       "</div>"
      ],
      "text/plain": [
       "                close\n",
       "date                 \n",
       "2018-09-12   6.600000\n",
       "2018-09-13  11.600000\n",
       "2018-09-14   9.900000\n",
       "2018-09-17   8.500000\n",
       "2018-09-18   7.680000\n",
       "...               ...\n",
       "2021-06-28  49.400002\n",
       "2021-06-29  50.340000\n",
       "2021-06-30  53.200001\n",
       "2021-07-01  50.900002\n",
       "2021-07-02  50.400002\n",
       "\n",
       "[707 rows x 1 columns]"
      ]
     },
     "execution_count": 4,
     "metadata": {},
     "output_type": "execute_result"
    }
   ],
   "source": [
    "df = df.iloc[::-1]\n",
    "df"
   ]
  },
  {
   "cell_type": "code",
   "execution_count": 5,
   "metadata": {
    "colab": {
     "base_uri": "https://localhost:8080/",
     "height": 590
    },
    "id": "sLXGnuj7yhp1",
    "outputId": "31f92c17-9d64-4e4e-c4db-2f72d94b7d06"
   },
   "outputs": [
    {
     "data": {
      "text/plain": [
       "Text(0, 0.5, 'Close Price USD')"
      ]
     },
     "execution_count": 5,
     "metadata": {},
     "output_type": "execute_result"
    },
    {
     "data": {
      "image/png": "[encoded data removed]",
      "text/plain": [
       "<Figure size 1152x648 with 1 Axes>"
      ]
     },
     "metadata": {
      "needs_background": "light"
     },
     "output_type": "display_data"
    }
   ],
   "source": [
    "plt.figure(figsize=(16,9))\n",
    "plt.title(\"Close Price History\")\n",
    "plt.plot(df['close'])\n",
    "plt.xlabel(\"Date\", fontsize=18)\n",
    "plt.ylabel(\"Close Price USD\")"
   ]
  },
  {
   "cell_type": "code",
   "execution_count": 6,
   "metadata": {
    "id": "bPB0-GRczLp8"
   },
   "outputs": [],
   "source": [
    "# Create New DataFrame with close values\n",
    "data = df\n",
    "# Convert Dataframe to Numpy array\n",
    "dataset = data.values"
   ]
  },
  {
   "cell_type": "code",
   "execution_count": 7,
   "metadata": {
    "colab": {
     "base_uri": "https://localhost:8080/"
    },
    "id": "715JxRcz0qUZ",
    "outputId": "712e3b26-8154-4e26-cf7d-56643b3dcbfb"
   },
   "outputs": [
    {
     "data": {
      "text/plain": [
       "566"
      ]
     },
     "execution_count": 7,
     "metadata": {},
     "output_type": "execute_result"
    }
   ],
   "source": [
    "#Get number of row to train our module\n",
    "training_data_len = math.ceil(len(dataset) * 0.80)\n",
    "training_data_len"
   ]
  },
  {
   "cell_type": "code",
   "execution_count": 8,
   "metadata": {
    "colab": {
     "base_uri": "https://localhost:8080/"
    },
    "id": "t11yFRnB0q1K",
    "outputId": "51a637df-5090-43ca-e30c-cd3eb04892da"
   },
   "outputs": [
    {
     "data": {
      "text/plain": [
       "array([[0.08582575],\n",
       "       [0.16710014],\n",
       "       [0.13946683],\n",
       "       [0.11671001],\n",
       "       [0.10338101],\n",
       "       [0.11671001],\n",
       "       [0.12126137],\n",
       "       [0.11817295],\n",
       "       [0.10646944],\n",
       "       [0.10175552],\n",
       "       [0.10045514],\n",
       "       [0.09249025],\n",
       "       [0.0920026 ],\n",
       "       [0.08582575],\n",
       "       [0.07493498],\n",
       "       [0.08094929],\n",
       "       [0.08013654],\n",
       "       [0.08029909],\n",
       "       [0.07672302],\n",
       "       [0.0986671 ],\n",
       "       [0.10451885],\n",
       "       [0.09525357],\n",
       "       [0.09980494],\n",
       "       [0.1056567 ],\n",
       "       [0.10923277],\n",
       "       [0.10484395],\n",
       "       [0.10045514],\n",
       "       [0.09752926],\n",
       "       [0.09281535],\n",
       "       [0.08923927],\n",
       "       [0.07883615],\n",
       "       [0.08338751],\n",
       "       [0.08176203],\n",
       "       [0.07916125],\n",
       "       [0.07526007],\n",
       "       [0.07444733],\n",
       "       [0.08615084],\n",
       "       [0.08403771],\n",
       "       [0.08712613],\n",
       "       [0.08257477],\n",
       "       [0.08810143],\n",
       "       [0.08728869],\n",
       "       [0.08858908],\n",
       "       [0.08663849],\n",
       "       [0.08875163],\n",
       "       [0.09395318],\n",
       "       [0.09785436],\n",
       "       [0.09541612],\n",
       "       [0.1059818 ],\n",
       "       [0.10321847],\n",
       "       [0.10386866],\n",
       "       [0.09980494],\n",
       "       [0.098342  ],\n",
       "       [0.10013004],\n",
       "       [0.11053316],\n",
       "       [0.10516905],\n",
       "       [0.10386866],\n",
       "       [0.10175552],\n",
       "       [0.09362809],\n",
       "       [0.098342  ],\n",
       "       [0.09216514],\n",
       "       [0.09281535],\n",
       "       [0.09362809],\n",
       "       [0.10110533],\n",
       "       [0.10451885],\n",
       "       [0.10370611],\n",
       "       [0.09281535],\n",
       "       [0.09346554],\n",
       "       [0.08956437],\n",
       "       [0.08452536],\n",
       "       [0.07721067],\n",
       "       [0.07477243],\n",
       "       [0.08192458],\n",
       "       [0.08306241],\n",
       "       [0.08371261],\n",
       "       [0.08208712],\n",
       "       [0.07932379],\n",
       "       [0.07688557],\n",
       "       [0.08192458],\n",
       "       [0.08420026],\n",
       "       [0.08257477],\n",
       "       [0.08631339],\n",
       "       [0.08680104],\n",
       "       [0.0856632 ],\n",
       "       [0.08907673],\n",
       "       [0.08940182],\n",
       "       [0.08761378],\n",
       "       [0.08923927],\n",
       "       [0.08761378],\n",
       "       [0.0853381 ],\n",
       "       [0.08501301],\n",
       "       [0.08550065],\n",
       "       [0.08663849],\n",
       "       [0.08696359],\n",
       "       [0.09135241],\n",
       "       [0.09980494],\n",
       "       [0.10663199],\n",
       "       [0.10695709],\n",
       "       [0.10614434],\n",
       "       [0.10663199],\n",
       "       [0.11508452],\n",
       "       [0.10923277],\n",
       "       [0.10321847],\n",
       "       [0.09980494],\n",
       "       [0.09947984],\n",
       "       [0.10029258],\n",
       "       [0.10013004],\n",
       "       [0.09899219],\n",
       "       [0.09655397],\n",
       "       [0.10240572],\n",
       "       [0.10273082],\n",
       "       [0.1113459 ],\n",
       "       [0.12483745],\n",
       "       [0.1376788 ],\n",
       "       [0.1386541 ],\n",
       "       [0.13410272],\n",
       "       [0.14206763],\n",
       "       [0.13751625],\n",
       "       [0.1436931 ],\n",
       "       [0.10874513],\n",
       "       [0.09379064],\n",
       "       [0.09330299],\n",
       "       [0.0856632 ],\n",
       "       [0.08241222],\n",
       "       [0.08468791],\n",
       "       [0.07656047],\n",
       "       [0.07135891],\n",
       "       [0.0720091 ],\n",
       "       [0.07542263],\n",
       "       [0.07363459],\n",
       "       [0.07347204],\n",
       "       [0.06989597],\n",
       "       [0.06550715],\n",
       "       [0.05916775],\n",
       "       [0.05949285],\n",
       "       [0.0599805 ],\n",
       "       [0.06144343],\n",
       "       [0.06323147],\n",
       "       [0.06615734],\n",
       "       [0.06485696],\n",
       "       [0.06550715],\n",
       "       [0.0656697 ],\n",
       "       [0.06469441],\n",
       "       [0.06111833],\n",
       "       [0.06063069],\n",
       "       [0.0599805 ],\n",
       "       [0.05965539],\n",
       "       [0.05575423],\n",
       "       [0.05087776],\n",
       "       [0.05315345],\n",
       "       [0.05640442],\n",
       "       [0.05624188],\n",
       "       [0.05705461],\n",
       "       [0.05981794],\n",
       "       [0.05819246],\n",
       "       [0.05851756],\n",
       "       [0.05949285],\n",
       "       [0.05737971],\n",
       "       [0.05461638],\n",
       "       [0.05526658],\n",
       "       [0.06014304],\n",
       "       [0.05786736],\n",
       "       [0.05721717],\n",
       "       [0.05282835],\n",
       "       [0.05331599],\n",
       "       [0.0526658 ],\n",
       "       [0.04892718],\n",
       "       [0.05445384],\n",
       "       [0.05510403],\n",
       "       [0.05429128],\n",
       "       [0.05039012],\n",
       "       [0.04762679],\n",
       "       [0.04827698],\n",
       "       [0.04437581],\n",
       "       [0.04242523],\n",
       "       [0.04128738],\n",
       "       [0.04356307],\n",
       "       [0.03722366],\n",
       "       [0.03120936],\n",
       "       [0.02812093],\n",
       "       [0.026658  ],\n",
       "       [0.02795839],\n",
       "       [0.02454486],\n",
       "       [0.02161899],\n",
       "       [0.02340702],\n",
       "       [0.02129389],\n",
       "       [0.02096879],\n",
       "       [0.0199935 ],\n",
       "       [0.01950585],\n",
       "       [0.01788036],\n",
       "       [0.01853056],\n",
       "       [0.0196684 ],\n",
       "       [0.02308192],\n",
       "       [0.02454486],\n",
       "       [0.02145644],\n",
       "       [0.02145644],\n",
       "       [0.02080624],\n",
       "       [0.0199935 ],\n",
       "       [0.02080624],\n",
       "       [0.0199935 ],\n",
       "       [0.02080624],\n",
       "       [0.02438231],\n",
       "       [0.02942133],\n",
       "       [0.03153446],\n",
       "       [0.03527308],\n",
       "       [0.03852406],\n",
       "       [0.03836151],\n",
       "       [0.03413524],\n",
       "       [0.03462289],\n",
       "       [0.0336476 ],\n",
       "       [0.03218465],\n",
       "       [0.03446034],\n",
       "       [0.03429779],\n",
       "       [0.03332249],\n",
       "       [0.03348505],\n",
       "       [0.03478544],\n",
       "       [0.03819896],\n",
       "       [0.03543563],\n",
       "       [0.03559818],\n",
       "       [0.03478544],\n",
       "       [0.03348505],\n",
       "       [0.03494798],\n",
       "       [0.03185956],\n",
       "       [0.03169701],\n",
       "       [0.02649545],\n",
       "       [0.02860858],\n",
       "       [0.02877113],\n",
       "       [0.03007152],\n",
       "       [0.02942133],\n",
       "       [0.02812093],\n",
       "       [0.02974642],\n",
       "       [0.02568271],\n",
       "       [0.02438231],\n",
       "       [0.02649545],\n",
       "       [0.02730819],\n",
       "       [0.02990897],\n",
       "       [0.02812093],\n",
       "       [0.02763329],\n",
       "       [0.0260078 ],\n",
       "       [0.02568271],\n",
       "       [0.02584525],\n",
       "       [0.02470741],\n",
       "       [0.02486996],\n",
       "       [0.02503251],\n",
       "       [0.02080624],\n",
       "       [0.02324447],\n",
       "       [0.02649545],\n",
       "       [0.02698309],\n",
       "       [0.02958388],\n",
       "       [0.03250975],\n",
       "       [0.03169701],\n",
       "       [0.03039662],\n",
       "       [0.03072172],\n",
       "       [0.02925877],\n",
       "       [0.03023407],\n",
       "       [0.02860858],\n",
       "       [0.02893368],\n",
       "       [0.02795839],\n",
       "       [0.02275683],\n",
       "       [0.01381665],\n",
       "       [0.01186606],\n",
       "       [0.01040312],\n",
       "       [0.0069896 ],\n",
       "       [0.00390117],\n",
       "       [0.        ],\n",
       "       [0.00438882],\n",
       "       [0.00520156],\n",
       "       [0.00487646],\n",
       "       [0.00373862],\n",
       "       [0.00617685],\n",
       "       [0.00520156],\n",
       "       [0.00341352],\n",
       "       [0.00390117],\n",
       "       [0.00341352],\n",
       "       [0.00373862],\n",
       "       [0.00227568],\n",
       "       [0.00227568],\n",
       "       [0.00325097],\n",
       "       [0.0060143 ],\n",
       "       [0.00422627],\n",
       "       [0.00341352],\n",
       "       [0.00357607],\n",
       "       [0.00308843],\n",
       "       [0.00260078],\n",
       "       [0.00113784],\n",
       "       [0.00178803],\n",
       "       [0.00211313],\n",
       "       [0.00325097],\n",
       "       [0.0063394 ],\n",
       "       [0.01657997],\n",
       "       [0.01154096],\n",
       "       [0.01219116],\n",
       "       [0.01072822],\n",
       "       [0.00877763],\n",
       "       [0.01007802],\n",
       "       [0.00942783],\n",
       "       [0.0069896 ],\n",
       "       [0.00780234],\n",
       "       [0.00780234],\n",
       "       [0.00828999],\n",
       "       [0.00845254],\n",
       "       [0.01072822],\n",
       "       [0.01007802],\n",
       "       [0.01186606],\n",
       "       [0.01560468],\n",
       "       [0.01853056],\n",
       "       [0.01544213],\n",
       "       [0.01820546],\n",
       "       [0.01755527],\n",
       "       [0.01788036],\n",
       "       [0.01544213],\n",
       "       [0.01527958],\n",
       "       [0.01462939],\n",
       "       [0.01544213],\n",
       "       [0.01527958],\n",
       "       [0.01544213],\n",
       "       [0.01739272],\n",
       "       [0.01885566],\n",
       "       [0.02064369],\n",
       "       [0.02129389],\n",
       "       [0.02113134],\n",
       "       [0.02226918],\n",
       "       [0.02194408],\n",
       "       [0.0196684 ],\n",
       "       [0.0193433 ],\n",
       "       [0.01788036],\n",
       "       [0.0390117 ],\n",
       "       [0.04388817],\n",
       "       [0.0390117 ],\n",
       "       [0.04079974],\n",
       "       [0.03836151],\n",
       "       [0.03120936],\n",
       "       [0.0336476 ],\n",
       "       [0.03478544],\n",
       "       [0.03559818],\n",
       "       [0.03868661],\n",
       "       [0.0396619 ],\n",
       "       [0.04827698],\n",
       "       [0.04957737],\n",
       "       [0.05445384],\n",
       "       [0.06258127],\n",
       "       [0.05640442],\n",
       "       [0.05851756],\n",
       "       [0.05429128],\n",
       "       [0.04372562],\n",
       "       [0.04697659],\n",
       "       [0.04795188],\n",
       "       [0.04486346],\n",
       "       [0.03998699],\n",
       "       [0.04453836],\n",
       "       [0.05185306],\n",
       "       [0.04990247],\n",
       "       [0.04486346],\n",
       "       [0.04047464],\n",
       "       [0.04144993],\n",
       "       [0.04291287],\n",
       "       [0.04470091],\n",
       "       [0.04405072],\n",
       "       [0.03982445],\n",
       "       [0.04031209],\n",
       "       [0.04486346],\n",
       "       [0.04778934],\n",
       "       [0.04486346],\n",
       "       [0.04161248],\n",
       "       [0.05006502],\n",
       "       [0.04908973],\n",
       "       [0.04583875],\n",
       "       [0.0456762 ],\n",
       "       [0.04535111],\n",
       "       [0.04453836],\n",
       "       [0.04144993],\n",
       "       [0.0390117 ],\n",
       "       [0.03624837],\n",
       "       [0.03202211],\n",
       "       [0.03543563],\n",
       "       [0.03250975],\n",
       "       [0.02942133],\n",
       "       [0.02909623],\n",
       "       [0.0263329 ],\n",
       "       [0.02568271],\n",
       "       [0.01804291],\n",
       "       [0.01723017],\n",
       "       [0.01755527],\n",
       "       [0.01706762],\n",
       "       [0.02080624],\n",
       "       [0.02340702],\n",
       "       [0.02617035],\n",
       "       [0.02470741],\n",
       "       [0.02259428],\n",
       "       [0.02373212],\n",
       "       [0.02161899],\n",
       "       [0.01739272],\n",
       "       [0.01755527],\n",
       "       [0.01869311],\n",
       "       [0.02243173],\n",
       "       [0.02308192],\n",
       "       [0.02194408],\n",
       "       [0.02682055],\n",
       "       [0.02747074],\n",
       "       [0.03055917],\n",
       "       [0.03137191],\n",
       "       [0.03072172],\n",
       "       [0.03039662],\n",
       "       [0.02763329],\n",
       "       [0.02877113],\n",
       "       [0.02828348],\n",
       "       [0.0263329 ],\n",
       "       [0.03120936],\n",
       "       [0.03283485],\n",
       "       [0.03722366],\n",
       "       [0.03397269],\n",
       "       [0.03023407],\n",
       "       [0.03283485],\n",
       "       [0.03185956],\n",
       "       [0.03738621],\n",
       "       [0.03754877],\n",
       "       [0.03982445],\n",
       "       [0.0393368 ],\n",
       "       [0.03738621],\n",
       "       [0.03446034],\n",
       "       [0.03462289],\n",
       "       [0.03332249],\n",
       "       [0.03722366],\n",
       "       [0.03852406],\n",
       "       [0.03511053],\n",
       "       [0.0326723 ],\n",
       "       [0.03169701],\n",
       "       [0.04063719],\n",
       "       [0.0463264 ],\n",
       "       [0.04079974],\n",
       "       [0.04323797],\n",
       "       [0.04778934],\n",
       "       [0.05494148],\n",
       "       [0.06957087],\n",
       "       [0.07558517],\n",
       "       [0.06940832],\n",
       "       [0.07558517],\n",
       "       [0.08712613],\n",
       "       [0.08094929],\n",
       "       [0.07460988],\n",
       "       [0.07769831],\n",
       "       [0.08956437],\n",
       "       [0.09216514],\n",
       "       [0.08972692],\n",
       "       [0.09525357],\n",
       "       [0.09785436],\n",
       "       [0.09931729],\n",
       "       [0.09606632],\n",
       "       [0.09005202],\n",
       "       [0.09362809],\n",
       "       [0.09070221],\n",
       "       [0.09606632],\n",
       "       [0.1040312 ],\n",
       "       [0.10711963],\n",
       "       [0.13101431],\n",
       "       [0.16563719],\n",
       "       [0.19343303],\n",
       "       [0.18790637],\n",
       "       [0.21537711],\n",
       "       [0.2220416 ],\n",
       "       [0.20351105],\n",
       "       [0.20757477],\n",
       "       [0.1983095 ],\n",
       "       [0.18888166],\n",
       "       [0.15881014],\n",
       "       [0.18693107],\n",
       "       [0.18790637],\n",
       "       [0.17977893],\n",
       "       [0.1760403 ],\n",
       "       [0.1706762 ],\n",
       "       [0.16856306],\n",
       "       [0.1779909 ],\n",
       "       [0.18498049],\n",
       "       [0.17685305],\n",
       "       [0.17262678],\n",
       "       [0.19960989],\n",
       "       [0.20026008],\n",
       "       [0.20481144],\n",
       "       [0.20351105],\n",
       "       [0.19668401],\n",
       "       [0.20952536],\n",
       "       [0.1896944 ],\n",
       "       [0.19570871],\n",
       "       [0.19570871],\n",
       "       [0.19148245],\n",
       "       [0.20692458],\n",
       "       [0.2109883 ],\n",
       "       [0.20708713],\n",
       "       [0.20253576],\n",
       "       [0.20806242],\n",
       "       [0.22187907],\n",
       "       [0.26853056],\n",
       "       [0.31079325],\n",
       "       [0.30169049],\n",
       "       [0.27925878],\n",
       "       [0.28787387],\n",
       "       [0.30559169],\n",
       "       [0.3020156 ],\n",
       "       [0.28250976],\n",
       "       [0.27080623],\n",
       "       [0.25536412],\n",
       "       [0.27259428],\n",
       "       [0.26690507],\n",
       "       [0.27064368],\n",
       "       [0.28299739],\n",
       "       [0.29047465],\n",
       "       [0.28754877],\n",
       "       [0.29226267],\n",
       "       [0.29405071],\n",
       "       [0.28429778],\n",
       "       [0.29112483],\n",
       "       [0.27048113],\n",
       "       [0.26869311],\n",
       "       [0.27633289],\n",
       "       [0.28429778],\n",
       "       [0.31745774],\n",
       "       [0.32347203],\n",
       "       [0.33224968],\n",
       "       [0.32282185],\n",
       "       [0.32948635],\n",
       "       [0.31453186],\n",
       "       [0.32899869],\n",
       "       [0.32704812],\n",
       "       [0.32753575],\n",
       "       [0.33371262],\n",
       "       [0.329974  ],\n",
       "       [0.40929779],\n",
       "       [0.43481794],\n",
       "       [0.44148244],\n",
       "       [0.42766578],\n",
       "       [0.43302989],\n",
       "       [0.43140443],\n",
       "       [0.42360207],\n",
       "       [0.420026  ],\n",
       "       [0.4013329 ],\n",
       "       [0.44083226],\n",
       "       [0.42571522],\n",
       "       [0.49853706],\n",
       "       [0.47561768],\n",
       "       [0.52015604],\n",
       "       [0.55559168],\n",
       "       [0.59151494],\n",
       "       [0.66693755],\n",
       "       [0.65523409],\n",
       "       [0.69408323],\n",
       "       [0.65393367],\n",
       "       [0.67880367],\n",
       "       [0.76365408],\n",
       "       [0.70286088],\n",
       "       [0.71944086],\n",
       "       [0.73585826],\n",
       "       [0.71098832],\n",
       "       [0.76609234],\n",
       "       [0.77909623],\n",
       "       [0.87873864],\n",
       "       [0.84834197],\n",
       "       [0.85126786],\n",
       "       [0.85630689],\n",
       "       [0.79990245],\n",
       "       [0.71586477],\n",
       "       [0.75845253],\n",
       "       [0.71570218],\n",
       "       [0.67815346],\n",
       "       [0.71180105],\n",
       "       [0.73537063],\n",
       "       [0.69392065],\n",
       "       [0.71358909],\n",
       "       [0.66092327],\n",
       "       [0.64466839],\n",
       "       [0.68563069],\n",
       "       [0.70464886],\n",
       "       [0.72626788],\n",
       "       [0.73797141],\n",
       "       [0.77421978],\n",
       "       [0.75195061],\n",
       "       [0.74268528],\n",
       "       [0.72252926],\n",
       "       [0.69473344],\n",
       "       [0.72854355],\n",
       "       [0.7649545 ],\n",
       "       [0.77080627],\n",
       "       [0.84801693],\n",
       "       [0.843303  ],\n",
       "       [0.79941482],\n",
       "       [0.86085824],\n",
       "       [0.93628085],\n",
       "       [0.99772433],\n",
       "       [0.98699611],\n",
       "       [0.98878416],\n",
       "       [0.96797787],\n",
       "       [0.89320547],\n",
       "       [0.92847852],\n",
       "       [0.91661247],\n",
       "       [0.92685306],\n",
       "       [0.98553317],\n",
       "       [0.95367363],\n",
       "       [0.95887518],\n",
       "       [0.90750978],\n",
       "       [0.92734068],\n",
       "       [0.90507152],\n",
       "       [0.904909  ],\n",
       "       [0.88507803],\n",
       "       [0.92100129],\n",
       "       [0.91482442],\n",
       "       [0.89970738],\n",
       "       [0.93871911],\n",
       "       [1.        ],\n",
       "       [0.97431727],\n",
       "       [0.95822497],\n",
       "       [0.95139789],\n",
       "       [0.94131989],\n",
       "       [0.91027307],\n",
       "       [0.86329649],\n",
       "       [0.87321198],\n",
       "       [0.80234071],\n",
       "       [0.77682055],\n",
       "       [0.82152146],\n",
       "       [0.73943435],\n",
       "       [0.72269179],\n",
       "       [0.78738619],\n",
       "       [0.68221718],\n",
       "       [0.65360856],\n",
       "       [0.61703509],\n",
       "       [0.59801691],\n",
       "       [0.55087775],\n",
       "       [0.65068268],\n",
       "       [0.65019505],\n",
       "       [0.7267555 ],\n",
       "       [0.71814044],\n",
       "       [0.70887517],\n",
       "       [0.68855657],\n",
       "       [0.7061118 ],\n",
       "       [0.65523409],\n",
       "       [0.68319243],\n",
       "       [0.67652793],\n",
       "       [0.64791938],\n",
       "       [0.57932378],\n",
       "       [0.59525355],\n",
       "       [0.56583227],\n",
       "       [0.5557542 ],\n",
       "       [0.58891416],\n",
       "       [0.61215864],\n",
       "       [0.62321196],\n",
       "       [0.61752278],\n",
       "       [0.62873862],\n",
       "       [0.58436281],\n",
       "       [0.60760729],\n",
       "       [0.59817943],\n",
       "       [0.58224966],\n",
       "       [0.6040312 ],\n",
       "       [0.5802991 ],\n",
       "       [0.55819245],\n",
       "       [0.56518206],\n",
       "       [0.5763979 ],\n",
       "       [0.57883615],\n",
       "       [0.61085828],\n",
       "       [0.62174902],\n",
       "       [0.64629392],\n",
       "       [0.67132638],\n",
       "       [0.64840701],\n",
       "       [0.6480819 ],\n",
       "       [0.61232122],\n",
       "       [0.62613784],\n",
       "       [0.62126139],\n",
       "       [0.59509103],\n",
       "       [0.59151494],\n",
       "       [0.57477243],\n",
       "       [0.57899868],\n",
       "       [0.5365735 ],\n",
       "       [0.54535109],\n",
       "       [0.52600781],\n",
       "       [0.48602079],\n",
       "       [0.5217815 ],\n",
       "       [0.52812096],\n",
       "       [0.53429777],\n",
       "       [0.52243171],\n",
       "       [0.5365735 ],\n",
       "       [0.53218468],\n",
       "       [0.56193107],\n",
       "       [0.56485695],\n",
       "       [0.59232767],\n",
       "       [0.6110208 ],\n",
       "       [0.60630687],\n",
       "       [0.66677503],\n",
       "       [0.64759427],\n",
       "       [0.64336803],\n",
       "       [0.66027306],\n",
       "       [0.68855657],\n",
       "       [0.686606  ],\n",
       "       [0.67327701],\n",
       "       [0.67360205],\n",
       "       [0.72106632],\n",
       "       [0.73520805],\n",
       "       [0.71245126],\n",
       "       [0.71033811],\n",
       "       [0.74837452],\n",
       "       [0.74105981],\n",
       "       [0.73455784],\n",
       "       [0.69538359],\n",
       "       [0.7166775 ],\n",
       "       [0.71749023],\n",
       "       [0.71115084],\n",
       "       [0.78153448],\n",
       "       [0.79681404],\n",
       "       [0.843303  ],\n",
       "       [0.8059168 ],\n",
       "       [0.79778936]])"
      ]
     },
     "execution_count": 8,
     "metadata": {},
     "output_type": "execute_result"
    }
   ],
   "source": [
    "# Scale the data\n",
    "scaler = MinMaxScaler(feature_range=(0,1))\n",
    "scaled_data = scaler.fit_transform(dataset)\n",
    "scaled_data"
   ]
  },
  {
   "cell_type": "code",
   "execution_count": 9,
   "metadata": {
    "colab": {
     "base_uri": "https://localhost:8080/"
    },
    "id": "f16_xipl2Sv3",
    "outputId": "ee2c223b-2d9b-449f-dc5a-d00d3212187e"
   },
   "outputs": [
    {
     "name": "stdout",
     "output_type": "stream",
     "text": [
      "[array([0.08582575, 0.16710014, 0.13946683, 0.11671001, 0.10338101,\n",
      "       0.11671001, 0.12126137, 0.11817295, 0.10646944, 0.10175552,\n",
      "       0.10045514, 0.09249025, 0.0920026 , 0.08582575, 0.07493498,\n",
      "       0.08094929, 0.08013654, 0.08029909, 0.07672302, 0.0986671 ,\n",
      "       0.10451885, 0.09525357, 0.09980494, 0.1056567 , 0.10923277,\n",
      "       0.10484395, 0.10045514, 0.09752926, 0.09281535, 0.08923927,\n",
      "       0.07883615, 0.08338751, 0.08176203, 0.07916125, 0.07526007,\n",
      "       0.07444733, 0.08615084, 0.08403771, 0.08712613, 0.08257477,\n",
      "       0.08810143, 0.08728869, 0.08858908, 0.08663849, 0.08875163,\n",
      "       0.09395318, 0.09785436, 0.09541612, 0.1059818 , 0.10321847,\n",
      "       0.10386866, 0.09980494, 0.098342  , 0.10013004, 0.11053316,\n",
      "       0.10516905, 0.10386866, 0.10175552, 0.09362809, 0.098342  ])]\n",
      "[0.09216514482179854]\n",
      "\n"
     ]
    }
   ],
   "source": [
    "# Create training Dataset\n",
    "#create the scaled Training Data Set\n",
    "train_data = scaled_data[0:training_data_len,:]\n",
    "#split the data into x_train and y_train data sets\n",
    "x_train = []\n",
    "y_train = []\n",
    "\n",
    "for i in range(60, len(train_data)):\n",
    "  x_train.append(train_data[i-60:i,0])\n",
    "  y_train.append(train_data[i,0])\n",
    "  if i<=60:\n",
    "    print(x_train)\n",
    "    print(y_train)\n",
    "    print()"
   ]
  },
  {
   "cell_type": "code",
   "execution_count": 10,
   "metadata": {
    "id": "YA4NqFsVRHMd"
   },
   "outputs": [],
   "source": [
    "# convert the x_train and y_train to numpy arrays\n",
    "x_train, y_train = np.array(x_train), np.array(y_train)"
   ]
  },
  {
   "cell_type": "code",
   "execution_count": 11,
   "metadata": {
    "colab": {
     "base_uri": "https://localhost:8080/"
    },
    "id": "B1zINDS3RriC",
    "outputId": "f3e0180e-f3c1-4987-df00-3dc10a76e37b"
   },
   "outputs": [
    {
     "name": "stdout",
     "output_type": "stream",
     "text": [
      "506 60\n"
     ]
    }
   ],
   "source": [
    "samples,time_steps = x_train.shape\n",
    "print(samples,time_steps)"
   ]
  },
  {
   "cell_type": "code",
   "execution_count": 12,
   "metadata": {
    "colab": {
     "base_uri": "https://localhost:8080/"
    },
    "id": "zaeN9u--RUIx",
    "outputId": "fbc1919f-9ee7-4e4f-eb7d-f2b2bb1cecd9"
   },
   "outputs": [
    {
     "data": {
      "text/plain": [
       "(506, 60, 1)"
      ]
     },
     "execution_count": 12,
     "metadata": {},
     "output_type": "execute_result"
    }
   ],
   "source": [
    "# Reshaping the data\n",
    "x_train = np.reshape((x_train),(samples,time_steps,1))\n",
    "x_train.shape"
   ]
  },
  {
   "cell_type": "code",
   "execution_count": 13,
   "metadata": {
    "id": "t6cbgTx2RWs6"
   },
   "outputs": [],
   "source": [
    "# Building the LSTM Model\n",
    "model = Sequential()\n",
    "# Creating Layers\n",
    "model.add(LSTM(50, return_sequences=True, input_shape=(time_steps,1)))\n",
    "model.add(LSTM(50, return_sequences=False))\n",
    "model.add(Dense(25))\n",
    "model.add(Dense(1))"
   ]
  },
  {
   "cell_type": "code",
   "execution_count": 14,
   "metadata": {
    "id": "GCPh8AaeS7Cd"
   },
   "outputs": [],
   "source": [
    "# Compiling the model\n",
    "# Loss function is used to measure how well the model did on training.\n",
    "model.compile(optimizer='adam', loss='mean_squared_error')"
   ]
  },
  {
   "cell_type": "code",
   "execution_count": 15,
   "metadata": {
    "colab": {
     "base_uri": "https://localhost:8080/"
    },
    "id": "22LJOS7cTSuW",
    "outputId": "b6699d2a-fe9a-4bb1-d77d-dbaaedb3af45"
   },
   "outputs": [
    {
     "name": "stdout",
     "output_type": "stream",
     "text": [
      "Epoch 1/2\n",
      "Epoch 2/2\n"
     ]
    },
    {
     "data": {
      "text/plain": [
       "<keras.callbacks.History at 0x7ffa4689d6a0>"
      ]
     },
     "execution_count": 15,
     "metadata": {},
     "output_type": "execute_result"
    }
   ],
   "source": [
    "#training the Model\n",
    "# Batch size is the total number of training examples present in a single batch\n",
    "# Epoch is the iterations when an entire dataset is passed forward and backward through a neural network\n",
    "model.fit(x_train, y_train, batch_size=1, epochs=2,verbose=5)"
   ]
  },
  {
   "cell_type": "code",
   "execution_count": 16,
   "metadata": {
    "id": "eR3ZRkV0T4jE"
   },
   "outputs": [],
   "source": [
    "# creating the Testing dataset \n",
    "# Array that contained scaled values test_data = scaled_data[training_data_len - 60:through the end, all columns]\n",
    "\n",
    "test_data = scaled_data[training_data_len-60: , :]\n",
    "# Creating testing datasets \n",
    "x_test = []\n",
    "y_test = dataset[training_data_len: , :]\n",
    "\n",
    "for i in range(60, len(test_data)):\n",
    "  x_test.append(test_data[i-60:i,0])\n",
    "  \n"
   ]
  },
  {
   "cell_type": "code",
   "execution_count": 17,
   "metadata": {
    "id": "aFz2AQ0oU4gx"
   },
   "outputs": [],
   "source": [
    "# Converting data to a numpy Array\n",
    "x_test = np.array(x_test)\n"
   ]
  },
  {
   "cell_type": "code",
   "execution_count": 18,
   "metadata": {
    "id": "hV5oS2neVCZT"
   },
   "outputs": [],
   "source": [
    "# Reshaping the data, because LST model is expecting a 3 dimensional array\n",
    "# x_test.shape[0] represents the number of Rows, \n",
    "#  x_test.shape[1] represents the number of time steps\n",
    "# 3rd element in the dimensional array (1) represents the close price\n",
    "x_test = np.reshape(x_test, (x_test.shape[0], x_test.shape[1], 1))"
   ]
  },
  {
   "cell_type": "code",
   "execution_count": null,
   "metadata": {
    "id": "pgbSP2mqVie6"
   },
   "outputs": [],
   "source": [
    "# Get the models predicted price values\n",
    "# This step \"unscale\" the values\n",
    "\n",
    "predictions = model.predict(x_test)\n",
    "predictions = scaler.inverse_transform(predictions)\n"
   ]
  },
  {
   "cell_type": "markdown",
   "metadata": {
    "id": "2cSJNiQRWc_B"
   },
   "source": [
    "Model Evaluation"
   ]
  },
  {
   "cell_type": "code",
   "execution_count": null,
   "metadata": {
    "colab": {
     "base_uri": "https://localhost:8080/"
    },
    "id": "ebs8KLDlWKup",
    "outputId": "0e183bc9-23b2-437d-bf85-3e7bdc87af92"
   },
   "outputs": [],
   "source": [
    "# Evaluating our model, Getting the root mean error (RMSE), Model accuracy \n",
    "rmse = np.sqrt(np.mean(predictions-y_test)**2)\n",
    "rmse"
   ]
  },
  {
   "cell_type": "markdown",
   "metadata": {
    "id": "YqQZsxI3Wtsn"
   },
   "source": [
    "Plotting the Data\n"
   ]
  },
  {
   "cell_type": "code",
   "execution_count": null,
   "metadata": {
    "colab": {
     "base_uri": "https://localhost:8080/"
    },
    "id": "ZfnisDSUW-9_",
    "outputId": "6c2c2fc1-d480-431d-96da-40d45ece720b"
   },
   "outputs": [],
   "source": [
    "train = data[:training_data_len]\n",
    "valid = data[training_data_len:]\n",
    "valid['predictions'] = predictions"
   ]
  },
  {
   "cell_type": "code",
   "execution_count": null,
   "metadata": {
    "colab": {
     "base_uri": "https://localhost:8080/",
     "height": 573
    },
    "id": "rGoSibJwXMme",
    "outputId": "fd3a9350-dafb-4f6b-a535-d7b5648c48d3"
   },
   "outputs": [],
   "source": [
    "# Visualize the models data\n",
    "plt.figure(figsize=(18,9))\n",
    "plt.title('Model')\n",
    "plt.xlabel(\"Date\", fontsize=18)\n",
    "plt.ylabel(\"Close Price USD\", fontsize=18)\n",
    "plt.plot(train['close'])\n",
    "plt.plot(valid[['close','predictions']])\n",
    "plt.legend(['Train','val','predictions'], loc='lower right')\n",
    "plt.show()"
   ]
  },
  {
   "cell_type": "code",
   "execution_count": null,
   "metadata": {
    "colab": {
     "base_uri": "https://localhost:8080/",
     "height": 450
    },
    "id": "AI_Ruc8TYFUz",
    "outputId": "347a19d6-607a-4a15-ffcc-29567747c04b"
   },
   "outputs": [],
   "source": [
    "# show the Valid(actual prices) and the predicted prices\n",
    "valid"
   ]
  },
  {
   "cell_type": "code",
   "execution_count": null,
   "metadata": {
    "id": "FBdRH0RcYiNE"
   },
   "outputs": [],
   "source": [
    "# Saving Model\n",
    "model.save(niolimited_model.h5\")"
   ]
  },
  {
   "cell_type": "code",
   "execution_count": null,
   "metadata": {},
   "outputs": [],
   "source": []
  }
 ],
 "metadata": {
  "colab": {
   "collapsed_sections": [],
   "name": "Stockprer.ipynb",
   "provenance": []
  },
  "kernelspec": {
   "display_name": "Python 3",
   "language": "python",
   "name": "python3"
  },
  "language_info": {
   "codemirror_mode": {
    "name": "ipython",
    "version": 3
   },
   "file_extension": ".py",
   "mimetype": "text/x-python",
   "name": "python",
   "nbconvert_exporter": "python",
   "pygments_lexer": "ipython3",
   "version": "3.8.5"
  }
 },
 "nbformat": 4,
 "nbformat_minor": 1
}
