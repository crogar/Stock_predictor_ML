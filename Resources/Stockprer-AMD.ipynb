{
 "cells": [
  {
   "cell_type": "markdown",
   "metadata": {},
   "source": [
    "<h1 style=\"text-align:center;\"> LSTM for Stock Market Prediction</h1>\n",
    "<h2 style=\"text-align:center;\"> Andvanced Micro Deviced</h2>"
   ]
  },
  {
   "cell_type": "markdown",
   "metadata": {},
   "source": [
    "<p style=\"font-size:18px;color:gray;\"> <strong>Step 1:</strong> For this Predictive model we will utilize some modules that are necessary to obtain, create and visualize this predictive model such as <span class=\"py-modules\">sqlalchemy</span>, <span class=\"py-modules\">NumPy</span>, <span class=\"py-modules\">Pandas</span>, <span class=\"py-modules\">SciKitlearn</span>, <span class=\"py-modules\">MatPlotLib</span>, and <span class=\"py-modules\">Keras</span>.</p>"
   ]
  },
  {
   "cell_type": "code",
   "execution_count": 1,
   "metadata": {
    "id": "8VLZ0u3HpszS"
   },
   "outputs": [],
   "source": [
    "import math\n",
    "import numpy as np\n",
    "import pandas as pd\n",
    "from sklearn.preprocessing import MinMaxScaler\n",
    "from keras.models import Sequential\n",
    "from keras.layers import Dense, LSTM\n",
    "import matplotlib.pyplot as plt\n",
    "import datetime as dt\n",
    "import requests\n",
    "from sqlalchemy import create_engine\n",
    "from config import password"
   ]
  },
  {
   "cell_type": "markdown",
   "metadata": {},
   "source": [
    "<p style=\"font-size:18px;color:gray;\"> <strong style=\"line-height: 0px;\">Step 2:</strong> </p> <p style=\"font-size:18px;color:gray;line-height:normal;\"> Now, we start building our model by first defining the dataset that the model will train on. We're using datasets from NASDAQ provided by <a href=\"https://finance.yahoo.com/\">https://finance.yahoo.com/</a>. For this example were using <span style=\"color:blue;\">Advanced Micro Devices (AMD)</span> historical data.\n",
    "\n",
    " <p style=\"font-size:18px;color:gray;\"> After pulling the data from our SQL database we read it using the the csv built-in function included in the Pandas library.</p>"
   ]
  },
  {
   "cell_type": "code",
   "execution_count": 2,
   "metadata": {},
   "outputs": [],
   "source": [
    "# Connecting to Database\n",
    "connection_string = f\"ofygklqv:{password}@batyr.db.elephantsql.com:5432/ofygklqv\"\n",
    "engine = create_engine(f'postgresql://{connection_string}', pool_size=2, pool_recycle=1200, connect_args={'connect_timeout': 10},\n",
    "client_encoding=\"utf8\", pool_pre_ping=True)"
   ]
  },
  {
   "cell_type": "code",
   "execution_count": 3,
   "metadata": {},
   "outputs": [
    {
     "name": "stdout",
     "output_type": "stream",
     "text": [
      "(1258, 7)\n"
     ]
    }
   ],
   "source": [
    "ticker = \"AMD\"\n",
    "df = pd.read_sql_query('select * from ticker', con=engine)\n",
    "id = df[df['symbol']==ticker]['stock_id'].values[0] # returning ID for the specified ticker(symbol)\n",
    "df = pd.read_sql_query(f'select * from stock WHERE stock_id = {id}', con=engine)\n",
    "print(df.shape)\n",
    "df[\"date\"]=pd.to_datetime(df.date,format=\"%Y-%m-%d\")\n",
    "df.index = df['date']\n",
    "df = df[[\"close\"]]"
   ]
  },
  {
   "cell_type": "markdown",
   "metadata": {},
   "source": [
    "#### Sort date and close\n",
    "<p style=\"font-size:14px;color:gray;\"> Since the dates and values are in descending order we need to reverse the dataframe</p>"
   ]
  },
  {
   "cell_type": "code",
   "execution_count": 4,
   "metadata": {
    "colab": {
     "base_uri": "https://localhost:8080/",
     "height": 450
    },
    "id": "5SXWtnOXygLD",
    "outputId": "d6163956-f1e2-4d59-fafc-5fe22d7f6c56"
   },
   "outputs": [
    {
     "data": {
      "text/html": [
       "<div>\n",
       "<style scoped>\n",
       "    .dataframe tbody tr th:only-of-type {\n",
       "        vertical-align: middle;\n",
       "    }\n",
       "\n",
       "    .dataframe tbody tr th {\n",
       "        vertical-align: top;\n",
       "    }\n",
       "\n",
       "    .dataframe thead th {\n",
       "        text-align: right;\n",
       "    }\n",
       "</style>\n",
       "<table border=\"1\" class=\"dataframe\">\n",
       "  <thead>\n",
       "    <tr style=\"text-align: right;\">\n",
       "      <th></th>\n",
       "      <th>close</th>\n",
       "    </tr>\n",
       "    <tr>\n",
       "      <th>date</th>\n",
       "      <th></th>\n",
       "    </tr>\n",
       "  </thead>\n",
       "  <tbody>\n",
       "    <tr>\n",
       "      <th>2016-07-06</th>\n",
       "      <td>5.040000</td>\n",
       "    </tr>\n",
       "    <tr>\n",
       "      <th>2016-07-07</th>\n",
       "      <td>5.020000</td>\n",
       "    </tr>\n",
       "    <tr>\n",
       "      <th>2016-07-08</th>\n",
       "      <td>5.100000</td>\n",
       "    </tr>\n",
       "    <tr>\n",
       "      <th>2016-07-11</th>\n",
       "      <td>5.010000</td>\n",
       "    </tr>\n",
       "    <tr>\n",
       "      <th>2016-07-12</th>\n",
       "      <td>5.140000</td>\n",
       "    </tr>\n",
       "    <tr>\n",
       "      <th>...</th>\n",
       "      <td>...</td>\n",
       "    </tr>\n",
       "    <tr>\n",
       "      <th>2021-06-28</th>\n",
       "      <td>87.080002</td>\n",
       "    </tr>\n",
       "    <tr>\n",
       "      <th>2021-06-29</th>\n",
       "      <td>89.519997</td>\n",
       "    </tr>\n",
       "    <tr>\n",
       "      <th>2021-06-30</th>\n",
       "      <td>93.930000</td>\n",
       "    </tr>\n",
       "    <tr>\n",
       "      <th>2021-07-01</th>\n",
       "      <td>93.309998</td>\n",
       "    </tr>\n",
       "    <tr>\n",
       "      <th>2021-07-02</th>\n",
       "      <td>94.699997</td>\n",
       "    </tr>\n",
       "  </tbody>\n",
       "</table>\n",
       "<p>1258 rows × 1 columns</p>\n",
       "</div>"
      ],
      "text/plain": [
       "                close\n",
       "date                 \n",
       "2016-07-06   5.040000\n",
       "2016-07-07   5.020000\n",
       "2016-07-08   5.100000\n",
       "2016-07-11   5.010000\n",
       "2016-07-12   5.140000\n",
       "...               ...\n",
       "2021-06-28  87.080002\n",
       "2021-06-29  89.519997\n",
       "2021-06-30  93.930000\n",
       "2021-07-01  93.309998\n",
       "2021-07-02  94.699997\n",
       "\n",
       "[1258 rows x 1 columns]"
      ]
     },
     "execution_count": 4,
     "metadata": {},
     "output_type": "execute_result"
    }
   ],
   "source": [
    "df = df.iloc[::-1]\n",
    "df"
   ]
  },
  {
   "cell_type": "markdown",
   "metadata": {},
   "source": [
    "<p style=\"font-size:18px;color:gray;\"> <strong style=\"line-height: 0px;\">Step 3: Plotting the close prices</strong> </p> <p style=\"font-size:18px;color:gray;line-height:normal;\">We will plot the close prices using \"Close\" values as our dependent variable and Date as our independent variable (this is time scale).</p>\n"
   ]
  },
  {
   "cell_type": "code",
   "execution_count": 5,
   "metadata": {
    "colab": {
     "base_uri": "https://localhost:8080/",
     "height": 590
    },
    "id": "sLXGnuj7yhp1",
    "outputId": "31f92c17-9d64-4e4e-c4db-2f72d94b7d06",
    "scrolled": false
   },
   "outputs": [
    {
     "data": {
      "text/plain": [
       "Text(0, 0.5, 'Close Price USD')"
      ]
     },
     "execution_count": 5,
     "metadata": {},
     "output_type": "execute_result"
    },
    {
     "data": {
      "image/png": "[encoded data removed]",
      "text/plain": [
       "<Figure size 1152x648 with 1 Axes>"
      ]
     },
     "metadata": {
      "needs_background": "light"
     },
     "output_type": "display_data"
    }
   ],
   "source": [
    "plt.figure(figsize=(16,9))\n",
    "plt.title(\"Close Price History\")\n",
    "plt.plot(df['close'])\n",
    "plt.xlabel(\"Date\", fontsize=18)\n",
    "plt.ylabel(\"Close Price USD\")"
   ]
  },
  {
   "cell_type": "markdown",
   "metadata": {},
   "source": [
    "<p style=\"font-size:18px;color:gray;\"> <strong style=\"line-height: 0px;\">Step 4: Splitting the data into Training/Test sets </strong> </p> <p style=\"font-size:18px;color:gray;line-height:normal;\">Once the data has been cleaned and filtered, we need to split the data into train and test data, since our model doesn't utilize more than one variable, we can't use train_test_split found in <span class=\"py-modules\">sklearn</span> libray. We will use a 80-20 ratio for the splitting process.</p>"
   ]
  },
  {
   "cell_type": "code",
   "execution_count": 6,
   "metadata": {
    "id": "bPB0-GRczLp8"
   },
   "outputs": [],
   "source": [
    "# Create New DataFrame with close values\n",
    "data = df\n",
    "# Convert Dataframe to Numpy array\n",
    "dataset = data.values"
   ]
  },
  {
   "cell_type": "code",
   "execution_count": 7,
   "metadata": {
    "colab": {
     "base_uri": "https://localhost:8080/"
    },
    "id": "715JxRcz0qUZ",
    "outputId": "712e3b26-8154-4e26-cf7d-56643b3dcbfb"
   },
   "outputs": [
    {
     "data": {
      "text/plain": [
       "1007"
      ]
     },
     "execution_count": 7,
     "metadata": {},
     "output_type": "execute_result"
    }
   ],
   "source": [
    "#Get number of row to train our module\n",
    "training_data_len = math.ceil(len(dataset) * 0.80)\n",
    "training_data_len"
   ]
  },
  {
   "cell_type": "code",
   "execution_count": 8,
   "metadata": {
    "colab": {
     "base_uri": "https://localhost:8080/"
    },
    "id": "t11yFRnB0q1K",
    "outputId": "51a637df-5090-43ca-e30c-cd3eb04892da"
   },
   "outputs": [
    {
     "data": {
      "text/plain": [
       "array([[3.25235614e-04],\n",
       "       [1.08410148e-04],\n",
       "       [9.75712012e-04],\n",
       "       ...,\n",
       "       [9.64006942e-01],\n",
       "       [9.57285316e-01],\n",
       "       [9.72354694e-01]])"
      ]
     },
     "execution_count": 8,
     "metadata": {},
     "output_type": "execute_result"
    }
   ],
   "source": [
    "# Scale the data\n",
    "scaler = MinMaxScaler(feature_range=(0,1))\n",
    "scaled_data = scaler.fit_transform(dataset)\n",
    "scaled_data"
   ]
  },
  {
   "cell_type": "code",
   "execution_count": 9,
   "metadata": {
    "colab": {
     "base_uri": "https://localhost:8080/"
    },
    "id": "f16_xipl2Sv3",
    "outputId": "ee2c223b-2d9b-449f-dc5a-d00d3212187e"
   },
   "outputs": [
    {
     "name": "stdout",
     "output_type": "stream",
     "text": [
      "[array([0.00032524, 0.00010841, 0.00097571, 0.        , 0.00140936,\n",
      "       0.0008673 , 0.0017346 , 0.00140936, 0.00542064, 0.00433651,\n",
      "       0.00433651, 0.00227666, 0.00899826, 0.01832176, 0.02135733,\n",
      "       0.01994796, 0.01962272, 0.02005637, 0.01767129, 0.0135516 ,\n",
      "       0.01398526, 0.01582827, 0.01734605, 0.01810494, 0.01723764,\n",
      "       0.01604509, 0.01702081, 0.01864701, 0.02103209, 0.01918907,\n",
      "       0.01810494, 0.0220078 , 0.02829575, 0.0278621 , 0.02883781,\n",
      "       0.0262359 , 0.02666955, 0.02883781, 0.02797051, 0.02688638,\n",
      "       0.02591067, 0.0253686 , 0.02710321, 0.02526019, 0.01983955,\n",
      "       0.01322636, 0.00964874, 0.01008239, 0.00791413, 0.01116652,\n",
      "       0.01094969, 0.01127493, 0.01246747, 0.01257589, 0.01387684,\n",
      "       0.01474414, 0.01669558, 0.01420208, 0.01658716, 0.01712923])]\n",
      "[0.01799652917965295]\n",
      "\n"
     ]
    }
   ],
   "source": [
    "# Create training Dataset\n",
    "#create the scaled Training Data Set\n",
    "train_data = scaled_data[0:training_data_len,:]\n",
    "#split the data into x_train and y_train data sets\n",
    "x_train = []\n",
    "y_train = []\n",
    "\n",
    "for i in range(60, len(train_data)):\n",
    "  x_train.append(train_data[i-60:i,0])\n",
    "  y_train.append(train_data[i,0])\n",
    "  if i<=60:\n",
    "    print(x_train)\n",
    "    print(y_train)\n",
    "    print()"
   ]
  },
  {
   "cell_type": "code",
   "execution_count": 10,
   "metadata": {
    "id": "YA4NqFsVRHMd"
   },
   "outputs": [],
   "source": [
    "# convert the x_train and y_train to numpy arrays\n",
    "x_train, y_train = np.array(x_train), np.array(y_train)"
   ]
  },
  {
   "cell_type": "code",
   "execution_count": 11,
   "metadata": {
    "colab": {
     "base_uri": "https://localhost:8080/"
    },
    "id": "B1zINDS3RriC",
    "outputId": "f3e0180e-f3c1-4987-df00-3dc10a76e37b"
   },
   "outputs": [
    {
     "name": "stdout",
     "output_type": "stream",
     "text": [
      "947 60\n"
     ]
    }
   ],
   "source": [
    "samples,time_steps = x_train.shape\n",
    "print(samples,time_steps)"
   ]
  },
  {
   "cell_type": "code",
   "execution_count": 12,
   "metadata": {
    "colab": {
     "base_uri": "https://localhost:8080/"
    },
    "id": "zaeN9u--RUIx",
    "outputId": "fbc1919f-9ee7-4e4f-eb7d-f2b2bb1cecd9"
   },
   "outputs": [
    {
     "data": {
      "text/plain": [
       "(947, 60, 1)"
      ]
     },
     "execution_count": 12,
     "metadata": {},
     "output_type": "execute_result"
    }
   ],
   "source": [
    "# Reshaping the data\n",
    "x_train = np.reshape((x_train),(samples,time_steps,1))\n",
    "x_train.shape"
   ]
  },
  {
   "cell_type": "markdown",
   "metadata": {},
   "source": [
    "<p style=\"font-size:18px;color:gray;\"> <strong style=\"line-height: 0px;\">Step 5: LSTM build</strong> </p> <p style=\"font-size:18px;color:gray;line-height:normal;\">At this point our dataset is clean and scaled, this allows us to build the LSTM model that is going to process and predict the values. The two main parameters used are  optimizer=<span style=\"color:green;\">'adam'</span> and loss=<span style=\"color:green;\">'mean_squared_error'</span>; which are found in the <span class=\"py-modules\">LSTM</span> module</p>"
   ]
  },
  {
   "cell_type": "code",
   "execution_count": 13,
   "metadata": {
    "id": "t6cbgTx2RWs6"
   },
   "outputs": [],
   "source": [
    "# Building the LSTM Model\n",
    "model = Sequential()\n",
    "# Creating Layers\n",
    "model.add(LSTM(50, return_sequences=True, input_shape=(time_steps,1)))\n",
    "model.add(LSTM(50, return_sequences=False))\n",
    "model.add(Dense(25))\n",
    "model.add(Dense(1))"
   ]
  },
  {
   "cell_type": "code",
   "execution_count": 14,
   "metadata": {
    "id": "GCPh8AaeS7Cd"
   },
   "outputs": [],
   "source": [
    "# Compiling the model\n",
    "# Loss function is used to measure how well the model did on training.\n",
    "model.compile(optimizer='adam', loss='mean_squared_error')"
   ]
  },
  {
   "cell_type": "markdown",
   "metadata": {},
   "source": [
    "<p style=\"font-size:18px;color:gray;\"> <strong style=\"line-height: 0px;\">Step 6: Training our Model\n",
    "    </strong> </p> <p style=\"font-size:18px;color:gray;line-height:normal;\">It's time to train our model, this requires a x_train and y_train datasets, among other parameters. To see the meaning of these parameters please visit tensorflow's official website <a href=\"https://www.tensorflow.org/api_docs/python/tf/keras/layers/LSTM\">https://www.tensorflow.org/api_docs/python/tf/keras/layers/LSTM</a> </p>"
   ]
  },
  {
   "cell_type": "code",
   "execution_count": 15,
   "metadata": {
    "colab": {
     "base_uri": "https://localhost:8080/"
    },
    "id": "22LJOS7cTSuW",
    "outputId": "b6699d2a-fe9a-4bb1-d77d-dbaaedb3af45",
    "scrolled": true
   },
   "outputs": [
    {
     "name": "stdout",
     "output_type": "stream",
     "text": [
      "Epoch 1/2\n",
      "Epoch 2/2\n"
     ]
    },
    {
     "data": {
      "text/plain": [
       "<tensorflow.python.keras.callbacks.History at 0x23b49759eb8>"
      ]
     },
     "execution_count": 15,
     "metadata": {},
     "output_type": "execute_result"
    }
   ],
   "source": [
    "#training the Model\n",
    "# Batch size is the total number of training examples present in a single batch\n",
    "# Epoch is the iterations when an entire dataset is passed forward and backward through a neural network\n",
    "model.fit(x_train, y_train, batch_size=1, epochs=2,verbose=5)"
   ]
  },
  {
   "cell_type": "code",
   "execution_count": 16,
   "metadata": {
    "id": "eR3ZRkV0T4jE"
   },
   "outputs": [],
   "source": [
    "# creating the Testing dataset \n",
    "# Array that contained scaled values test_data = scaled_data[training_data_len - 60:through the end, all columns]\n",
    "\n",
    "test_data = scaled_data[training_data_len-60: , :]\n",
    "# Creating testing datasets \n",
    "x_test = []\n",
    "y_test = dataset[training_data_len: , :]\n",
    "\n",
    "for i in range(60, len(test_data)):\n",
    "  x_test.append(test_data[i-60:i,0])\n",
    "  \n"
   ]
  },
  {
   "cell_type": "code",
   "execution_count": 17,
   "metadata": {
    "id": "aFz2AQ0oU4gx"
   },
   "outputs": [],
   "source": [
    "# Converting data to a numpy Array\n",
    "x_test = np.array(x_test)\n"
   ]
  },
  {
   "cell_type": "code",
   "execution_count": 18,
   "metadata": {
    "id": "hV5oS2neVCZT"
   },
   "outputs": [],
   "source": [
    "# Reshaping the data, because LST model is expecting a 3 dimensional array\n",
    "# x_test.shape[0] represents the number of Rows, \n",
    "#  x_test.shape[1] represents the number of time steps\n",
    "# 3rd element in the dimensional array (1) represents the close price\n",
    "x_test = np.reshape(x_test, (x_test.shape[0], x_test.shape[1], 1))"
   ]
  },
  {
   "cell_type": "markdown",
   "metadata": {},
   "source": [
    "<p style=\"font-size:18px;color:gray;\"> <strong style=\"line-height: 0px;\">Step 7: Make/Perform the Predictions\n",
    "    </strong> </p> <p style=\"font-size:18px;color:gray;line-height:normal;\">To make our predictions we need make use of our x_test dataset, it's important to mention that this numpy array must be a three dimensional array(see description in cell above)</p>"
   ]
  },
  {
   "cell_type": "code",
   "execution_count": 19,
   "metadata": {
    "id": "pgbSP2mqVie6"
   },
   "outputs": [],
   "source": [
    "# Get the models predicted price values\n",
    "# This step \"unscale\" the values\n",
    "\n",
    "predictions = model.predict(x_test)\n",
    "predictions = scaler.inverse_transform(predictions)\n"
   ]
  },
  {
   "cell_type": "markdown",
   "metadata": {
    "id": "2cSJNiQRWc_B"
   },
   "source": [
    "<p style=\"font-size:18px;color:gray;\"> <strong style=\"line-height: 0px;\">Step 8: Model Evaluation\n",
    "    </strong> </p> <p style=\"font-size:18px;color:gray;line-height:normal;\">For the model evaluation we'll utilize RMSE as our main indicator</p>"
   ]
  },
  {
   "cell_type": "code",
   "execution_count": 20,
   "metadata": {
    "colab": {
     "base_uri": "https://localhost:8080/"
    },
    "id": "ebs8KLDlWKup",
    "outputId": "0e183bc9-23b2-437d-bf85-3e7bdc87af92"
   },
   "outputs": [
    {
     "data": {
      "text/plain": [
       "0.196448200727364"
      ]
     },
     "execution_count": 20,
     "metadata": {},
     "output_type": "execute_result"
    }
   ],
   "source": [
    "# Evaluating our model, Getting the root mean error (RMSE), Model accuracy \n",
    "rmse = np.sqrt(np.mean(predictions-y_test)**2)\n",
    "rmse"
   ]
  },
  {
   "cell_type": "markdown",
   "metadata": {
    "id": "YqQZsxI3Wtsn"
   },
   "source": [
    "<p style=\"font-size:18px;color:gray;\"> <strong style=\"line-height: 0px;\">Step 9: Plotting trained, tested and predicted datasets.\n",
    "    </strong> </p> <p style=\"font-size:18px;color:gray;line-height:normal;\">During this step we will use our training data, test data and predictions to easily visualize the accuracy of our model. Our training data represents the 80% of the original data set, and the teste data the rest; our predicted values has the same length as our test data but this data has been already processed by our model</p>"
   ]
  },
  {
   "cell_type": "code",
   "execution_count": 21,
   "metadata": {},
   "outputs": [
    {
     "name": "stderr",
     "output_type": "stream",
     "text": [
      "C:\\Users\\admin\\anaconda3\\envs\\PythonAdv\\lib\\site-packages\\ipykernel_launcher.py:3: SettingWithCopyWarning: \n",
      "A value is trying to be set on a copy of a slice from a DataFrame.\n",
      "Try using .loc[row_indexer,col_indexer] = value instead\n",
      "\n",
      "See the caveats in the documentation: https://pandas.pydata.org/pandas-docs/stable/user_guide/indexing.html#returning-a-view-versus-a-copy\n",
      "  This is separate from the ipykernel package so we can avoid doing imports until\n"
     ]
    }
   ],
   "source": [
    "train = data[:training_data_len]\n",
    "valid = data[training_data_len:]\n",
    "valid['predictions'] = predictions"
   ]
  },
  {
   "cell_type": "code",
   "execution_count": 22,
   "metadata": {
    "colab": {
     "base_uri": "https://localhost:8080/",
     "height": 573
    },
    "id": "rGoSibJwXMme",
    "outputId": "fd3a9350-dafb-4f6b-a535-d7b5648c48d3"
   },
   "outputs": [
    {
     "data": {
      "image/png": "[encoded data removed]",
      "text/plain": [
       "<Figure size 1296x648 with 1 Axes>"
      ]
     },
     "metadata": {
      "needs_background": "light"
     },
     "output_type": "display_data"
    }
   ],
   "source": [
    "# Visualize the models data\n",
    "plt.figure(figsize=(18,9))\n",
    "plt.title('Model')\n",
    "plt.xlabel(\"Date\", fontsize=18)\n",
    "plt.ylabel(\"Close Price USD\", fontsize=18)\n",
    "plt.plot(train['close'])\n",
    "plt.plot(valid[['close','predictions']])\n",
    "plt.legend(['Train','val','predictions'], loc='lower right')\n",
    "plt.show()"
   ]
  },
  {
   "cell_type": "code",
   "execution_count": 23,
   "metadata": {
    "colab": {
     "base_uri": "https://localhost:8080/",
     "height": 450
    },
    "id": "AI_Ruc8TYFUz",
    "outputId": "347a19d6-607a-4a15-ffcc-29567747c04b",
    "scrolled": true
   },
   "outputs": [
    {
     "data": {
      "text/html": [
       "<div>\n",
       "<style scoped>\n",
       "    .dataframe tbody tr th:only-of-type {\n",
       "        vertical-align: middle;\n",
       "    }\n",
       "\n",
       "    .dataframe tbody tr th {\n",
       "        vertical-align: top;\n",
       "    }\n",
       "\n",
       "    .dataframe thead th {\n",
       "        text-align: right;\n",
       "    }\n",
       "</style>\n",
       "<table border=\"1\" class=\"dataframe\">\n",
       "  <thead>\n",
       "    <tr style=\"text-align: right;\">\n",
       "      <th></th>\n",
       "      <th>close</th>\n",
       "      <th>predictions</th>\n",
       "    </tr>\n",
       "    <tr>\n",
       "      <th>date</th>\n",
       "      <th></th>\n",
       "      <th></th>\n",
       "    </tr>\n",
       "  </thead>\n",
       "  <tbody>\n",
       "    <tr>\n",
       "      <th>2020-07-07</th>\n",
       "      <td>52.930000</td>\n",
       "      <td>53.568157</td>\n",
       "    </tr>\n",
       "    <tr>\n",
       "      <th>2020-07-08</th>\n",
       "      <td>53.430000</td>\n",
       "      <td>53.794403</td>\n",
       "    </tr>\n",
       "    <tr>\n",
       "      <th>2020-07-09</th>\n",
       "      <td>57.259998</td>\n",
       "      <td>54.064930</td>\n",
       "    </tr>\n",
       "    <tr>\n",
       "      <th>2020-07-10</th>\n",
       "      <td>55.880001</td>\n",
       "      <td>54.920929</td>\n",
       "    </tr>\n",
       "    <tr>\n",
       "      <th>2020-07-13</th>\n",
       "      <td>53.590000</td>\n",
       "      <td>55.661999</td>\n",
       "    </tr>\n",
       "    <tr>\n",
       "      <th>...</th>\n",
       "      <td>...</td>\n",
       "      <td>...</td>\n",
       "    </tr>\n",
       "    <tr>\n",
       "      <th>2021-06-28</th>\n",
       "      <td>87.080002</td>\n",
       "      <td>85.073189</td>\n",
       "    </tr>\n",
       "    <tr>\n",
       "      <th>2021-06-29</th>\n",
       "      <td>89.519997</td>\n",
       "      <td>85.729874</td>\n",
       "    </tr>\n",
       "    <tr>\n",
       "      <th>2021-06-30</th>\n",
       "      <td>93.930000</td>\n",
       "      <td>86.720169</td>\n",
       "    </tr>\n",
       "    <tr>\n",
       "      <th>2021-07-01</th>\n",
       "      <td>93.309998</td>\n",
       "      <td>88.386887</td>\n",
       "    </tr>\n",
       "    <tr>\n",
       "      <th>2021-07-02</th>\n",
       "      <td>94.699997</td>\n",
       "      <td>89.889236</td>\n",
       "    </tr>\n",
       "  </tbody>\n",
       "</table>\n",
       "<p>251 rows × 2 columns</p>\n",
       "</div>"
      ],
      "text/plain": [
       "                close  predictions\n",
       "date                              \n",
       "2020-07-07  52.930000    53.568157\n",
       "2020-07-08  53.430000    53.794403\n",
       "2020-07-09  57.259998    54.064930\n",
       "2020-07-10  55.880001    54.920929\n",
       "2020-07-13  53.590000    55.661999\n",
       "...               ...          ...\n",
       "2021-06-28  87.080002    85.073189\n",
       "2021-06-29  89.519997    85.729874\n",
       "2021-06-30  93.930000    86.720169\n",
       "2021-07-01  93.309998    88.386887\n",
       "2021-07-02  94.699997    89.889236\n",
       "\n",
       "[251 rows x 2 columns]"
      ]
     },
     "execution_count": 23,
     "metadata": {},
     "output_type": "execute_result"
    }
   ],
   "source": [
    "# show the Valid(actual prices) and the predicted prices\n",
    "valid"
   ]
  },
  {
   "cell_type": "markdown",
   "metadata": {},
   "source": [
    "#### Storing predicted values in our Database"
   ]
  },
  {
   "cell_type": "code",
   "execution_count": 24,
   "metadata": {},
   "outputs": [
    {
     "name": "stderr",
     "output_type": "stream",
     "text": [
      "C:\\Users\\admin\\anaconda3\\envs\\PythonAdv\\lib\\site-packages\\ipykernel_launcher.py:7: SettingWithCopyWarning: \n",
      "A value is trying to be set on a copy of a slice from a DataFrame.\n",
      "Try using .loc[row_indexer,col_indexer] = value instead\n",
      "\n",
      "See the caveats in the documentation: https://pandas.pydata.org/pandas-docs/stable/user_guide/indexing.html#returning-a-view-versus-a-copy\n",
      "  import sys\n"
     ]
    }
   ],
   "source": [
    "# Clearing previous predicted values\n",
    "from sqlalchemy.sql import text\n",
    "\n",
    "with engine.connect() as con:\n",
    "    query = text(\"\"\"Truncate predicted CASCADE\"\"\")\n",
    "    con.execute(query)\n",
    "valid['stock_id'] = id\n",
    "valid.reset_index(drop=True,inplace=True)\n",
    "valid.to_sql(name='predicted', con=engine, if_exists='append', index=False)"
   ]
  },
  {
   "cell_type": "markdown",
   "metadata": {},
   "source": [
    "<p style=\"font-size:18px;color:gray;\"> <strong style=\"line-height: 0px;\">Step 10: Saving Model(h5).\n",
    "    </strong> </p> <p style=\"font-size:18px;color:gray;line-height:normal;\">Finally that we have verified our model accuracy and performance we can save it.</p>"
   ]
  },
  {
   "cell_type": "code",
   "execution_count": 25,
   "metadata": {
    "id": "FBdRH0RcYiNE"
   },
   "outputs": [],
   "source": [
    "# Saving Model\n",
    "model.save(\"advmicrodevice_model.h5\")"
   ]
  },
  {
   "cell_type": "markdown",
   "metadata": {},
   "source": [
    "<p style=\"font-size:22px;color:black;text-align:center\"> <strong style=\"line-height: 0px;\">Conclusion\n",
    "    </strong> </p> <p style=\"font-size:18px;color:gray;line-height:normal;\">LSTM can be applied to predict future stock values on different markets. Even though this model can be very accurate, this doesn't mean it can be used by itself to make decisions, this must be use in conjuntion with risk analysis, financial analysis and market evaluation. Please do not use this models as definitive tool to predict the market! </p>"
   ]
  }
 ],
 "metadata": {
  "colab": {
   "collapsed_sections": [],
   "name": "Stockprer.ipynb",
   "provenance": []
  },
  "kernelspec": {
   "display_name": "Python 3",
   "language": "python",
   "name": "python3"
  },
  "language_info": {
   "codemirror_mode": {
    "name": "ipython",
    "version": 3
   },
   "file_extension": ".py",
   "mimetype": "text/x-python",
   "name": "python",
   "nbconvert_exporter": "python",
   "pygments_lexer": "ipython3",
   "version": "3.6.13"
  }
 },
 "nbformat": 4,
 "nbformat_minor": 1
}
